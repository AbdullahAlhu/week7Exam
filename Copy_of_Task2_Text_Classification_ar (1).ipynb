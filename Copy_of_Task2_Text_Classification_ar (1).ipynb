{
  "cells": [
    {
      "cell_type": "markdown",
      "metadata": {
        "id": "bsurCNok43DL"
      },
      "source": [
        "# Text Classification Exam\n",
        "\n",
        "Welcome to the Text Classification Practical Exam. In this exam, you will be tasked with building, training, and evaluating an NLP model to classify text data. You are provided with a labeled dataset containing both the text and its corresponding class labels.\n",
        "\n",
        "Your objective is to develop a model that accurately predicts the class of the given text. Make sure to follow best practices in data preprocessing, model selection, and evaluation to achieve optimal results.\n",
        "\n",
        "Good luck!\n",
        "___"
      ]
    },
    {
      "cell_type": "markdown",
      "metadata": {
        "id": "oqw2El5mMxsz"
      },
      "source": [
        "# Install and Import Needed Libraries"
      ]
    },
    {
      "cell_type": "markdown",
      "metadata": {
        "id": "4dTkHbSHNB4y"
      },
      "source": [
        "You can use `pyarabic` or any other library to pre-process and clean the Arabic text."
      ]
    },
    {
      "cell_type": "code",
      "source": [
        "!pip install pyarabic"
      ],
      "metadata": {
        "colab": {
          "base_uri": "https://localhost:8080/"
        },
        "id": "28V8db_N-Wp4",
        "outputId": "a06229c2-ce62-492f-f999-81a1c695cf73"
      },
      "execution_count": 4,
      "outputs": [
        {
          "output_type": "stream",
          "name": "stdout",
          "text": [
            "Requirement already satisfied: pyarabic in /usr/local/lib/python3.10/dist-packages (0.6.15)\n",
            "Requirement already satisfied: six>=1.14.0 in /usr/local/lib/python3.10/dist-packages (from pyarabic) (1.16.0)\n"
          ]
        }
      ]
    },
    {
      "cell_type": "code",
      "execution_count": 5,
      "metadata": {
        "id": "z6mRe6i5Wqqc"
      },
      "outputs": [],
      "source": [
        "import pyarabic.araby as araby\n",
        "import pandas as pd\n"
      ]
    },
    {
      "cell_type": "markdown",
      "metadata": {
        "id": "Hq5KJRZ5Ph0Z"
      },
      "source": [
        "# Download the Dataset"
      ]
    },
    {
      "cell_type": "markdown",
      "metadata": {
        "id": "3riATTJ243DN"
      },
      "source": [
        "Please note that you are allowed to take a subset of this dataset, the reason for that is it might take a long time to train the model on."
      ]
    },
    {
      "cell_type": "code",
      "execution_count": 6,
      "metadata": {
        "id": "M1n3uTg043DN",
        "colab": {
          "base_uri": "https://localhost:8080/"
        },
        "outputId": "f5af4b7a-f946-4794-ae77-bcbf6279aeaa"
      },
      "outputs": [
        {
          "output_type": "stream",
          "name": "stdout",
          "text": [
            "Dataset URL: https://www.kaggle.com/datasets/khaledzsa/sanad\n",
            "License(s): unknown\n",
            "sanad.zip: Skipping, found more recently modified local copy (use --force to force download)\n",
            "Archive:  sanad.zip\n",
            "replace sanad.csv? [y]es, [n]o, [A]ll, [N]one, [r]ename: "
          ]
        }
      ],
      "source": [
        "!kaggle datasets download -d khaledzsa/sanad\n",
        "!unzip sanad.zip"
      ]
    },
    {
      "cell_type": "code",
      "source": [
        "import tensorflow as tf\n",
        "import numpy as np\n",
        "import pandas as pd\n",
        "import matplotlib.pyplot as plt\n",
        "from sklearn.model_selection import train_test_split\n",
        "from sklearn.preprocessing import LabelEncoder\n",
        "from tensorflow.keras.preprocessing.text import Tokenizer\n",
        "from tensorflow.keras.preprocessing.sequence import pad_sequences\n",
        "from tensorflow.keras.models import Sequential\n",
        "from tensorflow.keras.layers import Embedding, Input, LSTM, SimpleRNN, Dense, Bidirectional\n",
        "import nltk\n",
        "from nltk.corpus import stopwords\n",
        "import nltk\n",
        "from nltk.stem.isri import ISRIStemmer\n",
        "nltk.download('stopwords')"
      ],
      "metadata": {
        "colab": {
          "base_uri": "https://localhost:8080/"
        },
        "id": "ZR1f83_-BMdO",
        "outputId": "0d824fcf-b159-4ec6-97fa-e6aa035de6cf"
      },
      "execution_count": 7,
      "outputs": [
        {
          "output_type": "stream",
          "name": "stderr",
          "text": [
            "[nltk_data] Downloading package stopwords to /root/nltk_data...\n",
            "[nltk_data]   Unzipping corpora/stopwords.zip.\n"
          ]
        },
        {
          "output_type": "execute_result",
          "data": {
            "text/plain": [
              "True"
            ]
          },
          "metadata": {},
          "execution_count": 7
        }
      ]
    },
    {
      "cell_type": "code",
      "source": [
        "df=pd.read_csv('/content/sanad.csv')"
      ],
      "metadata": {
        "id": "5sWtxRPi48r5"
      },
      "execution_count": 8,
      "outputs": []
    },
    {
      "cell_type": "markdown",
      "metadata": {
        "id": "kVc0b_9fQGeH"
      },
      "source": [
        "# Data Exploration"
      ]
    },
    {
      "cell_type": "markdown",
      "metadata": {
        "id": "a98DaVUvQsi8"
      },
      "source": [
        "Before diving into preprocessing and model building, it’s important to first explore the dataset to understand its structure, distribution, and key characteristics. This step will help you gain insights into the data and guide your decisions in subsequent steps. Here’s what to consider:\n",
        "\n",
        "1. **Inspect the Data**:\n",
        "   Start by looking at the first few rows of the dataset to get a sense of its structure. Check the columns, data types, and a few sample entries. This helps to ensure that the data is loaded correctly and gives you an initial overview of the content.\n",
        "\n",
        "2. **Check for Missing Values**:\n",
        "   Identify if there are any missing values in the dataset.\n",
        "\n",
        "3. **Distribution of Labels**:\n",
        "   Examine the distribution of the target labels (classes).\n",
        "\n",
        "4. **Text Data Characteristics (Bonus)**:\n",
        "   Analyze the length of the text data. It is useful to calculate the number of words or characters in each text sample to understand how long the texts are. This will help you set a suitable `max_length` for tokenization and padding later. You can plot a histogram of text lengths to visualize the distribution.\n",
        "\n",
        "5. **Common Words and Vocabulary (Bonus)**:\n",
        "   Explore the most frequent words in the text data."
      ]
    },
    {
      "cell_type": "code",
      "source": [
        "df.isna().sum()"
      ],
      "metadata": {
        "colab": {
          "base_uri": "https://localhost:8080/",
          "height": 147
        },
        "id": "jF3EJ5NX_GeT",
        "outputId": "9ca654be-69d1-4045-a09c-3d214a51b8cc"
      },
      "execution_count": 9,
      "outputs": [
        {
          "output_type": "execute_result",
          "data": {
            "text/plain": [
              "text     0\n",
              "label    0\n",
              "dtype: int64"
            ],
            "text/html": [
              "<div>\n",
              "<style scoped>\n",
              "    .dataframe tbody tr th:only-of-type {\n",
              "        vertical-align: middle;\n",
              "    }\n",
              "\n",
              "    .dataframe tbody tr th {\n",
              "        vertical-align: top;\n",
              "    }\n",
              "\n",
              "    .dataframe thead th {\n",
              "        text-align: right;\n",
              "    }\n",
              "</style>\n",
              "<table border=\"1\" class=\"dataframe\">\n",
              "  <thead>\n",
              "    <tr style=\"text-align: right;\">\n",
              "      <th></th>\n",
              "      <th>0</th>\n",
              "    </tr>\n",
              "  </thead>\n",
              "  <tbody>\n",
              "    <tr>\n",
              "      <th>text</th>\n",
              "      <td>0</td>\n",
              "    </tr>\n",
              "    <tr>\n",
              "      <th>label</th>\n",
              "      <td>0</td>\n",
              "    </tr>\n",
              "  </tbody>\n",
              "</table>\n",
              "</div><br><label><b>dtype:</b> int64</label>"
            ]
          },
          "metadata": {},
          "execution_count": 9
        }
      ]
    },
    {
      "source": [
        "from matplotlib import pyplot as plt\n",
        "import seaborn as sns\n",
        "df.groupby('label').size().plot(kind='barh', color=sns.palettes.mpl_palette('Dark2'))\n",
        "plt.gca();"
      ],
      "cell_type": "code",
      "metadata": {
        "colab": {
          "base_uri": "https://localhost:8080/",
          "height": 430
        },
        "id": "IQqu8Ld-_8dI",
        "outputId": "99d7a10f-957f-4dd4-e57f-c51ef96f5214"
      },
      "execution_count": 10,
      "outputs": [
        {
          "output_type": "display_data",
          "data": {
            "text/plain": [
              "<Figure size 640x480 with 1 Axes>"
            ],
            "image/png": "[encoded data removed]"
          },
          "metadata": {}
        }
      ]
    },
    {
      "cell_type": "markdown",
      "metadata": {
        "id": "X_oEu0TkSMEB"
      },
      "source": [
        "# Data Cleaning and Preprocessing"
      ]
    },
    {
      "cell_type": "markdown",
      "metadata": {
        "id": "wSAFiozlRQHt"
      },
      "source": [
        "In this section, we will focus on cleaning and filtering the dataset, preparing it for the text classification task. We will implement the following steps:\n",
        "\n",
        "1. **Remove missing values**:\n",
        "   First, we eliminate any rows with missing values to ensure the dataset is complete and consistent.\n",
        "\n",
        "2. **Filter by text length (Bonus)**:\n",
        "   To maintain a uniform dataset, we will filter the text samples by a specified word count range. This ensures that the texts are neither too short to lack context nor too long to introduce unnecessary complexity.\n",
        "\n",
        "3. **Arabic stopwords loading**:\n",
        "   We load a list of Arabic stopwords to filter out commonly used but contextually insignificant words. This is an important step for improving the performance of the model, as stopwords do not contribute valuable information.\n",
        "\n",
        "4. **Text cleaning**:\n",
        "   We apply a series of text cleaning steps to standardize and simplify the text data. This involves:\n",
        "   - **Removing links (URLs)**: Any URLs present in the text are removed as they are not meaningful for classification purposes.\n",
        "   - **Removing special characters and punctuation**: This step removes any non-alphabetical characters, ensuring the text only contains meaningful words.\n",
        "   - **Removing Arabic diacritics (Tashkeel) and elongated letters (Tatweel)**: Diacritical marks and elongated letters are stripped out to standardize the text.\n",
        "   - **Removing Arabic stopwords**: Words that are part of the stopwords list are removed, as they do not add value to the classification task.\n",
        "   - **Stemming or Lemmmatization**: Either stemming or lemmatization is applied to reduce words to their root or base form.\n",
        "   - **Normalizing Hamza**: Any variation of the Hamza character is normalized for consistency.\n",
        "\n",
        "   **Note:** Most of these you can do using the library [PyArabic](https://pyarabic.readthedocs.io/ar/latest/README.html#features)\n",
        "\n",
        "5. **Final cleanup**:\n",
        "   Apply the cleanup function to the feature column.\n",
        "\n",
        "By following these steps, the text will be cleaned, filtered, and ready for tokenization!"
      ]
    },
    {
      "cell_type": "code",
      "execution_count": 17,
      "metadata": {
        "id": "mHEObOY_fHhq"
      },
      "outputs": [],
      "source": [
        "import re\n",
        "from nltk.corpus import stopwords\n",
        "from nltk.stem.isri import ISRIStemmer\n",
        "from pyarabic import araby\n",
        "\n",
        "df = df.dropna(subset=['text'])\n",
        "\n",
        "max_len = 1000\n",
        "min_len = 10\n",
        "df = df[df['text'].str.split().str.len().between(min_len, max_len)]\n",
        "\n",
        "stop_words = set(stopwords.words('arabic'))\n",
        "stemmer = ISRIStemmer()\n",
        "\n",
        "def clean_text(text):\n",
        "    cleaned_text = re.sub(r'https\\S+|http\\S+|example\\S+|resource\\S+', '', text, flags=re.MULTILINE)\n",
        "    cleaned_text = re.sub(r'[^\\w\\s]', '', cleaned_text)\n",
        "    cleaned_text = araby.strip_tashkeel(cleaned_text)\n",
        "    cleaned_text = araby.strip_shadda(cleaned_text)\n",
        "    cleaned_text = araby.normalize_hamza(cleaned_text, method=\"tasheel\")\n",
        "\n",
        "    words = cleaned_text.split()\n",
        "    filtered_words = [word for word in words if word not in stop_words]\n",
        "    stemmed_words = [stemmer.stem(word) for word in filtered_words]\n",
        "\n",
        "    return ' '.join(stemmed_words)\n",
        "\n",
        "df['cleaned_text'] = df['text'].apply(clean_text)\n"
      ]
    },
    {
      "cell_type": "code",
      "source": [],
      "metadata": {
        "id": "_zY2iIEuYgFG"
      },
      "execution_count": 11,
      "outputs": []
    },
    {
      "cell_type": "code",
      "source": [
        "df"
      ],
      "metadata": {
        "colab": {
          "base_uri": "https://localhost:8080/",
          "height": 423
        },
        "id": "pgWt0dlDX0jb",
        "outputId": "ec1ee744-466a-47fa-9e83-a00073d58e99"
      },
      "execution_count": 18,
      "outputs": [
        {
          "output_type": "execute_result",
          "data": {
            "text/plain": [
              "                                                    text    label  \\\n",
              "0      https://example.com/resource/الشاٌرقة -ْ محمِد...  Culture   \n",
              "1      https://example.com/resource/اَنِطٌلقّتَ ٍفٍيّ...  Culture   \n",
              "2      https://example.com/resource/أُقيًمٌتِ مِساءُ ...  Culture   \n",
              "3      https://example.com/resource/بٍاسُمةَ يًوٌنٍس ...  Culture   \n",
              "4      https://example.com/resource/قُرر اَتحِاد اًلْ...  Culture   \n",
              "...                                                  ...      ...   \n",
              "39880  https://example.com/resource/أعلّنت شّركٌةً بّ...     Tech   \n",
              "39881  https://example.com/resource/بُتٍاَرٌيًخَ 28ْ ...     Tech   \n",
              "39882  https://example.com/resource/دبَيُ:َ «ُاَلخليج...     Tech   \n",
              "39883  https://example.com/resource/LٌG GًS2ْ9ً0 Coْo...     Tech   \n",
              "39884  https://example.com/resource/تنطًلقٍ اٌليومّ َ...     Tech   \n",
              "\n",
              "                                            cleaned_text  \n",
              "0      حمد ولد حمد سالمعرضت امس اول خشب سرح قصر ثقف ش...  \n",
              "1      ايم عام فيت فعل هرج دبي سرح شبب ظلة جلس دبي ثق...  \n",
              "2      امس اول كسبو شرق ندة حري حول همي جار كتب علم ش...  \n",
              "3      ونس حين قال صحب سمو شيخ دكتور سلط بن حمد قسم ع...  \n",
              "4      تحد دبء كتب موريتاني عقد ومر عام تسع 16 برل قب...  \n",
              "...                                                  ...  \n",
              "39880  شرك باناسونيك طلق لسل فزو فير جدد عام 2008 طول...  \n",
              "39881  28 مارساذار اضي وبين سعة ثمن نصف حتى اسع نصف س...  \n",
              "39882  خلج برم بلد دبي بلد راس خيم تفق شرع مكا عنن جغ...  \n",
              "39883  GS290 Cookie Freshهاتف تحر جدد ناج ال جي حوي ح...  \n",
              "39884  اليوم ركز عرض طار دبي دور ال 21 عرض جيتكس شوبر...  \n",
              "\n",
              "[39885 rows x 3 columns]"
            ],
            "text/html": [
              "\n",
              "  <div id=\"df-f2dd1c4d-b728-4902-ae23-ff3053dac97c\" class=\"colab-df-container\">\n",
              "    <div>\n",
              "<style scoped>\n",
              "    .dataframe tbody tr th:only-of-type {\n",
              "        vertical-align: middle;\n",
              "    }\n",
              "\n",
              "    .dataframe tbody tr th {\n",
              "        vertical-align: top;\n",
              "    }\n",
              "\n",
              "    .dataframe thead th {\n",
              "        text-align: right;\n",
              "    }\n",
              "</style>\n",
              "<table border=\"1\" class=\"dataframe\">\n",
              "  <thead>\n",
              "    <tr style=\"text-align: right;\">\n",
              "      <th></th>\n",
              "      <th>text</th>\n",
              "      <th>label</th>\n",
              "      <th>cleaned_text</th>\n",
              "    </tr>\n",
              "  </thead>\n",
              "  <tbody>\n",
              "    <tr>\n",
              "      <th>0</th>\n",
              "      <td>https://example.com/resource/الشاٌرقة -ْ محمِد...</td>\n",
              "      <td>Culture</td>\n",
              "      <td>حمد ولد حمد سالمعرضت امس اول خشب سرح قصر ثقف ش...</td>\n",
              "    </tr>\n",
              "    <tr>\n",
              "      <th>1</th>\n",
              "      <td>https://example.com/resource/اَنِطٌلقّتَ ٍفٍيّ...</td>\n",
              "      <td>Culture</td>\n",
              "      <td>ايم عام فيت فعل هرج دبي سرح شبب ظلة جلس دبي ثق...</td>\n",
              "    </tr>\n",
              "    <tr>\n",
              "      <th>2</th>\n",
              "      <td>https://example.com/resource/أُقيًمٌتِ مِساءُ ...</td>\n",
              "      <td>Culture</td>\n",
              "      <td>امس اول كسبو شرق ندة حري حول همي جار كتب علم ش...</td>\n",
              "    </tr>\n",
              "    <tr>\n",
              "      <th>3</th>\n",
              "      <td>https://example.com/resource/بٍاسُمةَ يًوٌنٍس ...</td>\n",
              "      <td>Culture</td>\n",
              "      <td>ونس حين قال صحب سمو شيخ دكتور سلط بن حمد قسم ع...</td>\n",
              "    </tr>\n",
              "    <tr>\n",
              "      <th>4</th>\n",
              "      <td>https://example.com/resource/قُرر اَتحِاد اًلْ...</td>\n",
              "      <td>Culture</td>\n",
              "      <td>تحد دبء كتب موريتاني عقد ومر عام تسع 16 برل قب...</td>\n",
              "    </tr>\n",
              "    <tr>\n",
              "      <th>...</th>\n",
              "      <td>...</td>\n",
              "      <td>...</td>\n",
              "      <td>...</td>\n",
              "    </tr>\n",
              "    <tr>\n",
              "      <th>39880</th>\n",
              "      <td>https://example.com/resource/أعلّنت شّركٌةً بّ...</td>\n",
              "      <td>Tech</td>\n",
              "      <td>شرك باناسونيك طلق لسل فزو فير جدد عام 2008 طول...</td>\n",
              "    </tr>\n",
              "    <tr>\n",
              "      <th>39881</th>\n",
              "      <td>https://example.com/resource/بُتٍاَرٌيًخَ 28ْ ...</td>\n",
              "      <td>Tech</td>\n",
              "      <td>28 مارساذار اضي وبين سعة ثمن نصف حتى اسع نصف س...</td>\n",
              "    </tr>\n",
              "    <tr>\n",
              "      <th>39882</th>\n",
              "      <td>https://example.com/resource/دبَيُ:َ «ُاَلخليج...</td>\n",
              "      <td>Tech</td>\n",
              "      <td>خلج برم بلد دبي بلد راس خيم تفق شرع مكا عنن جغ...</td>\n",
              "    </tr>\n",
              "    <tr>\n",
              "      <th>39883</th>\n",
              "      <td>https://example.com/resource/LٌG GًS2ْ9ً0 Coْo...</td>\n",
              "      <td>Tech</td>\n",
              "      <td>GS290 Cookie Freshهاتف تحر جدد ناج ال جي حوي ح...</td>\n",
              "    </tr>\n",
              "    <tr>\n",
              "      <th>39884</th>\n",
              "      <td>https://example.com/resource/تنطًلقٍ اٌليومّ َ...</td>\n",
              "      <td>Tech</td>\n",
              "      <td>اليوم ركز عرض طار دبي دور ال 21 عرض جيتكس شوبر...</td>\n",
              "    </tr>\n",
              "  </tbody>\n",
              "</table>\n",
              "<p>39885 rows × 3 columns</p>\n",
              "</div>\n",
              "    <div class=\"colab-df-buttons\">\n",
              "\n",
              "  <div class=\"colab-df-container\">\n",
              "    <button class=\"colab-df-convert\" onclick=\"convertToInteractive('df-f2dd1c4d-b728-4902-ae23-ff3053dac97c')\"\n",
              "            title=\"Convert this dataframe to an interactive table.\"\n",
              "            style=\"display:none;\">\n",
              "\n",
              "  <svg xmlns=\"http://www.w3.org/2000/svg\" height=\"24px\" viewBox=\"0 -960 960 960\">\n",
              "    <path d=\"M120-120v-720h720v720H120Zm60-500h600v-160H180v160Zm220 220h160v-160H400v160Zm0 220h160v-160H400v160ZM180-400h160v-160H180v160Zm440 0h160v-160H620v160ZM180-180h160v-160H180v160Zm440 0h160v-160H620v160Z\"/>\n",
              "  </svg>\n",
              "    </button>\n",
              "\n",
              "  <style>\n",
              "    .colab-df-container {\n",
              "      display:flex;\n",
              "      gap: 12px;\n",
              "    }\n",
              "\n",
              "    .colab-df-convert {\n",
              "      background-color: #E8F0FE;\n",
              "      border: none;\n",
              "      border-radius: 50%;\n",
              "      cursor: pointer;\n",
              "      display: none;\n",
              "      fill: #1967D2;\n",
              "      height: 32px;\n",
              "      padding: 0 0 0 0;\n",
              "      width: 32px;\n",
              "    }\n",
              "\n",
              "    .colab-df-convert:hover {\n",
              "      background-color: #E2EBFA;\n",
              "      box-shadow: 0px 1px 2px rgba(60, 64, 67, 0.3), 0px 1px 3px 1px rgba(60, 64, 67, 0.15);\n",
              "      fill: #174EA6;\n",
              "    }\n",
              "\n",
              "    .colab-df-buttons div {\n",
              "      margin-bottom: 4px;\n",
              "    }\n",
              "\n",
              "    [theme=dark] .colab-df-convert {\n",
              "      background-color: #3B4455;\n",
              "      fill: #D2E3FC;\n",
              "    }\n",
              "\n",
              "    [theme=dark] .colab-df-convert:hover {\n",
              "      background-color: #434B5C;\n",
              "      box-shadow: 0px 1px 3px 1px rgba(0, 0, 0, 0.15);\n",
              "      filter: drop-shadow(0px 1px 2px rgba(0, 0, 0, 0.3));\n",
              "      fill: #FFFFFF;\n",
              "    }\n",
              "  </style>\n",
              "\n",
              "    <script>\n",
              "      const buttonEl =\n",
              "        document.querySelector('#df-f2dd1c4d-b728-4902-ae23-ff3053dac97c button.colab-df-convert');\n",
              "      buttonEl.style.display =\n",
              "        google.colab.kernel.accessAllowed ? 'block' : 'none';\n",
              "\n",
              "      async function convertToInteractive(key) {\n",
              "        const element = document.querySelector('#df-f2dd1c4d-b728-4902-ae23-ff3053dac97c');\n",
              "        const dataTable =\n",
              "          await google.colab.kernel.invokeFunction('convertToInteractive',\n",
              "                                                    [key], {});\n",
              "        if (!dataTable) return;\n",
              "\n",
              "        const docLinkHtml = 'Like what you see? Visit the ' +\n",
              "          '<a target=\"_blank\" href=https://colab.research.google.com/notebooks/data_table.ipynb>data table notebook</a>'\n",
              "          + ' to learn more about interactive tables.';\n",
              "        element.innerHTML = '';\n",
              "        dataTable['output_type'] = 'display_data';\n",
              "        await google.colab.output.renderOutput(dataTable, element);\n",
              "        const docLink = document.createElement('div');\n",
              "        docLink.innerHTML = docLinkHtml;\n",
              "        element.appendChild(docLink);\n",
              "      }\n",
              "    </script>\n",
              "  </div>\n",
              "\n",
              "\n",
              "<div id=\"df-2e312173-3e74-4394-889d-3fcd679a9971\">\n",
              "  <button class=\"colab-df-quickchart\" onclick=\"quickchart('df-2e312173-3e74-4394-889d-3fcd679a9971')\"\n",
              "            title=\"Suggest charts\"\n",
              "            style=\"display:none;\">\n",
              "\n",
              "<svg xmlns=\"http://www.w3.org/2000/svg\" height=\"24px\"viewBox=\"0 0 24 24\"\n",
              "     width=\"24px\">\n",
              "    <g>\n",
              "        <path d=\"M19 3H5c-1.1 0-2 .9-2 2v14c0 1.1.9 2 2 2h14c1.1 0 2-.9 2-2V5c0-1.1-.9-2-2-2zM9 17H7v-7h2v7zm4 0h-2V7h2v10zm4 0h-2v-4h2v4z\"/>\n",
              "    </g>\n",
              "</svg>\n",
              "  </button>\n",
              "\n",
              "<style>\n",
              "  .colab-df-quickchart {\n",
              "      --bg-color: #E8F0FE;\n",
              "      --fill-color: #1967D2;\n",
              "      --hover-bg-color: #E2EBFA;\n",
              "      --hover-fill-color: #174EA6;\n",
              "      --disabled-fill-color: #AAA;\n",
              "      --disabled-bg-color: #DDD;\n",
              "  }\n",
              "\n",
              "  [theme=dark] .colab-df-quickchart {\n",
              "      --bg-color: #3B4455;\n",
              "      --fill-color: #D2E3FC;\n",
              "      --hover-bg-color: #434B5C;\n",
              "      --hover-fill-color: #FFFFFF;\n",
              "      --disabled-bg-color: #3B4455;\n",
              "      --disabled-fill-color: #666;\n",
              "  }\n",
              "\n",
              "  .colab-df-quickchart {\n",
              "    background-color: var(--bg-color);\n",
              "    border: none;\n",
              "    border-radius: 50%;\n",
              "    cursor: pointer;\n",
              "    display: none;\n",
              "    fill: var(--fill-color);\n",
              "    height: 32px;\n",
              "    padding: 0;\n",
              "    width: 32px;\n",
              "  }\n",
              "\n",
              "  .colab-df-quickchart:hover {\n",
              "    background-color: var(--hover-bg-color);\n",
              "    box-shadow: 0 1px 2px rgba(60, 64, 67, 0.3), 0 1px 3px 1px rgba(60, 64, 67, 0.15);\n",
              "    fill: var(--button-hover-fill-color);\n",
              "  }\n",
              "\n",
              "  .colab-df-quickchart-complete:disabled,\n",
              "  .colab-df-quickchart-complete:disabled:hover {\n",
              "    background-color: var(--disabled-bg-color);\n",
              "    fill: var(--disabled-fill-color);\n",
              "    box-shadow: none;\n",
              "  }\n",
              "\n",
              "  .colab-df-spinner {\n",
              "    border: 2px solid var(--fill-color);\n",
              "    border-color: transparent;\n",
              "    border-bottom-color: var(--fill-color);\n",
              "    animation:\n",
              "      spin 1s steps(1) infinite;\n",
              "  }\n",
              "\n",
              "  @keyframes spin {\n",
              "    0% {\n",
              "      border-color: transparent;\n",
              "      border-bottom-color: var(--fill-color);\n",
              "      border-left-color: var(--fill-color);\n",
              "    }\n",
              "    20% {\n",
              "      border-color: transparent;\n",
              "      border-left-color: var(--fill-color);\n",
              "      border-top-color: var(--fill-color);\n",
              "    }\n",
              "    30% {\n",
              "      border-color: transparent;\n",
              "      border-left-color: var(--fill-color);\n",
              "      border-top-color: var(--fill-color);\n",
              "      border-right-color: var(--fill-color);\n",
              "    }\n",
              "    40% {\n",
              "      border-color: transparent;\n",
              "      border-right-color: var(--fill-color);\n",
              "      border-top-color: var(--fill-color);\n",
              "    }\n",
              "    60% {\n",
              "      border-color: transparent;\n",
              "      border-right-color: var(--fill-color);\n",
              "    }\n",
              "    80% {\n",
              "      border-color: transparent;\n",
              "      border-right-color: var(--fill-color);\n",
              "      border-bottom-color: var(--fill-color);\n",
              "    }\n",
              "    90% {\n",
              "      border-color: transparent;\n",
              "      border-bottom-color: var(--fill-color);\n",
              "    }\n",
              "  }\n",
              "</style>\n",
              "\n",
              "  <script>\n",
              "    async function quickchart(key) {\n",
              "      const quickchartButtonEl =\n",
              "        document.querySelector('#' + key + ' button');\n",
              "      quickchartButtonEl.disabled = true;  // To prevent multiple clicks.\n",
              "      quickchartButtonEl.classList.add('colab-df-spinner');\n",
              "      try {\n",
              "        const charts = await google.colab.kernel.invokeFunction(\n",
              "            'suggestCharts', [key], {});\n",
              "      } catch (error) {\n",
              "        console.error('Error during call to suggestCharts:', error);\n",
              "      }\n",
              "      quickchartButtonEl.classList.remove('colab-df-spinner');\n",
              "      quickchartButtonEl.classList.add('colab-df-quickchart-complete');\n",
              "    }\n",
              "    (() => {\n",
              "      let quickchartButtonEl =\n",
              "        document.querySelector('#df-2e312173-3e74-4394-889d-3fcd679a9971 button');\n",
              "      quickchartButtonEl.style.display =\n",
              "        google.colab.kernel.accessAllowed ? 'block' : 'none';\n",
              "    })();\n",
              "  </script>\n",
              "</div>\n",
              "\n",
              "  <div id=\"id_d5bdf0ea-09c7-4d67-885d-262c862aa176\">\n",
              "    <style>\n",
              "      .colab-df-generate {\n",
              "        background-color: #E8F0FE;\n",
              "        border: none;\n",
              "        border-radius: 50%;\n",
              "        cursor: pointer;\n",
              "        display: none;\n",
              "        fill: #1967D2;\n",
              "        height: 32px;\n",
              "        padding: 0 0 0 0;\n",
              "        width: 32px;\n",
              "      }\n",
              "\n",
              "      .colab-df-generate:hover {\n",
              "        background-color: #E2EBFA;\n",
              "        box-shadow: 0px 1px 2px rgba(60, 64, 67, 0.3), 0px 1px 3px 1px rgba(60, 64, 67, 0.15);\n",
              "        fill: #174EA6;\n",
              "      }\n",
              "\n",
              "      [theme=dark] .colab-df-generate {\n",
              "        background-color: #3B4455;\n",
              "        fill: #D2E3FC;\n",
              "      }\n",
              "\n",
              "      [theme=dark] .colab-df-generate:hover {\n",
              "        background-color: #434B5C;\n",
              "        box-shadow: 0px 1px 3px 1px rgba(0, 0, 0, 0.15);\n",
              "        filter: drop-shadow(0px 1px 2px rgba(0, 0, 0, 0.3));\n",
              "        fill: #FFFFFF;\n",
              "      }\n",
              "    </style>\n",
              "    <button class=\"colab-df-generate\" onclick=\"generateWithVariable('df')\"\n",
              "            title=\"Generate code using this dataframe.\"\n",
              "            style=\"display:none;\">\n",
              "\n",
              "  <svg xmlns=\"http://www.w3.org/2000/svg\" height=\"24px\"viewBox=\"0 0 24 24\"\n",
              "       width=\"24px\">\n",
              "    <path d=\"M7,19H8.4L18.45,9,17,7.55,7,17.6ZM5,21V16.75L18.45,3.32a2,2,0,0,1,2.83,0l1.4,1.43a1.91,1.91,0,0,1,.58,1.4,1.91,1.91,0,0,1-.58,1.4L9.25,21ZM18.45,9,17,7.55Zm-12,3A5.31,5.31,0,0,0,4.9,8.1,5.31,5.31,0,0,0,1,6.5,5.31,5.31,0,0,0,4.9,4.9,5.31,5.31,0,0,0,6.5,1,5.31,5.31,0,0,0,8.1,4.9,5.31,5.31,0,0,0,12,6.5,5.46,5.46,0,0,0,6.5,12Z\"/>\n",
              "  </svg>\n",
              "    </button>\n",
              "    <script>\n",
              "      (() => {\n",
              "      const buttonEl =\n",
              "        document.querySelector('#id_d5bdf0ea-09c7-4d67-885d-262c862aa176 button.colab-df-generate');\n",
              "      buttonEl.style.display =\n",
              "        google.colab.kernel.accessAllowed ? 'block' : 'none';\n",
              "\n",
              "      buttonEl.onclick = () => {\n",
              "        google.colab.notebook.generateWithVariable('df');\n",
              "      }\n",
              "      })();\n",
              "    </script>\n",
              "  </div>\n",
              "\n",
              "    </div>\n",
              "  </div>\n"
            ],
            "application/vnd.google.colaboratory.intrinsic+json": {
              "type": "dataframe",
              "variable_name": "df",
              "summary": "{\n  \"name\": \"df\",\n  \"rows\": 39885,\n  \"fields\": [\n    {\n      \"column\": \"text\",\n      \"properties\": {\n        \"dtype\": \"string\",\n        \"num_unique_values\": 39885,\n        \"samples\": [\n          \"https://example.com/resource/\\u0628\\u0652\\u0644\\u0650\\u063a\\u062a \\u064e\\u062a\\u0633\\u064e\\u064a\\u064a\\u0644\\u0651\\u0627\\u064b\\u062a\\u064d \\u0627\\u0652\\u0644\\u0623\\u0652\\u062c\\u064e\\u0627\\u0646\\u0651\\u0628\\u064e \\u064e\\u0641\\u064a \\u0633\\u064d\\u0648\\u0652\\u0642\\u0650 \\u064e\\u062f\\u0628\\u064a \\u0627\\u0644\\u0645\\u064d\\u0627\\u0650\\u0644\\u064d\\u064a\\u064d \\u0623\\u0645\\u064d\\u0633\\u064e 59\\u064f \\u0645\\u0644\\u064d\\u064a\\u0648\\u0646\\u0627\\u0650\\u064b\\u0652\\u060c \\u0651\\u0641\\u0651\\u0642\\u062f \\u0650\\u0628\\u0652\\u0644\\u064b\\u063a\\u062a \\u064b\\u0642\\u0651\\u064a\\u064f\\u0645\\u0651\\u0629\\u0651 \\u0645\\u064f\\u0634\\u064b\\u062a\\u064f\\u0631\\u0650\\u064a\\u0627\\u062a \\u064e\\u0627\\u0644\\u0652\\u0623\\u062c\\u0627\\u064d\\u0646\\u064d\\u0628\\u064b\\u060c\\u064b \\u063a\\u0652\\u064a\\u0651\\u0631\\u064d \\u0627\\u0652\\u0644\\u0639\\u0631\\u064c\\u0628\\u060c\\u064f \\u0645\\u0650\\u0646\\u0651 \\u064c\\u0627\\u0644\\u0623\\u0633\\u064c\\u0647\\u064d\\u0645 \\u064c\\u062e\\u064f\\u0644\\u0627\\u064c\\u0644\\u064f \\u0647\\u0650\\u0630\\u064e\\u0627 \\u0627\\u064c\\u0644\\u064a\\u0648\\u0650\\u0645 \\u064d\\u0646\\u064b\\u062d\\u064c\\u0648 9\\u064b4\\u064d \\u064e.\\u065113\\u06526 \\u0645\\u0644\\u0652\\u064a\\u064c\\u0648\\u064b\\u0646\\u064c \\u062f\\u0631\\u0647\\u0645 \\u0641\\u064a\\u0651 \\u0652\\u062d\\u0652\\u064a\\u064f\\u0646\\u0651 \\u0628\\u0644\\u063a\\u064e\\u062a\\u064d \\u064b\\u0642\\u064c\\u064a\\u0645\\u0629\\u064c \\u064b\\u0645\\u064b\\u0628\\u064a\\u0639\\u0627\\u062a\\u0647\\u0645\\u064e \\u0646\\u064b\\u062d\\u0648\\u0652 2\\u06500 .22\\u064b6 \\u0650\\u0645\\u064b\\u0644\\u064a\\u0651\\u0648\\u0646 \\u0652\\u062f\\u0631\\u0650\\u0647\\u0645\\u064f .\\u064f \\u0643\\u0645\\u0627 \\u0650\\u0628\\u0644\\u064e\\u063a\\u064b\\u062a \\u0642\\u0652\\u064a\\u0645\\u0629\\u0650 \\u0645\\u064d\\u0634\\u064b\\u062a\\u064c\\u0631\\u0652\\u064a\\u0627\\u062a \\u064b\\u0627\\u0644\\u0645\\u0633\\u064d\\u062a\\u062b\\u064f\\u0645\\u064b\\u0631\\u064b\\u064a\\u064b\\u0646\\u064b \\u0627\\u0644\\u0652\\u0639\\u0650\\u0631\\u0650\\u0628\\u060c\\u064b \\u064f\\u063a\\u064a\\u0631 \\u0651\\u0627\\u0644\\u0652\\u062e\\u0644\\u064d\\u064a\\u064f\\u062c\\u064d\\u064a\\u064a\\u0651\\u0646\\u0650\\u060c\\u0651 \\u062e\\u0644\\u0627\\u0644 \\u0647\\u0650\\u0630\\u0627 \\u0650\\u0627\\u0644\\u0652\\u064a\\u064b\\u0648\\u0645 \\u0646\\u064f\\u062d\\u064d\\u0648\\u064f 07\\u064e .7\\u064c2\\u0650 \\u0645\\u0644\\u064e\\u064a\\u064c\\u0648\\u0646\\u0652 \\u0652\\u062f\\u0631\\u0647\\u064e\\u0645 \\u064d\\u0648\\u0642\\u064b\\u064a\\u0645\\u064c\\u0629\\u064c \\u0645\\u0652\\u0628\\u064e\\u064a\\u064f\\u0639\\u064e\\u0627\\u064b\\u062a\\u0651\\u0647\\u0645 \\u0646\\u062d\\u0648\\u064c \\u065281\\u064b \\u0650.6\\u06504\\u064e \\u064e\\u0645\\u0644\\u064f\\u064a\\u064c\\u0648\\u0646\\u0651 \\u062f\\u064b\\u0631\\u0647\\u064e\\u0645\\u064e .\\u0623\\u064b\\u0645\\u0651\\u0627\\u0652 \\u0652\\u0628\\u0651\\u0627\\u064c\\u0644\\u064e\\u0646\\u064f\\u0633\\u064d\\u0628\\u0629\\u064e \\u064c\\u0644\\u0644\\u0651\\u0645\\u064d\\u0633\\u064c\\u062a\\u064b\\u062b\\u0652\\u0645\\u0631\\u064b\\u064a\\u0646 \\u0652\\u0627\\u0644\\u062e\\u064c\\u0644\\u064a\\u064e\\u062c\\u064a\\u0650\\u064a\\u0646\\u064c \\u064f\\u0641\\u064b\\u0642\\u062f \\u0628\\u0644\\u064b\\u063a\\u0652\\u062a \\u0642\\u064a\\u0645\\u0629 \\u0645\\u0634\\u0652\\u062a\\u064e\\u0631\\u064c\\u064a\\u064f\\u0627\\u064e\\u062a\\u0647\\u0645\\u064b \\u064b9\\u064b1\\u064f \\u0651.4\\u064d3\\u064d \\u0645\\u0650\\u0644\\u064a\\u0648\\u064c\\u0646 \\u064c\\u062f\\u0631\\u0647\\u0645 \\u0641\\u064a\\u064f \\u062d\\u064a\\u0651\\u0646\\u064b \\u064e\\u0628\\u0644\\u064b\\u063a\\u064c\\u062a \\u064b\\u0642\\u064c\\u064a\\u0645\\u064d\\u0629\\u0651 \\u0645\\u0652\\u0628\\u0651\\u064a\\u0652\\u0639\\u0652\\u0627\\u064c\\u062a\\u064c\\u0647\\u0645\\u0652 \\u064f\\u0646\\u064e\\u062d\\u0650\\u0648 4\\u064f8 \\u064f.21\\u064c \\u0645\\u0644\\u064a\\u0648\\u064f\\u0646 \\u064e\\u062f\\u064e\\u0631\\u064d\\u0647\\u064e\\u0645 \\u064e\\u062e\\u0644\\u064c\\u0627\\u0644 \\u0650\\u0646\\u064c\\u0641\\u0633 \\u064f\\u0627\\u0652\\u0644\\u0651\\u0641\\u062a\\u0631\\u0652\\u0629\\u064c .\",\n          \"https://example.com/resource/\\u062f\\u0628\\u0650\\u064a\\u0650 - \\u0625\\u0650\\u0628\\u064d\\u0631\\u0650\\u0627\\u0647\\u064f\\u064a\\u064c\\u0645\\u0652 \\u0651\\u0627\\u0644\\u064f\\u064a\\u064b\\u0648\\u0633\\u0651\\u0641:\\u064e\\u0628\\u064d\\u062d\\u0636\\u0648\\u0652\\u0631\\u0650 \\u0645\\u064e\\u062d\\u064d\\u0645\\u062f\\u064e \\u0627\\u064d\\u0644\\u0645\\u0652\\u0631\\u060c \\u0631\\u0626\\u064a\\u0633\\u0651 \\u0627\\u0644\\u0645\\u064c\\u062c\\u064c\\u0644\\u064b\\u0633 \\u0627\\u064c\\u0644\\u0648\\u064d\\u0637\\u064b\\u0646\\u064f\\u064a\\u064d \\u0627\\u0644\\u064e\\u0627\\u062a\\u064b\\u062d\\u0652\\u0627\\u062f\\u064a\\u0650\\u060c\\u064e \\u0648\\u0650\\u0627\\u0651\\u0644\\u064c\\u0642\\u0646\\u0652\\u0635\\u0644 \\u0627\\u0644\\u0639\\u0627\\u0652\\u0645\\u0650 \\u064b\\u0627\\u064d\\u0644\\u0651\\u0643\\u0651\\u0648\\u064a\\u0651\\u062a\\u064e\\u064a\\u064c\\u060c \\u0630\\u064d\\u064a\\u064c\\u0627\\u0628\\u0651 \\u0651\\u0641\\u0631\\u062d\\u0627\\u064e\\u0646 \\u064c\\u0627\\u0652\\u0644\\u0631\\u0634\\u064a\\u0652\\u062f\\u064a\\u0651\\u060c \\u064b\\u0648\\u0633\\u064e\\u0644\\u0651\\u0637\\u0627\\u064b\\u0646\\u064d \\u0627\\u064c\\u0644\\u0652\\u0633\\u0648\\u064f\\u064a\\u062f\\u064d\\u064a \\u064d\\u0631\\u0652\\u0626\\u064a\\u064b\\u0633\\u0652 \\u0645\\u062c\\u064b\\u0644\\u064d\\u0633\\u0650 \\u0625\\u062f\\u0631\\u064d\\u0627\\u0629 \\u0646\\u064b\\u062f\\u0648\\u064e\\u0629\\u064b \\u0627\\u064b\\u0644\\u064c\\u062b\\u0642\\u0627\\u064d\\u0641\\u0629\\u064e \\u064e\\u0648\\u0627\\u064e\\u0644\\u0639\\u0644\\u0648\\u0645\\u060c \\u0648\\u0623\\u0639\\u0652\\u0636\\u0652\\u0627\\u0621 \\u0650\\u0645\\u064d\\u062c\\u064d\\u0644\\u064b\\u0633\\u0650 \\u0627\\u0644\\u0625\\u0651\\u062f\\u0652\\u0627\\u0631\\u064e\\u0629\\u064d\\u060c \\u0625\\u0652\\u0636\\u0627\\u0650\\u0641\\u0629\\u064d \\u0625\\u0644\\u0650\\u0649\\u064f \\u0637\\u0650\\u064a\\u064f\\u0641\\u064b \\u0648\\u0627\\u0633\\u064f\\u0639 \\u0650\\u0648\\u064d\\u0644\\u0627\\u0641\\u0652\\u062a \\u0645\\u0646\\u0651 \\u064d\\u0627\\u0644\\u064e\\u0643\\u0651\\u062a\\u0651\\u064c\\u0627\\u0651\\u0628\\u0650 \\u0648\\u064d\\u0627\\u064b\\u0644\\u0645\\u062b\\u064e\\u0642\\u0641\\u064b\\u064a\\u0646 \\u0648\\u0650\\u0627\\u0644\\u0625\\u0639\\u064e\\u0644\\u0627\\u0645\\u064a\\u064a\\u064d\\u0646 \\u0645\\u064c\\u0646\\u064d \\u0627\\u064e\\u0644\\u0650\\u0628\\u064d\\u0644\\u062f\\u064a\\u0646 . \\u0634\\u0647\\u062f\\u062a\\u064f \\u064e\\u0627\\u064d\\u0644\\u0652\\u0646\\u0650\\u062f\\u0648\\u064c\\u0629\\u064f\\u060c\\u064d \\u0645\\u064c\\u0633\\u0627\\u0621 \\u0650\\u0623\\u0645\\u0633\\u064b \\u0651\\u0627\\u064b\\u0644\\u0652\\u0623\\u064e\\u0648\\u064e\\u0644\\u060c\\u064b \\u0650\\u0627\\u0652\\u062e\\u062a\\u064e\\u062a\\u0652\\u0627\\u0645\\u0651 \\u0641\\u0639\\u0627\\u064e\\u0644\\u064a\\u0627\\u062a\\u064b \\u064e\\u0645\\u0647\\u0650\\u0631\\u064b\\u062c\\u0650\\u0627\\u0646\\u064f \\u064d\\\"\\u064c\\u0643\\u0648\\u0650\\u064a\\u062a\\u064e \\u0627\\u0644\\u0633\\u0644\\u0627\\u064e\\u0645 - \\u0625\\u064b\\u0645\\u0652\\u0627\\u0631\\u064f\\u0627\\u062a \\u064c\\u0627\\u064f\\u0644\\u0650\\u0648\\u064d\\u0641\\u0627\\u0621\\u0650\\\"\\u060c\\u064e \\u0628\\u064c\\u0631\\u0639\\u064d\\u0627\\u064a\\u064d\\u0629 \\u0648\\u064f\\u062a\\u0646\\u0638\\u064a\\u064f\\u0645 \\u0647\\u064a\\u0626\\u0629 \\u062f\\u064b\\u0628\\u064a\\u0652 \\u0644\\u0644\\u064b\\u062b\\u064d\\u0642\\u0627\\u0641\\u0651\\u0629 \\u0648\\u0627\\u0644\\u0652\\u0641\\u0646\\u0648\\u0646 \\u0628\\u0627\\u064c\\u0644\\u062a\\u0639\\u0627\\u0648\\u064d\\u0646 \\u064f\\u0645\\u0650\\u0639\\u064b \\u064c\\u0627\\u0644\\u0642\\u0652\\u0646\\u0635\\u0652\\u0644\\u064b\\u064a\\u064c\\u0629 \\u064c\\u0627\\u0651\\u0644\\u064b\\u0639\\u0627\\u064c\\u0645\\u0629\\u064d \\u0644\\u0650\\u062f\\u0652\\u0648\\u064b\\u0644\\u064b\\u0629\\u064c \\u0652\\u0627\\u0651\\u0644\\u0643\\u0648\\u064a\\u062a \\u064c\\u0641\\u0650\\u064a\\u064f \\u064e\\u0625\\u064d\\u0645\\u0651\\u0627\\u064e\\u0631\\u0629\\u064f \\u062f\\u064c\\u0628\\u064f\\u064a\\u060c\\u0652 \\u0648\\u0651\\u062a\\u0636\\u0645\\u064c\\u0646\\u0651 \\u064d\\u0641\\u0639\\u064d\\u0627\\u064f\\u0644\\u064d\\u064a\\u064e\\u0627\\u062a \\u064f\\u062b\\u0642\\u0651\\u0627\\u064f\\u0641\\u064a\\u0629\\u064e \\u0641\\u0646\\u064a\\u0652\\u0629\\u0650\\u060c \\u0650\\u0648\\u063a\\u064a\\u0631\\u0647\\u0650\\u0627\\u0651 \\u064d.\\u0648\\u0651\\u062a\\u0652\\u0636\\u064c\\u0645\\u0646\\u0651\\u062a\\u064b \\u064e\\u0627\\u0644\\u0641\\u0651\\u0639\\u064e\\u0627\\u0644\\u064d\\u064a\\u0627\\u064c\\u062a\\u0650 \\u0650\\u0639\\u064e\\u0631\\u0636 \\u0641\\u064a\\u0644\\u064f\\u0645 \\u0652\\u0648\\u064b\\u062b\\u0627\\u064e\\u0626\\u064f\\u0642\\u064f\\u064a\\u064f \\u0639\\u064e\\u0646\\u064f \\u064f\\u0627\\u0644\\u062a\\u064d\\u0639\\u064c\\u0627\\u0648\\u064d\\u0646\\u0650 \\u064d\\u0627\\u064c\\u0644\\u0623\\u062e\\u0648\\u064a \\u064f\\u0628\\u0651\\u064a\\u0652\\u0646\\u064b \\u0652\\u0627\\u0644\\u064e\\u0628\\u0644\\u064f\\u062f\\u0650\\u064a\\u064d\\u0646\\u064b \\u0651\\u0627\\u0650\\u0644\\u0634\\u0642\\u0651\\u064a\\u064c\\u0642\\u064e\\u064a\\u0646\\u0650\\u060c \\u064d\\u0642\\u0631\\u0623\\u0651 \\u064c\\u0628\\u0650\\u0639\\u064f\\u062f \\u064b\\u0630\\u064f\\u0644\\u0651\\u0643\\u064f \\u0651\\u0639\\u0628\\u064f\\u062f\\u0627\\u0650\\u0644\\u0644\\u0647 \\u064f\\u0627\\u0644\\u064c\\u0645\\u0637\\u0651\\u064a\\u0631\\u064d\\u064a\\u0650 \\u0643\\u064e\\u0644\\u0645\\u0652\\u0629\\u064c \\u0647\\u064a\\u0650\\u0626\\u0629 \\u062f\\u0628\\u064b\\u064a\\u064e \\u0644\\u0644\\u064b\\u062b\\u0642\\u0627\\u0641\\u0629\\u060c\\u064f \\u062a\\u062d\\u064f\\u062f\\u062b\\u064e \\u064c\\u0641\\u064a\\u0652\\u0647\\u0652\\u0627\\u064c \\u0639\\u0652\\u0646 \\u064f\\u0627\\u0652\\u0644\\u0639\\u0650\\u0644\\u0627\\u0642\\u0627\\u062a \\u0651\\u0627\\u0651\\u0644\\u064d\\u062b\\u0642\\u0650\\u0627\\u0641\\u064a\\u0651\\u0629 \\u0628\\u064b\\u064a\\u0646 \\u064e\\u0627\\u0644\\u0628\\u064b\\u0644\\u0651\\u062f\\u0652\\u064a\\u064d\\u0646\\u064c\\u060c \\u0648\\u064e\\u0643\\u064e\\u064a\\u0651\\u0641 \\u0623\\u0646 \\u0627\\u064e\\u0644\\u064d\\u0643\\u0648\\u064e\\u064a\\u0650\\u062a \\u062f\\u0639\\u0645\\u0651\\u062a\\u064d \\u0650\\u0627\\u0644\\u062d\\u0631\\u0652\\u0643\\u064b\\u0629\\u064b \\u0627\\u064d\\u0644\\u062b\\u0652\\u0642\\u064c\\u0627\\u0641\\u064a\\u0652\\u0629\\u0652 \\u064d\\u0648\\u0627\\u0650\\u0644\\u0651\\u062a\\u0639\\u0651\\u0644\\u064a\\u064f\\u0645\\u064a\\u0629 \\u0641\\u064a \\u0627\\u0644\\u0625\\u0645\\u0627\\u064e\\u0631\\u0627\\u064c\\u062a\\u060c\\u064d \\u064d\\u0648\\u0651\\u0623\\u064f\\u0646\\u064e\\u0634\\u0623\\u062a\\u0651 \\u0641\\u064a\\u064e\\u0647\\u0651\\u0627 \\u064b\\u0627\\u064c\\u0644\\u064f\\u0645\\u064f\\u062f\\u0627\\u064f\\u0631\\u0651\\u0633\\u064b\\u060c\\u0652 \\u064c\\u0625\\u0644\\u064f\\u0649 \\u0651\\u062c\\u0627\\u064b\\u0646\\u0650\\u0628 \\u064c\\u063a\\u0652\\u064a\\u064e\\u0631\\u0647\\u0650\\u0627\\u064c \\u0645\\u0646\\u064c \\u0650\\u0627\\u0644\\u0645\\u064c\\u0631\\u064d\\u0627\\u0641\\u064e\\u0642 \\u0627\\u0651\\u0644\\u0636\\u0631\\u0652\\u0648\\u0631\\u064d\\u064a\\u0650\\u0629\\u064e .\\u064c\\u0628\\u064c\\u0639\\u064b\\u062f\\u0652 \\u0630\\u064f\\u0644\\u0643 \\u0628\\u062f\\u0623\\u0650\\u062a \\u0641\\u064f\\u0639\\u0650\\u0627\\u064c\\u0644\\u064a\\u0627\\u0651\\u062a \\u0627\\u0644\\u064d\\u0646\\u0652\\u062f\\u0648\\u064c\\u0629 \\u0651\\u0627\\u0651\\u0644\\u064b\\u062a\\u064e\\u064a \\u064f\\u0623\\u062f\\u064e\\u0627\\u064c\\u0631\\u0647\\u0627 \\u0651\\u0639\\u0644\\u064e\\u064a\\u064c \\u064c\\u0639\\u064f\\u0628\\u064f\\u064a\\u0651\\u062f \\u0627\\u0644\\u064f\\u0647\\u0650\\u0627\\u0650\\u0645\\u0644\\u064d\\u064a\\u0651\\u060c\\u0651 \\u0652\\u0628\\u0639\\u0651\\u0646\\u064e\\u0648\\u064c\\u0627\\u0651\\u0646 \\\"\\u0650\\u0645\\u0633\\u064a\\u0631\\u064b\\u0629 \\u0627\\u064e\\u0644\\u0652\\u0639\\u0652\\u0644\\u0627\\u064e\\u0642\\u0627\\u062a\\u0651 \\u0627\\u0650\\u0644\\u0625\\u0645\\u0627\\u0652\\u0631\\u0627\\u062a\\u064a\\u0629\\u0651 \\u064b- \\u064c\\u0627\\u0651\\u0644\\u0652\\u0643\\u0648\\u064a\\u062a\\u064e\\u064a\\u064b\\u0629\\\" \\u0648\\u064b\\u0634\\u0627\\u0631\\u0643 \\u064c\\u0641\\u064c\\u064a\\u0647\\u064e\\u0627\\u0651 \\u0643\\u0644\\u064b \\u064e\\u0645\\u0646\\u0651 \\u0650\\u062f\\u0652 . \\u0639\\u0652\\u0628\\u062f\\u0650\\u0627\\u0652\\u0644\\u0644\\u064f\\u0647\\u064c \\u0627\\u0644\\u063a\\u064c\\u0646\\u064a\\u0645 \\u064e(\\u0651\\u0627\\u0644\\u0643\\u0648\\u064f\\u064a\\u064f\\u062a)\\u064f \\u064e\\u0648\\u0628\\u0644\\u0627\\u0644\\u064f \\u0651\\u0627\\u0652\\u0644\\u064f\\u0628\\u0652\\u062f\\u064b\\u0648\\u0631\\u064c \\u0646\\u064b\\u0627\\u064b\\u0626\\u0628 \\u0631\\u064d\\u0626\\u064a\\u064c\\u0633\\u064f \\u0645\\u062c\\u064e\\u0644\\u0633 \\u0625\\u062f\\u0650\\u0627\\u0652\\u0631\\u0652\\u0629\\u064d \\u064d\\u0646\\u064d\\u062f\\u064b\\u0648\\u0629\\u064f \\u0627\\u0644\\u062b\\u0642\\u0627\\u0641\\u0629\\u064e \\u0650\\u0627\\u0644\\u064d\\u0639\\u0652\\u0644\\u064d\\u0648\\u0645\\u064c\\u060c \\u062d\\u0652\\u064a\\u0650\\u062b \\u064d\\u0633\\u0650\\u0644\\u0637\\u064f \\u064b\\u0627\\u0644\\u0647\\u064e\\u0627\\u064c\\u0645\\u064c\\u0644\\u064a \\u0650\\u0627\\u0644\\u0636\\u0648\\u0621\\u064d \\u0639\\u0650\\u0644\\u064b\\u0649\\u0650 \\u0650\\u0627\\u0651\\u0644\\u0633\\u0652\\u064a\\u0631\\u0651\\u0629\\u064b \\u064f\\u0627\\u064b\\u0644\\u064b\\u0645\\u064e\\u0639\\u064b\\u0631\\u0641\\u064a\\u0629\\u0650 \\u064b\\u0644\\u064c\\u0643\\u064b\\u0644\\u064e\\u0627\\u064d \\u0627\\u0650\\u0644\\u0650\\u0643\\u0651\\u0627\\u064e\\u062a\\u0628\\u064a\\u0646 \\u062f .\\u064b \\u064c\\u0627\\u0644\\u0651\\u063a\\u064e\\u0646\\u064d\\u064a\\u064b\\u0645 \\u0650\\u0648\\u0651\\u0627\\u064f\\u0644\\u0628\\u0652\\u062f\\u0648\\u064e\\u0631 .\\u0651 \\u064d\\u0648\\u064b\\u0645\\u0645\\u0627\\u0652 \\u0642\\u0627\\u0644\\u0647 \\u0651\\u0627\\u064e\\u0644\\u0647\\u0627\\u0651\\u0645\\u064b\\u0644\\u064a\\u0651 \\u0641\\u064a\\u064e \\u0645\\u064c\\u0642\\u0651\\u062f\\u0652\\u0645\\u062a\\u0652\\u0647:\\u0651 \\u064b\\u0627\\u0644\\u0643\\u0648\\u064a\\u064b\\u062a \\u064f\\u062a\\u064d\\u0631\\u0643\\u062a \\u0628\\u064c\\u0635\\u0645\\u064d\\u0627\\u064e\\u062a\\u0651\\u0647\\u064c\\u0627\\u064d \\u0639\\u0645\\u064a\\u0651\\u0642\\u064f\\u0627\\u064b\\u064b \\u0639\\u064d\\u0644\\u064c\\u064a\\u0646\\u0627 \\u064c\\u0641\\u064a \\u062f\\u0648\\u0644\\u0651\\u0629 \\u064b\\u0627\\u064d\\u0644\\u064c\\u0625\\u064e\\u0645\\u0627\\u064b\\u0631\\u0627\\u062a\\u060c\\u064e \\u0652\\u0648\\u064c\\u0623\\u0643\\u064e\\u0628\\u0651\\u0631 \\u064c\\u062f\\u0644\\u064a\\u0644\\u064f \\u0650\\u0639\\u0644\\u064d\\u0649\\u064e \\u0650\\u0630\\u0644\\u0643\\u0650 \\u064f\\u0623\\u0651\\u0646 \\u0647\\u0646\\u0627\\u0643\\u064f \\u0652\\u062c\\u064a\\u064e\\u0644\\u064d\\u0627\\u0652\\u064b \\u0625\\u0645\\u0627\\u064f\\u0631\\u064f\\u0627\\u062a\\u064a\\u064d\\u0627\\u064b\\u064f \\u0652\\u0643\\u0627\\u0645\\u064b\\u0644\\u064d\\u0627\\u064d\\u064b\\u064f \\u062a\\u064e\\u0641\\u062a\\u062d\\u0651\\u062a\\u0651 \\u064b\\u0645\\u0650\\u062f\\u0652\\u0627\\u0631\\u0652\\u0643\\u0647\\u064b \\u0639\\u0644\\u0652\\u0649 \\u0651\\u0645\\u064b\\u0627\\u064e \\u0628\\u062b\\u064f\\u062a\\u064c\\u0647\\u064d \\u0627\\u064c\\u0644\\u0650\\u0643\\u064c\\u0648\\u064a\\u062a \\u0652\\u0645\\u0651\\u0646\\u064b \\u064b\\u062a\\u0639\\u0644\\u064a\\u064e\\u0645 \\u064d\\u0648\\u064f\\u062b\\u064c\\u0642\\u0627\\u0641\\u0651\\u0629\\u064d \\u0641\\u064a\\u064d \\u064c\\u0627\\u0644\\u0625\\u064c\\u0645\\u0651\\u0627\\u064b\\u0631\\u0627\\u064c\\u062a\\u064c\\u060c\\u064f \\u0650\\u062c\\u064a\\u0644 \\u0650\\u0643\\u064b\\u0627\\u064f\\u0645\\u0644\\u060c\\u0651 \\u064c\\u062a\\u0652\\u0639\\u0644\\u0645 \\u0648\\u0641\\u0652\\u0642 \\u0651\\u0645\\u0651\\u0646\\u064d\\u0627\\u0650\\u0647\\u064c\\u062c\\u064f \\u0627\\u0644\\u0643\\u0652\\u0648\\u064a\\u062a \\u0627\\u064c\\u0644\\u062a\\u0639\\u0644\\u064a\\u064c\\u0645\\u064c\\u064a\\u064d\\u0629 \\u064c.\\u064e\\u0648\\u0623\\u0634\\u0627\\u0651\\u062f\\u064d \\u064e\\u062f \\u064e.\\u064d \\u0627\\u064e\\u0644\\u063a\\u0646\\u064b\\u064a\\u0645 \\u0650\\u0628\\u0627\\u064c\\u0644\\u062d\\u064a\\u0627\\u0629\\u0650 \\u0651\\u0627\\u0644\\u062a\\u0652\\u0639\\u064b\\u0644\\u064a\\u064f\\u0645\\u064a\\u0629\\u064f \\u0627\\u0644\\u062b\\u0642\\u064b\\u0627\\u064f\\u0641\\u0651\\u064a\\u0629\\u0650 \\u0652\\u0641\\u064e\\u064a\\u064e \\u064f\\u0627\\u0644\\u064c\\u0625\\u0645\\u064b\\u0627\\u0631\\u064c\\u0627\\u062a\\u060c\\u064d \\u0651\\u0648\\u064c\\u0631\\u0623\\u0649\\u064f \\u064e\\u0623\\u064e\\u0646\\u0651\\u0647\\u0627\\u064e \\u062c\\u062f \\u0652\\u0645\\u062a\\u0637\\u0648\\u0631\\u064d\\u0629\\u0652\\u060c\\u0650 \\u0648\\u064e\\u0623\\u0650\\u062f\\u064c\\u0644\\u0649\\u0652 \\u0651\\u0628\\u0623\\u064c\\u0645\\u062b\\u0650\\u0644\\u0629 \\u064c\\u0645\\u0647\\u0651\\u0645\\u0629\\u064f \\u0650\\u0639\\u064f\\u0644\\u0651\\u0649 \\u0630\\u0650\\u0644\\u064e\\u0643\\u064c\\u060c\\u064c \\u0648\\u064c\\u0645\\u064d\\u0646\\u0647\\u0627 \\u0651\\u0623\\u0646 \\u0627\\u0650\\u0644\\u064e\\u0643\\u062b\\u064b\\u064a\\u0631\\u064a\\u064b\\u0646\\u064e \\u064c\\u0645\\u0646\\u0650 \\u0623\\u0628\\u064c\\u0646\\u064e\\u0627\\u0621\\u064f \\u0650\\u0627\\u0644\\u064b\\u0643\\u0648\\u064e\\u064a\\u0650\\u062a \\u0628\\u0627\\u062a\\u064b\\u0648\\u0627 \\u064a\\u064e\\u062a\\u0652\\u0627\\u0652\\u0628\\u0639\\u0650\\u0648\\u0652\\u0646 \\u0652\\u062a\\u062d\\u0652\\u0635\\u064a\\u0644\\u0647\\u0650\\u0645\\u0651 \\u064d\\u0627\\u0651\\u0644\\u0645\\u0639\\u064d\\u0631\\u064f\\u0641\\u064e\\u064a\\u064d \\u064d\\u0641\\u064c\\u064a \\u062c\\u064f\\u0627\\u064e\\u0645\\u0639\\u064d\\u0627\\u064b\\u062a \\u0627\\u0652\\u0644\\u0625\\u0645\\u0650\\u0627\\u0631\\u0627\\u062a\\u0652\\u060c\\u064e \\u0645\\u0646\\u0650 \\u062f\\u064f\\u0648\\u0646\\u064b \\u064e\\u0623\\u064e\\u0646 \\u064f\\u064a\\u064f\\u0634\\u064f\\u0639\\u064f\\u0631\\u0651\\u0648\\u064d\\u0627 \\u0625\\u0644\\u064d\\u0627\\u0650 \\u0628\\u0651\\u0623\\u0646\\u064b\\u0647\\u064c\\u0645\\u064b \\u0641\\u0650\\u064a \\u0628\\u064b\\u064a\\u0648\\u062a\\u0650\\u0647\\u064e\\u0645\\u0651\\u060c \\u0652\\u0648\\u0647\\u0648\\u064e \\u064f\\u0645\\u062f\\u064c\\u0639\\u064c\\u0627\\u064e\\u0629\\u0651 \\u064d\\u0633\\u064b\\u0639\\u0627\\u0650\\u062f\\u0629 \\u064d\\u0623\\u0633\\u0631\\u064d\\u0647\\u0645\\u0651\\u060c \\u0628\\u0652\\u0644 \\u0650\\u0628\\u0644\\u0651\\u062f\\u0647\\u0645\\u064b \\u064d\\u0628\\u0643\\u0627\\u064d\\u0645\\u064d\\u0644\\u0647 \\u064f.\\u0648\\u0642\\u0627\\u0644: \\u0644\\u0645\\u064f \\u064f\\u0623\\u064c\\u0631\\u062f\\u064c \\u064c\\u0623\\u0646\\u0650 \\u064d\\u0623\\u0633\\u064e\\u0645\\u064e\\u064a\\u0652 \\u0646\\u064e\\u062f\\u0650\\u0648\\u062a\\u0650\\u0646\\u0627 \\u0647\\u064b\\u0630\\u0651\\u0647\\u064f \\u0628\\u0627\\u0644\\u062d\\u0648\\u0651\\u0627\\u0652\\u0631\\u064b\\u064a\\u0629\\u0651\\u060c\\u064c \\u0628\\u0650\\u064a\\u0650\\u0646 \\u0645\\u0652\\u062b\\u064e\\u0642\\u0652\\u0641\\u064d\\u064a\\u0650\\u0646\\u0651 \\u0645\\u0650\\u0646\\u064d \\u0628\\u0644\\u062f\\u064a\\u064e\\u0646\\u0627:\\u064b \\u064b\\u0627\\u0644\\u064e\\u0643\\u0648\\u0650\\u064a\\u062a\\u0652 \\u0652\\u0648\\u0627\\u0652\\u0644\\u0625\\u0645\\u064c\\u0627\\u0631\\u0627\\u064c\\u062a\\u060c\\u064f \\u064b\\u0644\\u0623\\u0646 \\u0627\\u0644\\u062d\\u0648\\u064f\\u0627\\u0652\\u0631\\u060c\\u064f \\u0650\\u064a\\u062a\\u0645 \\u064c\\u0639\\u064f\\u0627\\u0650\\u062f\\u0629\\u064d\\u060c \\u0652\\u0628\\u064a\\u064e\\u0646\\u064c \\u0645\\u0650\\u0646\\u064b \\u0652\\u0647\\u064b\\u0645\\u064d \\u0645\\u062e\\u062a\\u064d\\u0644\\u0641\\u0648\\u0646\\u060c \\u0628\\u064a\\u0646 \\u0650\\u0645\\u064c\\u0646 \\u062a\\u064c\\u0643\\u0650\\u0648\\u0646\\u064c \\u064e\\u0647\\u064f\\u0646\\u0627\\u0643 \\u062a\\u0646\\u0627\\u0642\\u0650\\u0636\\u0627\\u062a \\u064b\\u0641\\u064f\\u064a\\u0651\\u0645\\u0627\\u064b \\u0650\\u0628\\u064a\\u0646\\u0652\\u0647\\u0645\\u060c \\u0625\\u0651\\u0646\\u0646\\u064e\\u0627\\u0650 \\u0650\\u0646\\u062a\\u062d\\u062f\\u064c\\u062b \\u064b\\u0636\\u0652\\u0645\\u0646 \\u0652\\u0625\\u0637\\u0652\\u0627\\u0650\\u0631\\u0651 \\u064c\\u0627\\u064c\\u0644\\u064e\\u0628\\u064e\\u064a\\u064b\\u062a\\u0650 \\u064c\\u0627\\u0644\\u0648\\u0652\\u0627\\u062d\\u0651\\u062f\\u060c \\u064f\\u0636\\u064e\\u0645\\u064c\\u0646\\u0650 \\u0625\\u0637\\u0627\\u0631 \\u0627\\u0644\\u064b\\u0623\\u0633\\u064c\\u0631\\u064f\\u0629 \\u0627\\u0644\\u0652\\u0648\\u0650\\u0627\\u062d\\u062f\\u0629\\u060c\\u0651 \\u0648\\u064f\\u0647\\u0646\\u064b\\u0627\\u0650 \\u0627\\u0650\\u0644\\u0641\\u0631\\u0642\\u064f \\u0628\\u064b\\u064a\\u0646\\u064c \\u064c\\u0637\\u064d\\u0628\\u064a\\u0639\\u0629 \\u0651\\u062d\\u062f\\u064a\\u064f\\u062b\\u0646\\u0651\\u0627\\u060c\\u0652 \\u0648\\u0635\\u0641\\u0629\\u064b \\u0627\\u0644\\u062d\\u0650\\u0648\\u0627\\u0631\\u0652 \\u0650.\\u0651\\u0648\\u062a\\u0627\\u0628\\u0651\\u0639\\u064b \\u062f . \\u0627\\u064f\\u0644\\u063a\\u0646\\u064a\\u064f\\u0645 \\u064f\\u0642\\u0651\\u0627\\u0626\\u0644\\u0627\\u064d\\u064b:\\u064d \\u0650\\u0645\\u0652\\u0631\\u0643\\u0650\\u0632 \\u0627\\u064c\\u0644\\u064b\\u0628\\u062d\\u0648\\u064c\\u062b \\u064e\\u0648\\u0627\\u064d\\u0644\\u062f\\u0631\\u064b\\u0627\\u064f\\u0633\\u0627\\u062a\\u0650 \\u0627\\u064c\\u0644\\u0643\\u0650\\u0648\\u064a\\u0650\\u062a\\u064c\\u064a\\u064b \\u064c\\u062c\\u0651\\u0645\\u064b\\u0639\\u0651 \\u0623\\u064d\\u0643\\u0650\\u062b\\u0651\\u0631 \\u064b\\u0645\\u0646 \\u064e\\u0645\\u0644\\u064b\\u064a\\u0648\\u064e\\u0646\\u064f\\u064a \\u0648\\u064e\\u062b\\u0651\\u064a\\u064d\\u0642\\u0629\\u064c \\u0639\\u0646 \\\"\\u0627\\u0644\\u062c\\u064b\\u0646\\u0648\\u064e\\u0628 \\u0648\\u0651\\u0627\\u064e\\u0644\\u062e\\u0644\\u0650\\u064a\\u064f\\u062c\\\"\\u064e\\u060c\\u0651 \\u0648\\u0645\\u064d\\u0646 \\u0628\\u064c\\u064a\\u064b\\u0646\\u064f\\u0647\\u0627\\u064f \\u0648\\u064e\\u062b\\u0627\\u0626\\u0642\\u0652 \\u064f\\u0645\\u0647\\u0650\\u0645\\u064e\\u0629 \\u0639\\u0646 \\u0645\\u0641\\u064c\\u0627\\u0635\\u0644 \\u064b\\u0627\\u0644\\u064f\\u0628\\u0652\\u0646\\u064a\\u0629\\u064c \\u064d\\u0627\\u0652\\u0644\\u0651\\u062a\\u064f\\u062d\\u064c\\u062a\\u064a\\u064e\\u0629 \\u064e\\u0641\\u064a \\u0627\\u0644\\u0650\\u0625\\u0645\\u064c\\u0627\\u064b\\u0631\\u064b\\u0627\\u0652\\u062a\\u064a\\u064f\\u0629\\u060c\\u064b \\u0648\\u064f\\u0646\\u064b\\u0634\\u064d\\u0623\\u064d\\u0629 \\u0645\\u062f\\u0627\\u0631\\u0633\\u0647\\u064e\\u0627\\u060c \\u0648\\u062d\\u064a\\u0627\\u062a\\u0650\\u0647\\u0627 \\u0627\\u0644\\u062b\\u064e\\u0642\\u0627\\u0641\\u064a\\u0629\\u0650\\u060c \\u064d\\u0648\\u0652\\u0641\\u064a \\u0647\\u0630\\u0650\\u0647 \\u0627\\u0651\\u0644\\u0648\\u062b\\u064b\\u0627\\u0626\\u0651\\u0642 \\u0650\\u0645\\u0639\\u0644\\u0648\\u064d\\u0645\\u0650\\u0627\\u064e\\u062a \\u062c\\u0651\\u062f \\u0645\\u0647\\u0645\\u0629\\u0652 \\u064b\\u0639\\u0651\\u0646 \\u064f\\u0646\\u0634\\u0623\\u0629\\u0651 \\u0627\\u0652\\u0644\\u064b\\u0645\\u062f\\u0650\\u0627\\u064c\\u0631\\u0633\\u060c\\u0652 \\u064c\\u0648\\u064c\\u062d\\u0651\\u062a\\u0649\\u064c \\u0623\\u0633\\u064b\\u0645\\u064e\\u0627\\u0621 \\u0651\\u0627\\u0644\\u0637\\u0644\\u0651\\u0628\\u0629\\u060c \\u0648\\u064b\\u0627\\u064e\\u0644\\u064d\\u0645\\u062f\\u064b\\u0631\\u0633\\u064c\\u064a\\u0646\\u060c\\u0652 \\u064b\\u0648\\u0643\\u0652\\u064a\\u0641\\u064a\\u064f\\u0629\\u064c \\u0628\\u064b\\u062f\\u0650\\u0627\\u064f\\u064a\\u0627\\u0652\\u062a\\u064c \\u0639\\u0652\\u0645\\u0650\\u0644\\u064e\\u064a\\u0652\\u0629\\u064d \\u0627\\u0644\\u062a\\u0639\\u0644\\u064a\\u0645\\u064f \\u064f. . \\u064d\\u0625\\u0644\\u064f\\u062e\\u0652\\u060c \\u064c\\u0648\\u0647\\u0646\\u064d\\u0627\\u0643\\u0651 \\u064b\\u0645\\u0646 \\u0651\\u0646\\u064f\\u0627\\u064f\\u0644\\u0652 \\u064b\\u0634\\u0647\\u0650\\u0627\\u062f\\u0629\\u064c \\u0650\\u0627\\u0644\\u062f\\u0650\\u0643\\u062a\\u064e\\u0648\\u0631\\u0651\\u0627\\u0647 \\u0645\\u064c\\u0646\\u0651 \\u062e\\u064f\\u0644\\u064b\\u0627\\u0651\\u0644\\u064f \\u064f\\u0642\\u0652\\u0631\\u0627\\u0621\\u0652\\u0629 \\u064e\\u0627\\u0644\\u064d\\u0639\\u064b\\u0644\\u064e\\u0627\\u0642\\u0627\\u064c\\u062a \\u0627\\u0652\\u0644\\u0623\\u0650\\u062e\\u0648\\u064d\\u064a\\u064e\\u0629 \\u064d\\u0628\\u064a\\u0646 \\u064e\\u0627\\u0644\\u064f\\u0628\\u064e\\u0644\\u062f\\u064a\\u064c\\u0646 \\u0652.\\u0652\\u0648\\u062c\\u0627\\u0621\\u064e \\u062d\\u064d\\u062f\\u064d\\u064a\\u064d\\u062b\\u064f \\u0627\\u064f\\u0644\\u0651\\u0628\\u0652\\u062f\\u064c\\u0648\\u0631\\u064e \\u064e\\u0628\\u0645\\u0627 \\u064a\\u064f\\u0634\\u0650\\u0628\\u0647 \\u064f\\u0627\\u064f\\u0644\\u0652\\u0634\\u0650\\u0647\\u0627\\u062f\\u064e\\u0629\\u064e\\u060c \\u0645\\u0646 \\u064c\\u0642\\u064e\\u0628\\u0644\\u064e \\u0652\\u0623\\u062d\\u064e\\u062f\\u064f \\u0651\\u0623\\u064c\\u0628\\u064f\\u0646\\u0627\\u0621 \\u064d\\u0627\\u0644\\u064c\\u062c\\u064a\\u064d\\u0644 \\u0627\\u064d\\u0644\\u064e\\u0630\\u064a\\u064d \\u064f\\u0641\\u062a\\u0651\\u062d \\u0639\\u064a\\u0646\\u064a\\u064b\\u0647\\u064b \\u0650\\u0639\\u064b\\u0644\\u064d\\u0649\\u0650 \\u0627\\u0644\\u0645\\u0646\\u0627\\u064f\\u0647\\u064b\\u062c \\u0627\\u0652\\u0644\\u0651\\u062a\\u0639\\u0644\\u064f\\u064a\\u0645\\u064a\\u0629 \\u0627\\u0644\\u0651\\u0643\\u064f\\u0648\\u0650\\u064a\\u062a\\u064a\\u0629\\u064e \\u0627\\u0650\\u0644\\u062a\\u064a\\u064b \\u064e\\u062a\\u0645 \\u062a\\u064b\\u062f\\u0650\\u0631\\u064a\\u064f\\u0633\\u0650\\u0647\\u064e\\u0627\\u064b \\u0641\\u0651\\u064a\\u064d \\u0627\\u064f\\u0644\\u0652\\u0625\\u064d\\u0645\\u064c\\u0627\\u0631\\u064c\\u0627\\u0652\\u062a\\u0652\\u060c \\u0648\\u0651\\u0642\\u064d\\u0627\\u0644: \\u064e\\u0643\\u0644 \\u064f\\u0630\\u064c\\u0644\\u0643 \\u064f\\u0630\\u0643\\u0631\\u0650\\u062a\\u0647 \\u0641\\u0651\\u064a \\u0643\\u062a\\u0627\\u0628\\u064a \\u064b\\\"\\u0627\\u0644\\u062c\\u0630\\u0648\\u0631 \\u0650\\u0627\\u064f\\u0644\\u062a\\u0627\\u0631\\u0652\\u064a\\u064d\\u062e\\u0650\\u064a\\u0651\\u0629\\u064d \\u064e\\u0644\\u064f\\u0644\\u0639\\u064b\\u0644\\u0627\\u0642\\u0627\\u0650\\u062a\\u064f \\u064e\\u0627\\u064f\\u0644\\u062b\\u0652\\u0642\\u0627\\u0650\\u0641\\u064d\\u064a\\u0629 \\u064c\\u0628\\u064a\\u064b\\u0646 \\u0650\\u0627\\u0644\\u0625\\u0645\\u0627\\u0631\\u0627\\u064c\\u062a\\u064c \\u064f\\u0648\\u064e\\u0627\\u064b\\u0644\\u0643\\u0650\\u0648\\u064a\\u064f\\u062a\\\"\\u060c \\u0652\\u0648\\u0643\\u064b\\u0627\\u064b\\u0646 \\u064c\\u0628\\u064f\\u0645\\u064f\\u062b\\u064f\\u0627\\u064e\\u0628\\u064c\\u0629\\u064d \\u064c\\u0631\\u0652\\u0633\\u064b\\u0627\\u0651\\u0644\\u064e\\u0629 \\u0634\\u0652\\u0643\\u0631 \\u0652\\u0644\\u0644\\u0643\\u0648\\u064a\\u062a\\u060c \\u0648\\u064c\\u0623\\u0636\\u0650\\u0627\\u064d\\u0641:\\u064d \\u0623\\u062c\\u064f\\u0644\\u060c\\u064e \\u064c\\u062a\\u062a\\u0644\\u0645\\u0630\\u0646\\u0627\\u064c \\u0639\\u064f\\u0644\\u0651\\u0649 \\u0650\\u0645\\u064d\\u0646\\u064c\\u0627\\u064c\\u0647\\u062c \\u064b\\u0627\\u0644\\u0643\\u064e\\u0648\\u064b\\u064a\\u062a\\u064d\\u060c\\u0650 \\u0648\\u0642\\u0631\\u0623\\u0646\\u0627\\u064d \\u0650\\u0639\\u064e\\u0628\\u0627\\u0631\\u064d\\u0629 \\u064e\\\"\\u0639\\u064f\\u0644\\u0645 \\u0628\\u0651\\u0644\\u0651\\u0627\\u062f\\u064a\\u0650 \\u0651\\u0644\\u0651\\u0648\\u064e\\u0646\\u0647\\u0650 \\u064c\\u0623\\u064c\\u062d\\u0645\\u0650\\u0631\\\" \\u0648\\u0650\\u0627\\u0631\\u062a\\u064c\\u062f\\u064a\\u0646\\u0652\\u0627\\u064e \\u0632\\u064a \\u0627\\u064e\\u0644\\u0652\\u0645\\u062f\\u0651\\u0627\\u0652\\u0631\\u064b\\u0633\\u064f \\u064d\\u0627\\u0644\\u0643\\u064d\\u0648\\u064e\\u064a\\u062a\\u064a\\u0629 \\u0623\\u062b\\u064f\\u0646\\u064f\\u0627\\u064e\\u0621\\u064c \\u0651\\u062a\\u0639\\u064e\\u0644\\u0650\\u064a\\u0645\\u0646\\u0627\\u064c\\u060c \\u064c\\u0648\\u0652\\u062a\\u064d\\u0646\\u0627\\u0650\\u0648\\u0644\\u064b\\u0646\\u0627 \\u0627\\u0644\\u064e\\u0648\\u062c\\u064f\\u0628\\u0652\\u0627\\u062a\\u064d \\u0627\\u0651\\u0644\\u0635\\u0628\\u0627\\u062d\\u0650\\u064a\\u0629\\u0651 \\u0627\\u0651\\u0644\\u0650\\u0643\\u064b\\u0648\\u064a\\u062a\\u064a\\u0629\\u0650 \\u064d\\u0641\\u0650\\u064a \\u0645\\u062f\\u064b\\u0627\\u064b\\u0631\\u064c\\u0633\\u0646\\u0627\\u0652\\u060c\\u064b \\u0648\\u0627\\u0633\\u062a\\u062e\\u064c\\u062f\\u064f\\u0645\\u0651\\u0646\\u0627 \\u064d\\u0627\\u064b\\u0644\\u064c\\u0623\\u0650\\u0642\\u064c\\u0644\\u0627\\u0651\\u0645 \\u0652\\u0648\\u064d\\u0627\\u0644\\u0652\\u0645\\u0645\\u064e\\u062d\\u0651\\u0627\\u064f\\u064a\\u064d\\u0627\\u064b\\u062a\\u064e \\u0648\\u0627\\u064d\\u0644\\u064b\\u0645\\u0628\\u0631\\u0627\\u064a\\u0652\\u0627\\u064b\\u062a \\u064d\\u0627\\u0644\\u064e\\u0643\\u0648\\u064c\\u064a\\u062a\\u064a\\u0629\\u064e\\u060c \\u0644\\u064d\\u0627\\u064c \\u0641\\u0631\\u0642 \\u064f\\u0628\\u064b\\u064a\\u064c\\u0646\\u064d\\u0646\\u0651\\u0627\\u060c \\u0628\\u064a\\u064b\\u0626\\u0650\\u062a\\u0627 \\u0628\\u064f\\u0644\\u062f\\u064a\\u0646\\u0627\\u064b \\u0648\\u0650\\u0627\\u064f\\u062d\\u0652\\u062f\\u0629\\u064d\\u060c \\u0647\\u064a \\u0627\\u064f\\u0644\\u0628\\u0650\\u064a\\u0650\\u0626\\u0629\\u064b \\u064c\\u0627\\u0650\\u0644\\u0628\\u062d\\u0631\\u064a\\u0629\\u064f \\u064f.\\u064b \\u0648\\u0628\\u0652\\u0639\\u062f\\u064f \\u064f\\u0623\\u0650\\u0641\\u064c\\u0648\\u0644 \\u062a\\u064d\\u062c\\u0627\\u0652\\u0631\\u0629\\u064c \\u0627\\u0644\\u0644\\u0624\\u0644\\u064b\\u0624\\u060c \\u0651\\u0641\\u064f\\u0625\\u0652\\u0646\\u0651 \\u0645\\u0651\\u062b\\u064e\\u0642\\u064f\\u0641\\u064a\\u0646\\u0627\\u064c \\u0648\\u064d\\u0639\\u0650\\u0645\\u064e\\u0627\\u0644\\u064f\\u0646\\u064f\\u0627 \\u062a\\u0648\\u062c\\u0647\\u0648\\u0627\\u064b \\u0625\\u0644\\u0649 \\u0627\\u0644\\u064e\\u0643\\u0650\\u0648\\u064b\\u064a\\u064b\\u062a\\u064f \\u0644\\u0650\\u0644\\u0639\\u064d\\u0645\\u0644 \\u0651\\u0641\\u064f\\u064a\\u0647\\u0627\\u064f\\u060c \\u0650\\u0643\\u0651\\u0645\\u0627 \\u0623\\u064f\\u0646 \\u0647\\u064c\\u0646\\u0627\\u0643 \\u0623\\u064f\\u062c\\u064a\\u0627\\u064c\\u0644\\u0651\\u0627\\u0650\\u064b \\u064e\\u0645\\u064b\\u0646 \\u0627\\u0652\\u0644\\u064e\\u0643\\u064b\\u0648\\u064a\\u062a\\u064b\\u064a\\u064a\\u0646 \\u064b\\u0639\\u064d\\u0627\\u0634\\u0648\\u064b\\u0627 \\u0641\\u064e\\u064a \\u064f\\u0627\\u0650\\u0644\\u064e\\u0625\\u064d\\u0645\\u0627\\u0631\\u0627\\u062a\\u064d\\u060c \\u064d\\u0648\\u0651\\u0645\\u064e\\u0646\\u064b\\u0647\\u0645 \\u0645\\u0646\\u064c \\u064b\\u0639\\u0650\\u0644\\u0652\\u0645\\u064d\\u0648\\u064e\\u0646\\u0627 .\\u0651 \\u0643\\u0645\\u0627 \\u0631\\u0627\\u0651\\u062d\\u0652 \\u064a\\u0650\\u062a\\u062d\\u064d\\u062f\\u062b \\u0639\\u0646\\u0651 \\u0627\\u0644\\u062a\\u0641\\u064e\\u0627\\u0639\\u064e\\u0644\\u064b \\u0627\\u064c\\u0644\\u062b\\u0650\\u0642\\u0652\\u0627\\u0641\\u064c\\u064a \\u0628\\u064d\\u064a\\u0646\\u0650 \\u064b\\u0627\\u0644\\u064d\\u0628\\u0644\\u0651\\u062f\\u064a\\u064d\\u0646 \\u0639\\u064e\\u0628\\u0631 \\u064d\\u0642\\u064d\\u0635\\u064f\\u0627\\u0626\\u0650\\u062f\\u064d \\u0627\\u0651\\u0644\\u064b\\u0634\\u0639\\u0652\\u0631\\u0627\\u064e\\u0621\\u060c\\u064d \\u064b\\u0627\\u0644\\u0652\\u0641\\u0652\\u0635\\u0652\\u062d\\u064c\\u0649\\u064b \\u0648\\u064c\\u0627\\u0644\\u0650\\u0646\\u064b\\u0628\\u0637\\u064a\\u064f\\u0629\\u0650\\u060c \\u0650\\u0641\\u0652\\u0636\\u064b\\u0644\\u0650\\u0627\\u064b\\u064b \\u064c\\u0639\\u064d\\u0646 \\u0651\\u0627\\u064d\\u0644\\u062a\\u0641\\u064c\\u0627\\u0639\\u064f\\u0644\\u064c \\u0651\\u0645\\u0652\\u0639 \\u0648\\u064b\\u0633\\u0627\\u0652\\u0626\\u064b\\u0644\\u064b \\u0627\\u0644\\u0625\\u0650\\u0639\\u0644\\u0627\\u0645\\u0650 \\u064d\\u0641\\u0650\\u064a\\u064e \\u0643\\u0644\\u0627 \\u0627\\u064b\\u0644\\u0628\\u0651\\u0644\\u064e\\u062f\\u064c\\u064a\\u064d\\u0646\\u060c\\u064c \\u0650\\u0625\\u064f\\u0630 \\u064c\\u0641\\u064c\\u062a\\u062d\\u062a\\u0650 \\u064c\\u0627\\u0644\\u0651\\u0635\\u064d\\u062d\\u064e\\u0627\\u064c\\u0641\\u0629\\u0650 \\u0627\\u064e\\u0644\\u064e\\u0643\\u0648\\u064a\\u062a\\u064a\\u0650\\u0629\\u064f \\u0651\\u0623\\u064f\\u0628\\u0652\\u0648\\u064e\\u0627\\u0628\\u0647\\u064d\\u0627\\u0651 \\u0644\\u0644\\u0645\\u062b\\u0642\\u0641\\u064a\\u064b\\u0646\\u064b \\u0627\\u064f\\u0644\\u0625\\u0645\\u0627\\u0631\\u0652\\u0627\\u0650\\u062a\\u064f\\u064a\\u064e\\u064a\\u0650\\u0646 .\",\n          \"https://example.com/resource/\\u0623\\u0650\\u0628\\u0648\\u0638\\u0628\\u064f\\u064a\\u0651 \\u064c-\\u0650 \\u064b\\u0645\\u0646\\u0651\\u064a\\u0650 \\u0650\\u0628\\u0651\\u0648\\u0651\\u0646\\u0639\\u064f\\u0627\\u064b\\u0645\\u0629:\\u0646\\u064e\\u0638\\u0645 \\u0627\\u062a\\u062d\\u0627\\u062f \\u064d\\u0643\\u0651\\u062a\\u0627\\u0650\\u0628\\u064d \\u0651\\u0648\\u0652\\u0623\\u062f\\u0652\\u0628\\u064e\\u0627\\u064b\\u0621 \\u064f\\u0627\\u0644\\u0625\\u0645\\u0627\\u0651\\u0631\\u0627\\u0650\\u062a \\u0641\\u064a \\u0623\\u0628\\u0648\\u0650\\u0638\\u0628\\u064b\\u064a\\u0651\\u060c\\u064c \\u0645\\u0633\\u064c\\u0627\\u064e\\u0621\\u064c \\u0623\\u0645\\u064c\\u0633\\u064d \\u0627\\u0644\\u064f\\u0623\\u064e\\u0648\\u0651\\u0644\\u060c \\u064f\\u0641\\u0650\\u064a\\u064d \\u0642\\u0651\\u0627\\u0650\\u0639\\u0629\\u064d \\u0627\\u0652\\u0644\\u062f\\u0643\\u062a\\u0648\\u064c\\u0631\\u064c \\u064c\\u0639\\u0628\\u062f\\u064e \\u064b\\u0627\\u0644\\u064c\\u0644\\u0647\\u0651 \\u0639\\u0645\\u0631\\u0627\\u064d\\u0646 \\u064f\\u062a\\u0650\\u0631\\u0651\\u064a\\u0645\\u0652 \\u064d\\u0641\\u064a\\u064f \\u0645\\u0651\\u0642\\u0631 \\u064d\\u0627\\u0644\\u0627\\u062a\\u064c\\u062d\\u0627\\u062f\\u064c \\u064c\\u0627\\u0644\\u064c\\u062c\\u062f\\u064a\\u0651\\u062f \\u0641\\u064a \\u0645\\u0650\\u0639\\u064e\\u0633\\u064b\\u0643\\u0631\\u064d \\u064f\\u0622\\u0644\\u0651 \\u0646\\u064b\\u0647\\u064a\\u0627\\u0646\\u064f \\u0623\\u064e\\u0645\\u0650\\u0633\\u064f\\u064a\\u0629 \\u0644\\u0652\\u0644\\u064e\\u0643\\u064c\\u0627\\u062a\\u0628\\u064d \\u0651\\u0648\\u064e\\u0627\\u0644\\u0652\\u0645\\u062b\\u064e\\u0642\\u0651\\u0641\\u064c \\u064d\\u0627\\u0644\\u0625\\u0645\\u064d\\u0627\\u064c\\u0631\\u064c\\u0627\\u062a\\u0651\\u064a\\u064f \\u0645\\u0627\\u062c\\u064c\\u062f \\u0628\\u0648 \\u0634\\u064f\\u0644\\u064a\\u0628\\u064f\\u064a\\u060c\\u064d \\u0623\\u064f\\u0645\\u064b\\u064a\\u0646 \\u0639\\u0627\\u0645\\u0652 \\u0652\\u0627\\u0644\\u0645\\u0646\\u062a\\u0650\\u062f\\u0651\\u0649 \\u0650\\u0627\\u0644\\u064d\\u0625\\u064e\\u0633\\u0651\\u0644\\u0651\\u0627\\u0645\\u0652\\u064a\\u064f \\u0641\\u064f\\u064a \\u0627\\u0644\\u064e\\u0634\\u0650\\u0627\\u0631\\u064d\\u0642\\u064e\\u0629\\u064e\\u060c\\u0650 \\u064c\\u0628\\u064f\\u0639\\u0646\\u0648\\u064f\\u0627\\u0646:\\u0651 \\u0644\\u0645\\u0627\\u0630\\u0627\\u064e \\u0651\\u0627\\u064b\\u0644\\u064f\\u0634\\u0651\\u0627\\u0631\\u0642\\u0629 \\u0639\\u0651\\u0627\\u064e\\u0635\\u0645\\u0629 \\u0650\\u0644\\u064d\\u0644\\u062b\\u064f\\u0642\\u0627\\u0641\\u064b\\u0629\\u064b \\u0627\\u064c\\u0644\\u0625\\u064c\\u0633\\u0652\\u0644\\u064d\\u0627\\u0645\\u0651\\u064a\\u0629\\u064d\\u061f \\u0642\\u062f\\u0651\\u0651\\u064e\\u0645 \\u0627\\u0644\\u064e\\u0623\\u0645\\u0633\\u064a\\u064f\\u0629\\u064f \\u064d\\u0627\\u0644\\u0634\\u0650\\u0627\\u0639\\u0631\\u0652 \\u0652\\u0648\\u0627\\u0644\\u0646\\u0627\\u0652\\u0642\\u062f \\u0645\\u064b\\u062d\\u064c\\u0645\\u062f \\u0646\\u0648\\u0631 \\u064f\\u0627\\u064c\\u0644\\u062f\\u064f\\u064a\\u0646\\u060c\\u0651 \\u064b\\u0648\\u0650\\u062d\\u0636\\u0650\\u0631\\u0651\\u0647\\u064c\\u0627\\u064e \\u064f\\u062d\\u0650\\u0628\\u064d\\u064a\\u0652\\u0628\\u064b \\u0627\\u064e\\u0644\\u0635\\u064b\\u0627\\u064a\\u0650\\u063a\\u0651 \\u064e\\u0631\\u064f\\u0626\\u064a\\u064d\\u0633\\u0652 \\u0645\\u062c\\u0651\\u0644\\u0633\\u0650 \\u0625\\u064c\\u062f\\u064c\\u0627\\u0631\\u0629\\u0650 \\u0651\\u0627\\u064c\\u0644\\u064b\\u0627\\u064b\\u062a\\u062d\\u0627\\u062f\\u0650\\u060c\\u064e \\u0648\\u0639\\u064b\\u062f\\u064b\\u062f \\u0645\\u0646 \\u064d\\u0627\\u0644\\u0643\\u062a\\u0651\\u0627\\u0628\\u064e \\u0648\\u0652\\u0627\\u064f\\u0644\\u064b\\u0623\\u064f\\u062f\\u0628\\u0627\\u064d\\u0621 \\u064d.\\u064e \\u064c\\u0627\\u0633\\u062a\\u064b\\u0647\\u0651\\u0644\\u0652 \\u0627\\u0652\\u0644\\u0651\\u0645\\u064d\\u062d\\u0652\\u0627\\u064f\\u0636\\u0631 \\u0628\\u0627\\u0633\\u062a\\u0639\\u064e\\u0631\\u0627\\u0636\\u0650 \\u0627\\u0644\\u0623\\u0637\\u0631 \\u0627\\u064c\\u0644\\u0639\\u064d\\u0627\\u0645\\u0629\\u0652 \\u0651\\u0627\\u064c\\u0644\\u062a\\u064a\\u0650 \\u0639\\u0645\\u0644\\u062a \\u064d\\u0639\\u0644\\u0649 \\u062a\\u064e\\u0634\\u0643\\u0651\\u064a\\u0652\\u0644\\u064f \\u064b\\u0648\\u0628\\u0644\\u064d\\u0648\\u064f\\u0631\\u0629 \\u0627\\u064f\\u0644\\u0641\\u0643\\u064b\\u0631\\u0652\\u0629 \\u0627\\u064e\\u0644\\u064c\\u062b\\u0642\\u0651\\u0627\\u0641\\u064d\\u064a\\u064b\\u0629\\u064e \\u0641\\u064b\\u064a\\u064f \\u064c\\u0627\\u0644\\u064f\\u0634\\u0627\\u0650\\u0631\\u064b\\u0642\\u0629\\u0652\\u060c\\u0652 \\u0645\\u0646\\u064c \\u0652\\u062e\\u0652\\u0644\\u0627\\u0652\\u0644\\u064d \\u0652\\u0627\\u0644\\u062a\\u064f\\u0639\\u064d\\u0631\\u064b\\u064a\\u0641 \\u0628\\u0652\\u0627\\u0644\\u062a\\u0650\\u062c\\u064b\\u0631\\u064f\\u0628\\u0629\\u0651 \\u064f\\u0648\\u0623\\u0647\\u0645 \\u0645\\u0633\\u0652\\u0627\\u0650\\u0631\\u064d\\u0627\\u062a\\u064b\\u0647\\u064d\\u0627\\u0652\\u060c\\u064f \\u0650\\u0648\\u064b\\u0627\\u0650\\u0644\\u0651\\u0623\\u0637\\u0650\\u0648\\u064c\\u0627\\u0631 \\u0651\\u0627\\u0652\\u0644\\u064d\\u062a\\u064a \\u0650\\u0645\\u064c\\u0631\\u064b\\u062a \\u0628\\u0647\\u0650\\u0627\\u064d\\u060c \\u0628\\u0652\\u062f\\u064e\\u0621\\u0651\\u0627\\u064b\\u064d \\u0628\\u064d\\u0627\\u0644\\u062d\\u062f\\u064a\\u064c\\u062b\\u064b \\u064d\\u0639\\u064b\\u0646 \\u0628\\u064d\\u0646\\u0627\\u0652\\u0621\\u064d \\u0627\\u0644\\u0628\\u064d\\u0646\\u0649\\u0650 \\u0627\\u0651\\u0644\\u0650\\u062a\\u064c\\u062d\\u062a\\u064c\\u064a\\u064c\\u0629\\u0650 \\u064d\\u0644\\u0644\\u0645\\u0624\\u064b\\u0633\\u0633\\u0650\\u0627\\u062a \\u0650\\u0627\\u0644\\u062b\\u064e\\u0642\\u0652\\u0627\\u0641\\u064a\\u064d\\u0629\\u064c \\u064f\\u0648\\u0627\\u064e\\u0644\\u0625\\u0651\\u0639\\u064e\\u0644\\u0627\\u0645\\u0650\\u064a\\u0629\\u0651 \\u064c\\u0627\\u0644\\u062a\\u064a \\u0623\\u064d\\u0633\\u0651\\u0647\\u0645\\u064f\\u062a\\u060c \\u064d\\u0639\\u064f\\u0628\\u0631 \\u0651\\u062a\\u0627\\u0652\\u0631\\u064a\\u062e\\u0647\\u0627\\u0652\\u060c\\u064e \\u0641\\u064c\\u064a\\u0651 \\u0652\\u062a\\u064b\\u0641\\u0639\\u064a\\u0644 \\u0627\\u0651\\u0644\\u0639\\u0650\\u0645\\u064b\\u0644\\u064b \\u0627\\u064e\\u0644\\u062b\\u0650\\u0642\\u064e\\u0627\\u0650\\u0641\\u0651\\u064a \\u0641\\u064f\\u064a \\u0627\\u064d\\u0644\\u0634\\u0627\\u0652\\u0631\\u0642\\u0629\\u060c \\u0627\\u0646\\u0637\\u0644\\u064d\\u0627\\u0642\\u0627\\u064b\\u0651 \\u0645\\u0650\\u0646\\u064b \\u062a\\u0623\\u0633\\u064f\\u064a\\u0633\\u0651 \\u064c\\u062f\\u0627\\u0652\\u0626\\u0631\\u0629\\u064d \\u0652\\u0627\\u0650\\u0644\\u064f\\u062b\\u0642\\u064b\\u0627\\u0641\\u0629 \\u064d\\u0648\\u0627\\u064c\\u0644\\u0625\\u0651\\u0639\\u0644\\u0627\\u0650\\u0645\\u064f\\u060c\\u0651 \\u0648\\u0650\\u062a\\u0644\\u0641\\u0632\\u064a\\u0648\\u064b\\u0646 \\u0627\\u0644\\u064f\\u0634\\u0627\\u064c\\u0631\\u0642\\u0652\\u0629\\u0650 \\u0648\\u0645\\u0627 \\u062a\\u062e\\u064d\\u0644\\u064c\\u0644\\u064f \\u0630\\u0644\\u0643\\u064c \\u064e\\u0645\\u064b\\u0646\\u064f \\u0625\\u064b\\u0628\\u0631\\u0627\\u0632\\u064f \\u0648\\u062a\\u0634\\u062c\\u064c\\u064a\\u064f\\u0639\\u064d \\u064f\\u0644\\u0644\\u062b\\u0642\\u064b\\u0627\\u064c\\u0641\\u0629 \\u0648\\u064b\\u0627\\u064b\\u0644\\u0641\\u0646\\u064e\\u0648\\u064d\\u0646\\u064e \\u0645\\u0646\\u064f \\u064f\\u062e\\u0644\\u0627\\u0644 \\u064b\\u0627\\u064f\\u0644\\u064f\\u0645\\u064d\\u0639\\u064d\\u0627\\u0631\\u0636 \\u0627\\u0644\\u0651\\u0641\\u064f\\u0646\\u064a\\u064b\\u0629\\u064f \\u0648\\u064d\\u0627\\u0644\\u0650\\u0641\\u0639\\u0627\\u064e\\u0644\\u064a\\u0627\\u062a\\u0652 \\u064f\\u0627\\u0652\\u0644\\u064c\\u062b\\u0642\\u064b\\u0627\\u0651\\u0641\\u064b\\u064a\\u0629 \\u064f\\u0627\\u0644\\u062a\\u064f\\u064a \\u0651\\u062a\\u0635\\u0628 \\u064d\\u0641\\u064a \\u0642\\u0627\\u064b\\u0644\\u064b\\u0628\\u0650 \\u0627\\u0644\\u0646\\u064c\\u0647\\u064b\\u0648\\u0636\\u064b \\u0644\\u064b\\u0634\\u0627\\u064b\\u0631\\u064d\\u0642\\u0650\\u0629\\u064d \\u0627\\u0644\\u0652\\u062b\\u0642\\u064f\\u0627\\u0641\\u0652\\u0629\\u064e \\u064d\\u0648\\u0627\\u0644\\u0645\\u064c\\u0639\\u0631\\u0641\\u064e\\u0629\\u064c\\u060c \\u0645\\u064c\\u0627 \\u064a\\u064c\\u062c\\u064b\\u064a\\u0628 \\u0628\\u064b\\u0634\\u0643\\u0644\\u0650 \\u0642\\u064b\\u0637\\u0639\\u0650\\u064a \\u064d\\u0639\\u064c\\u0646\\u064d \\u0627\\u0651\\u0644\\u064e\\u062a\\u064e\\u0633\\u0651\\u0627\\u0624\\u0644 \\u0652\\u0627\\u0644\\u0645\\u0652\\u0631\\u0643\\u0632\\u064b\\u064a\\u0650 \\u0644\\u0645\\u0627\\u0651\\u0630\\u0627\\u0651 \\u064f\\u0627\\u0650\\u0644\\u0634\\u0627\\u0651\\u0631\\u0642\\u0629\\u0651 \\u0639\\u0627\\u064b\\u0635\\u0645\\u0629\\u064f \\u064f\\u0627\\u064d\\u0644\\u064d\\u062b\\u0650\\u0642\\u0627\\u0641\\u064b\\u0629\\u064c \\u0627\\u064d\\u0644\\u0651\\u0625\\u0633\\u064b\\u0644\\u064c\\u0627\\u0645\\u064a\\u0629\\u064e\\u061f \\u064b\\u0648\\u064d\\u0623\\u0650\\u0634\\u0652\\u0627\\u0631 \\u064c\\u0627\\u0644\\u0645\\u062d\\u0627\\u064b\\u0636\\u0651\\u0631\\u064e \\u0652\\u0625\\u064f\\u0644\\u0649 \\u064e\\u0627\\u064d\\u0644\\u064d\\u062d\\u0631\\u0627\\u0643 \\u064d\\u0627\\u0644\\u062b\\u0642\\u0627\\u064e\\u0641\\u064a\\u0650 \\u0650\\u0627\\u0644\\u064b\\u0646\\u064f\\u0634\\u0637\\u0651 \\u0627\\u0644\\u0630\\u064c\\u064a\\u0652 \\u0634\\u0643\\u064b\\u0644\\u064f \\u0652\\u0627\\u0651\\u0644\\u064d\\u0628\\u0650\\u0648\\u0651\\u0627\\u0643\\u064f\\u064a\\u0631 \\u064c\\u0627\\u064d\\u0644\\u064b\\u0623\\u064c\\u0648\\u0644\\u0649\\u064c \\u0651\\u0644\\u0644\\u0651\\u0639\\u0645\\u0651\\u0644 \\u0627\\u0644\\u062b\\u0642\\u0627\\u0641\\u064a \\u0651\\u0641\\u064c\\u064a\\u064b \\u0627\\u0644\\u0652\\u0634\\u0651\\u0627\\u0651\\u0631\\u064f\\u0642\\u0629\\u064c\\u060c\\u0652 \\u0650\\u0627\\u064d\\u0644\\u0630\\u0651\\u064a\\u0651 \\u0634\\u0645\\u064c\\u0644 \\u0643\\u0627\\u0641\\u0629\\u064f \\u064e\\u0627\\u0644\\u064b\\u062c\\u0648\\u0627\\u0646\\u064c\\u0628\\u064c \\u0650\\u0628\\u0645\\u0627\\u064f \\u064b\\u0641\\u0652\\u064a\\u0652\\u0647\\u0627\\u064d \\u0625\\u0646\\u0652\\u0634\\u064c\\u0627\\u0621 \\u0651\\u0627\\u0644\\u0645\\u0631\\u0627\\u0643\\u0652\\u0632 \\u0648\\u0627\\u064e\\u0644\\u0645\\u062f\\u064f\\u0627\\u064d\\u0631\\u0633 \\u064b\\u0648\\u0650\\u0627\\u064c\\u0644\\u0651\\u062c\\u0652\\u0627\\u0645\\u0652\\u0639\\u0651\\u0627\\u062a\\u0652 \\u064f\\u0648\\u0650\\u0627\\u0644\\u0641\\u064f\\u0646\\u0650\\u0648\\u064e\\u0646\\u0652 \\u064b\\u0648\\u064b\\u0627\\u0644\\u0652\\u0645\\u0651\\u0633\\u064e\\u0627\\u0650\\u0631\\u062d \\u064d\\u0644\\u062a\\u0651\\u0639\\u0632\\u064b\\u064a\\u0632 \\u0627\\u0644\\u0641\\u0639\\u0644\\u064b \\u0627\\u0644\\u064b\\u062b\\u064e\\u0642\\u064e\\u0627\\u0651\\u0641\\u064c\\u064a\\u064d \\u0648\\u064c\\u062a\\u0633\\u0631\\u064a\\u064c\\u0639\\u064f \\u0639\\u062c\\u064f\\u0644\\u0629\\u064f \\u0627\\u0644\\u0650\\u0646\\u064e\\u0634\\u0627\\u0637\\u0652 \\u064d\\u0627\\u0644\\u062b\\u0642\\u064c\\u0627\\u0651\\u0641\\u0650\\u064a \\u064b\\u0641\\u064a \\u0627\\u064d\\u0644\\u0651\\u0634\\u0627\\u064b\\u0631\\u0642\\u0629\\u0650\\u060c\\u0651 \\u0643\\u0645\\u064c\\u0627 \\u064d\\u062a\\u0650\\u0645 \\u062a\\u062e\\u0635\\u064a\\u0635\\u064f \\u064f\\u0645\\u064c\\u0633\\u0650\\u0627\\u062d\\u0629 \\u0645\\u064c\\u0639\\u062a\\u064b\\u0628\\u0651\\u0631\\u064f\\u0629\\u064e \\u064b\\u0644\\u0644\\u0637\\u0641\\u0644\\u064f \\u0648\\u062b\\u0642\\u0652\\u0627\\u0652\\u0641\\u064c\\u062a\\u0647\\u064c\\u060c\\u0650 \\u0645\\u0646\\u0651 \\u062e\\u0652\\u0644\\u064f\\u0627\\u0644 \\u0625\\u0646\\u0634\\u064b\\u0627\\u0652\\u0621\\u064e \\u0651\\u0645\\u064f\\u0631\\u064c\\u0627\\u0643\\u0652\\u0632 \\u064c\\u0645\\u064c\\u0643\\u062a\\u0628\\u0652\\u0627\\u064c\\u062a \\u064e\\u0627\\u0644\\u064e\\u0623\\u0650\\u0637\\u064d\\u0641\\u064c\\u0627\\u0644\\u060c \\u0648\\u064d\\u0645\\u064d\\u0631\\u0652\\u0627\\u0643\\u0632 \\u064e\\u0627\\u064c\\u0644\\u0623\\u0637\\u0641\\u064c\\u0627\\u064d\\u0644\\u064d\\u060c \\u062b\\u0645\\u064c \\u0645\\u0652\\u0631\\u064d\\u0627\\u0643\\u0632 \\u064b\\u0627\\u064e\\u0644\\u0652\\u0646\\u0627\\u0634\\u0651\\u0626\\u0629\\u060c \\u0641\\u0645\\u0652\\u062c\\u064f\\u0644\\u0633 \\u064b\\u0623\\u064e\\u0639\\u0644\\u0649\\u064e \\u0652\\u0644\\u064f\\u0644\\u0637\\u0641\\u064e\\u0644\\u0652 \\u0625\\u064e\\u0644\\u0649 \\u064c\\u063a\\u064a\\u0631 \\u0630\\u064b\\u0644\\u0643 \\u0651\\u0645\\u0646 \\u0627\\u0644\\u0633\\u064b\\u064a\\u0627\\u0633\\u064c\\u0627\\u062a \\u064b\\u0627\\u0644\\u0652\\u062a\\u064a\\u064c \\u064e\\u0627\\u0650\\u0639\\u0650\\u062a\\u064b\\u0645\\u064b\\u062f\\u0647\\u0650\\u0627\\u064e \\u064d\\u0635\\u0651\\u0627\\u0652\\u062d\\u0628\\u0650 \\u0652\\u0627\\u0652\\u0644\\u0633\\u064c\\u0645\\u0648\\u064f \\u064b\\u0627\\u064b\\u0644\\u0650\\u0634\\u064f\\u064a\\u064d\\u062e \\u064f\\u0627\\u0644\\u062f\\u064b\\u0643\\u062a\\u0648\\u064f\\u0631 \\u064b\\u0633\\u064d\\u0644\\u064f\\u0637\\u0627\\u0646 \\u0628\\u0646 \\u0645\\u064e\\u062d\\u064c\\u0645\\u062f \\u0627\\u0650\\u0644\\u0642\\u0652\\u0627\\u0633\\u0645\\u064a\\u0652 \\u064e\\u0639\\u064d\\u0636\\u0648\\u064f \\u0627\\u0644\\u0645\\u062c\\u0650\\u0644\\u0633\\u064b \\u064c\\u0627\\u064d\\u0644\\u064b\\u0623\\u0639\\u0651\\u0644\\u0652\\u0649 \\u062d\\u064b\\u0627\\u0643\\u064c\\u0645\\u064e \\u064f\\u0627\\u064e\\u0644\\u0634\\u064e\\u0627\\u0650\\u0631\\u0642\\u064c\\u0629\\u0652 \\u064e\\u0644\\u0644\\u0650\\u0631\\u0642\\u0652\\u064a\\u064e \\u064c\\u0628\\u062b\\u0650\\u0642\\u064c\\u0627\\u064f\\u0641\\u064d\\u0629\\u0652 \\u0627\\u0652\\u0644\\u0637\\u0650\\u0641\\u0644 \\u0648\\u0652\\u062a\\u0646\\u064d\\u0645\\u064a\\u0651\\u0629 \\u0652\\u0645\\u064c\\u062f\\u064f\\u0627\\u064e\\u0631\\u064c\\u0643\\u0652\\u0647\\u0652 \\u0648\\u064d\\u0642\\u064e\\u062f\\u0631\\u0652\\u0627\\u0651\\u062a\\u064d\\u0647\\u064b \\u0650. \\u0648\\u064b\\u0630\\u0647\\u064d\\u0628\\u064b \\u0627\\u064c\\u0644\\u0645\\u0650\\u062d\\u0651\\u0627\\u0650\\u0636\\u064b\\u0631 \\u0625\\u064d\\u0644\\u0650\\u0649\\u0650 \\u064f\\u0623\\u0646\\u064e \\u064f\\u0627\\u0644\\u0652\\u0633\\u064c\\u064a\\u0651\\u0627\\u0633\\u0650\\u0627\\u062a\\u064d \\u0627\\u0644\\u062b\\u0652\\u0642\\u0627\\u0641\\u064a\\u0629\\u064b \\u0648\\u0627\\u0644\\u062a\\u064d\\u0648\\u062c\\u064c\\u064a\\u064b\\u0647\\u0627\\u062a\\u0650 \\u0650\\u0627\\u064b\\u0644\\u064d\\u0646\\u064e\\u064a\\u0651\\u0631\\u0629\\u064c \\u0644\\u064e\\u0635\\u064c\\u0627\\u062d\\u0650\\u0628\\u064c \\u0627\\u0644\\u0633\\u0645\\u0648 \\u064d\\u062d\\u0627\\u064c\\u0643\\u0652\\u0645\\u064b \\u0627\\u064d\\u0644\\u0634\\u064c\\u0627\\u0631\\u064f\\u0642\\u0629 \\u064b\\u062c\\u064c\\u0639\\u0644\\u0650\\u062a\\u064f \\u0650\\u0645\\u064e\\u0646 \\u0627\\u0651\\u0644\\u0639\\u064d\\u0645\\u064c\\u0644\\u064e \\u0627\\u0644\\u064d\\u062b\\u064b\\u0642\\u0627\\u064d\\u0641\\u064f\\u064a\\u0652 \\u0641\\u064a\\u064e \\u0627\\u0652\\u0644\\u064d\\u0634\\u0627\\u0631\\u064f\\u0642\\u0651\\u0629\\u064c \\u0639\\u0645\\u0644\\u0627\\u064b\\u0650 \\u0646\\u064e\\u0634\\u064d\\u0637\\u0651\\u0627\\u064b \\u0648\\u0651\\u0642\\u0651\\u0648\\u0651\\u064a\\u0652\\u0627\\u064b\\u064c \\u064e\\u0633\\u0648\\u064f\\u0627\\u0621 \\u064f\\u0645\\u064d\\u0646 \\u0652\\u062e\\u0652\\u0644\\u0650\\u0627\\u0644 \\u062a\\u064d\\u0648\\u064e\\u062c\\u0650\\u064a\\u0647\\u0627\\u064c\\u062a\\u064c \\u0650\\u0633\\u064e\\u0645\\u0651\\u0648\\u0647 \\u064c\\u0644\\u064e\\u0644\\u0627\\u0652\\u0631\\u062a\\u064d\\u0642\\u0651\\u0627\\u0621 \\u064c\\u0628\\u0627\\u0651\\u0644\\u064f\\u0641\\u0646\\u064f \\u0627\\u064d\\u0644\\u064d\\u062a\\u0634\\u064f\\u0643\\u064a\\u064e\\u0644\\u064e\\u064a\\u0652 \\u0648\\u064b\\u062a\\u0634\\u064f\\u062c\\u064d\\u064a\\u0639 \\u064b\\u0627\\u0652\\u0644\\u0641\\u0646\\u0627\\u0650\\u0646\\u064a\\u0646\\u060c\\u064c \\u0648\\u064f\\u0627\\u0642\\u062a\\u0646\\u064d\\u0627\\u0621\\u064c \\u0652\\u0623\\u064c\\u0639\\u064e\\u0645\\u064e\\u0627\\u0644 \\u0641\\u064b\\u0646\\u0651\\u064a\\u064e\\u0629\\u064e \\u0644\\u0645\\u0635\\u0650\\u0644\\u0652\\u062d\\u064d\\u0629\\u064f \\u064f\\u0645\\u062a\\u064b\\u062d\\u064d\\u0641\\u0651 \\u0627\\u0644\\u064b\\u0634\\u0627\\u0631\\u0651\\u0642\\u0629\\u060c \\u0648\\u064f\\u0625\\u064c\\u0646\\u062c\\u0627\\u0632 \\u064e\\u0642\\u0652\\u0627\\u0639\\u0629 \\u064e\\u062e\\u064f\\u0627\\u0651\\u0635\\u0629\\u0652 \\u064f\\u0628\\u0627\\u064f\\u0644\\u0622\\u062b\\u0650\\u0627\\u0651\\u0631 \\u0627\\u064b\\u0644\\u0625\\u0633\\u064d\\u0644\\u064c\\u0627\\u064d\\u0645\\u0651\\u064a\\u0629\\u064b \\u064f\\u0641\\u064e\\u064a \\u0645\\u062a\\u062d\\u0641 \\u0627\\u0652\\u0644\\u064d\\u0634\\u0627\\u0651\\u0631\\u0642\\u064e\\u0629\\u060c\\u064c \\u064d\\u0623\\u064b\\u0645\\u064e \\u0645\\u064f\\u0646 \\u062e\\u064c\\u0644\\u0627\\u0651\\u0644 \\u0650\\u0627\\u0633\\u064b\\u062a\\u0643\\u0645\\u0651\\u0627\\u064d\\u0644 \\u0627\\u0652\\u0644\\u0645\\u0652\\u0634\\u0652\\u0631\\u0648\\u0639\\u0627\\u064d\\u062a\\u064c \\u0627\\u0644\\u062b\\u0652\\u0642\\u0651\\u0627\\u0652\\u0641\\u064a\\u0629\\u064c \\u0648\\u064e\\u062a\\u0631\\u0645\\u064a\\u0645 \\u0627\\u0651\\u0644\\u0645\\u0628\\u0627\\u0646\\u064c\\u064a\\u064f \\u0627\\u0644\\u064d\\u062a\\u0650\\u0631\\u0627\\u0650\\u062b\\u064a\\u0650\\u0629 \\u0652\\u0648\\u063a\\u064a\\u0631\\u0647\\u064b\\u0627\\u064f \\u0645\\u064f\\u0646 \\u0627\\u064e\\u0644\\u0651\\u0623\\u0639\\u0651\\u0645\\u0627\\u0644 \\u064c\\u0648\\u0650\\u0627\\u0644\\u0623\\u064f\\u0646\\u0634\\u064e\\u0637\\u0629 \\u0652\\u0627\\u0644\\u062a\\u064a \\u062a\\u0635\\u0628 \\u0641\\u064a\\u064d \\u064e\\u0635\\u0645\\u064e\\u064a\\u0651\\u0645\\u0651 \\u064b\\u0627\\u0644\\u0650\\u0641\\u0639\\u0651\\u0644\\u064d \\u0627\\u064f\\u0644\\u064e\\u062b\\u064c\\u0642\\u0627\\u064b\\u0641\\u0651\\u064a .\\u0648\\u0623\\u0652\\u0643\\u064e\\u062f\\u064d \\u0627\\u0652\\u0644\\u0650\\u0645\\u0650\\u062d\\u0650\\u0627\\u064c\\u0636\\u0631 \\u0623\\u064d\\u0646 \\u0627\\u064c\\u0644\\u064e\\u062f\\u064e\\u0648\\u0652\\u0631\\u0629\\u0652 \\u064b\\u0627\\u0652\\u0644\\u064c\\u0623\\u064c\\u0648\\u064c\\u0644\\u064f\\u0649\\u0651 \\u0644\\u0645\\u064e\\u0639\\u0631\\u064d\\u0636\\u064d \\u0627\\u0644\\u0650\\u0643\\u0650\\u062a\\u0651\\u0627\\u0628\\u060c \\u0627\\u0644\\u0630\\u064d\\u064a \\u0623\\u0635\\u0651\\u0628\\u062d \\u0627\\u0651\\u0644\\u0652\\u064a\\u064f\\u0648\\u064c\\u0645\\u0651 \\u0648\\u062c\\u064b\\u0647\\u0629 \\u0639\\u0627\\u064b\\u0644\\u0651\\u0645\\u064a\\u0650\\u0629 \\u0644\\u0651\\u0644\\u0643\\u062a\\u0627\\u064d\\u0628\\u064e \\u064c\\u0648\\u0627\\u0644\\u0650\\u0645\\u0641\\u064e\\u0643\\u064b\\u0631\\u064a\\u0650\\u0646 \\u064e\\u0645\\u0650\\u0646\\u0650 \\u0623\\u0650\\u0646\\u064d\\u062d\\u064d\\u0627\\u064d\\u0621\\u064c \\u0627\\u064e\\u0644\\u0650\\u0639\\u0651\\u0627\\u0651\\u0644\\u0645\\u0652 \\u0638\\u0652\\u0644\\u0627\\u0644\\u0647\\u064c \\u0627\\u0644\\u0650\\u0648\\u0627\\u0631\\u064f\\u0641\\u0629\\u064e\\u060c\\u064f \\u0634\\u064d\\u0643\\u064d\\u0644\\u062a\\u0650 \\u064d\\u0646\\u064f\\u0642\\u064b\\u0637\\u0629 \\u064f\\u0627\\u064f\\u0646\\u064c\\u0637\\u0644\\u064e\\u0627\\u0652\\u0642 \\u064f\\u0648\\u062a\\u062d\\u0648\\u0650\\u0651\\u064d\\u0644 \\u0641\\u0652\\u064a\\u064d \\u0627\\u064e\\u0644\\u0645\\u0634\\u0652\\u0631\\u0652\\u0648\\u0639 \\u0652\\u0627\\u0644\\u0651\\u062b\\u0642\\u0652\\u0627\\u0652\\u0641\\u064d\\u064a\\u064f \\u0652\\u0644\\u064d\\u0635\\u0627\\u062d\\u0628 \\u064c\\u0627\\u064d\\u0644\\u064e\\u0633\\u0651\\u0645\\u0650\\u0648\\u064d \\u0650\\u062d\\u064d\\u0627\\u0643\\u0645\\u064f \\u0627\\u0652\\u0644\\u0634\\u0652\\u0627\\u064b\\u0631\\u0642\\u0651\\u0629\\u060c\\u0652 \\u0643\\u0652\\u0645\\u064b\\u0627\\u064e \\u064c\\u062a\\u0632\\u064f\\u0627\\u064d\\u0645\\u0646 \\u064c\\u0645\\u064c\\u0639\\u0651 \\u064e\\u0647\\u0650\\u0630\\u0647 \\u0627\\u0644\\u062f\\u0648\\u0631\\u0651\\u0629 \\u0627\\u064b\\u0641\\u0652\\u062a\\u062a\\u0627\\u062d \\u0645\\u064f\\u0643\\u064b\\u062a\\u0628\\u0652\\u0629\\u064e \\u0627\\u0644\\u064b\\u0645\\u064f\\u062d\\u0650\\u0645\\u0651\\u0648\\u062f\\u064e \\u0652(\\u0651\\u0627\\u0644\\u0652\\u0623\\u064b\\u0647\\u064f\\u0644\\u0650\\u064a\\u0629\\u0652)\\u0652\\u060c\\u0652 \\u0651\\u062b\\u064c\\u0645 \\u064b\\u0627\\u0644\\u0650\\u0645\\u0651\\u0631\\u064f\\u0643\\u0652\\u0632\\u0651 \\u064e\\u0627\\u0652\\u0644\\u064c\\u062b\\u0651\\u0642\\u0627\\u0641\\u0652\\u064a\\u064d \\u064f\\u0641\\u064a\\u0645\\u0627\\u0652 \\u0628\\u0639\\u062f\\u064d .\\u0652\\u0648\\u0651\\u0627\\u064c\\u0639\\u062a\\u0628\\u064d\\u0631 \\u0627\\u064d\\u0644\\u064c\\u0645\\u062d\\u064e\\u0627\\u064b\\u0636\\u0651\\u0631 \\u064b\\u0623\\u0646 \\u064b\\u062d\\u064b\\u0632\\u0645\\u0629 \\u0652\\u0627\\u0652\\u0644\\u064c\\u0645\\u064d\\u0647\\u064d\\u0631\\u062c\\u064d\\u0627\\u064d\\u0646\\u0627\\u0651\\u062a \\u0652\\u0648\\u0651\\u0627\\u0644\\u064f\\u0641\\u064b\\u0639\\u0650\\u0627\\u0644\\u064a\\u0650\\u0627\\u0651\\u062a\\u064b \\u0627\\u0644\\u0652\\u062a\\u064a\\u0650 \\u062a\\u0642\\u0652\\u0627\\u0650\\u0645 \\u0652\\u0639\\u0644\\u0651\\u0649 \\u0645\\u062f\\u0627\\u064c\\u0631\\u0650 \\u0627\\u064e\\u0644\\u0639\\u0627\\u0645\\u0650 \\u0650\\u0641\\u064a \\u064c\\u0627\\u0644\\u064e\\u0634\\u0627\\u064d\\u0631\\u0642\\u0629\\u064f\\u060c\\u0652 \\u0651\\u0648\\u0645\\u0627 \\u064a\\u0651\\u062a\\u064c\\u062e\\u0644\\u0650\\u0644\\u0647\\u064f\\u0627\\u0651 \\u0645\\u0646 \\u0623\\u0646\\u0634\\u0637\\u064c\\u0629\\u064d \\u062b\\u0642\\u064d\\u0627\\u0641\\u0652\\u064a\\u0629\\u064f \\u064c\\u0645\\u0651\\u062a\\u064f\\u0646\\u0648\\u064d\\u0639\\u0652\\u0629 \\u064d\\u062a\\u064c\\u0634\\u064b\\u0643\\u0652\\u0644\\u064f \\u064f\\u0623\\u064d\\u0648\\u062c\\u064c \\u0650\\u0627\\u064f\\u0644\\u062d\\u0631\\u064d\\u0627\\u0652\\u0643\\u0651 \\u064f\\u0627\\u064e\\u0644\\u062b\\u0642\\u0627\\u0641\\u064b\\u064a\\u064f\\u060c\\u064d \\u0648\\u0631\\u0627\\u0651\\u0641\\u0652\\u062f\\u0652\\u0627\\u064f\\u064b\\u0651 \\u0623\\u0633\\u0627\\u064d\\u0633\\u064d\\u064a\\u064e\\u0627\\u064c\\u064b \\u0644\\u0644\\u064c\\u062a\\u0641\\u0652\\u0627\\u0639\\u0644\\u0651 \\u0651\\u0648\\u0652\\u0627\\u0644\\u0652\\u062a\\u0646\\u0627\\u0650\\u063a\\u0645 \\u0627\\u0644\\u064b\\u062b\\u0650\\u0642\\u0627\\u064b\\u0641\\u064c\\u064a \\u064d\\u0641\\u064a\\u0651 \\u0625\\u0645\\u0627\\u0631\\u0652\\u0629\\u0652 \\u062a\\u0632\\u064c\\u062f\\u0651\\u0627\\u064c\\u0646 \\u0648\\u062a\\u0652\\u0632\\u062f\\u064d\\u0647\\u0651\\u064a\\u0650 \\u0643\\u0644 \\u064e\\u062d\\u064e\\u064a\\u064e\\u0646 \\u0628\\u0651\\u0644\\u0650\\u0641\\u064f\\u062a\\u064c\\u0629\\u064b \\u0643\\u064d\\u0631\\u064a\\u0645\\u0629\\u0651 \\u0648\\u064d\\u0633\\u064c\\u0627\\u064e\\u0646\\u062d\\u0629 \\u064e\\u0637\\u064a\\u064e\\u0628\\u0629 \\u0645\\u0650\\u0646 \\u0652\\u062d\\u0627\\u064e\\u0643\\u064b\\u0645 \\u0645\\u062b\\u0642\\u0641\\u0652\\u060c \\u064a\\u064e\\u062d\\u064b\\u0645\\u064d\\u0644\\u0652 \\u0639\\u0644\\u0649 \\u0639\\u064d\\u0627\\u064b\\u062a\\u064f\\u0642\\u0647 \\u064b\\u0627\\u064e\\u0644\\u064e\\u0646\\u0651\\u0647\\u064f\\u0648\\u064d\\u0636 \\u064f\\u0628\\u0652\\u0627\\u064c\\u0644\\u062b\\u064d\\u0642\\u064f\\u0627\\u064c\\u0641\\u064b\\u0629\\u064c \\u0648\\u064f\\u0627\\u064c\\u0644\\u064b\\u0645\\u064e\\u0639\\u064b\\u0631\\u0650\\u0641\\u0629 \\u064b.\\u0648\\u062e\\u0651\\u0644\\u0650\\u0635 \\u064f\\u0627\\u0650\\u0644\\u0650\\u0645\\u062d\\u064b\\u0627\\u0636\\u0631 \\u0625\\u064e\\u0644\\u0651\\u0649\\u0652 \\u0623\\u064b\\u0646 \\u064c\\u062b\\u064e\\u0645\\u0629\\u0651 \\u064b\\u062b\\u0644\\u0627\\u064e\\u062b\\u064c \\u0646\\u0642\\u0651\\u0627\\u0637 \\u064e\\u0644\\u064b\\u0644\\u0650\\u0627\\u064b\\u0631\\u064c\\u062a\\u0642\\u0650\\u0627\\u0621\\u064b \\u064e\\u0628\\u064d\\u0627\\u064d\\u0644\\u0641\\u0643\\u0652\\u0631\\u0629 \\u064d\\u0627\\u064d\\u0644\\u062b\\u0642\\u0651\\u0627\\u0641\\u064d\\u064a\\u064d\\u0629\\u0650 \\u0641\\u064e\\u064a\\u064d \\u064f\\u0627\\u0644\\u064c\\u0634\\u064d\\u0627\\u0631\\u0652\\u0642\\u0629 \\u0623\\u064d\\u0648\\u0644\\u0650\\u0647\\u0627 \\u064d\\u062a\\u0652\\u0623\\u064b\\u0633\\u064e\\u064a\\u0633 \\u0650\\u062f\\u0652\\u0627\\u0652\\u0626\\u0650\\u0631\\u0652\\u0629\\u064e \\u064e\\u0627\\u0644\\u062b\\u0642\\u0651\\u0627\\u0641\\u0629 \\u0648\\u064e\\u0627\\u0650\\u0644\\u064e\\u0625\\u0639\\u0650\\u0644\\u0627\\u0645\\u0651\\u060c \\u064c\\u0648\\u0650\\u062b\\u0652\\u0627\\u0646\\u064a\\u0647\\u0651\\u0627\\u064c \\u0627\\u062c\\u062a\\u0651\\u0645\\u064d\\u0627\\u064d\\u0639 \\u064e\\u0635\\u0627\\u062d\\u0650\\u0628\\u0650 \\u0627\\u0651\\u0644\\u0651\\u0633\\u0651\\u0645\\u0648\\u064d \\u0650\\u062d\\u0627\\u064f\\u0643\\u064b\\u0645 \\u0627\\u0644\\u064f\\u0634\\u0652\\u0627\\u064b\\u0631\\u0642\\u064d\\u0629\\u0651 \\u064c\\u0628\\u0643\\u064f\\u0648\\u0650\\u0627\\u062f\\u064c\\u0631 \\u0627\\u0644\\u064b\\u062f\\u064b\\u0627\\u0650\\u0626\\u0631\\u064b\\u0629 \\u064c\\u0648\\u0642\\u0651\\u062f\\u064f\\u0651\\u0645 \\u0641\\u0651\\u064a\\u0647\\u064f \\u0645\\u062c\\u0650\\u0645\\u064b\\u0648\\u064d\\u0639\\u0651\\u0629\\u064d \\u0645\\u064f\\u0646 \\u0652\\u0627\\u064e\\u0644\\u0633\\u064a\\u0651\\u0627\\u0651\\u0633\\u0627\\u062a \\u0651\\u0627\\u0644\\u062b\\u0642\\u064c\\u0627\\u064b\\u0641\\u064a\\u064e\\u0629 \\u0648\\u064c\\u0627\\u0644\\u062e\\u0651\\u0637\\u0637\\u064b \\u0627\\u0644\\u064d\\u062a\\u0646\\u0645\\u064e\\u0648\\u064a\\u0650\\u0629 \\u0651\\u0648\\u062f\\u0652\\u0639\\u0627 \\u064c\\u0633\\u0650\\u0645\\u064b\\u0648\\u064c\\u0647 \\u064c\\u0625\\u0650\\u0644\\u064f\\u0649: \\u0627\\u0644\\u0627\\u0647\\u0651\\u062a\\u064f\\u0645\\u0627\\u064f\\u0645 \\u0628\\u064b\\u0627\\u0650\\u0644\\u064f\\u0645\\u0652\\u0633\\u0631\\u062d\\u060c\\u0652 \\u0648\\u064b\\u0627\\u0651\\u0644\\u0623\\u0637\\u064c\\u0631\\u0650 \\u0627\\u064d\\u0644\\u0651\\u0639\\u0627\\u064b\\u0645\\u0629 \\u064e\\u0644\\u0644\\u0650\\u062b\\u064e\\u0642\\u0627\\u064d\\u0641\\u0629\\u064d\\u060c\\u0651 \\u0651\\u0627\\u064c\\u0644\\u0650\\u0627\\u0631\\u064f\\u062a\\u0642\\u0627\\u064f\\u0621\\u064c \\u0628\\u064d\\u0627\\u0650\\u0644\\u0639\\u0645\\u0651\\u0644\\u064e \\u0627\\u0644\\u0651\\u062a\\u064d\\u0634\\u0643\\u0651\\u064a\\u0644\\u064a\\u0650\\u060c \\u0627\\u0651\\u0644\\u0627\\u064f\\u0647\\u064f\\u062a\\u0645\\u064d\\u0627\\u0645 \\u0650\\u0628\\u0650\\u0627\\u0651\\u0644\\u064b\\u0648\\u0639\\u0651\\u064a \\u064b\\u0648\\u0650\\u0627\\u0652\\u0644\\u064f\\u0630\\u0627\\u0626\\u0650\\u0642\\u0651\\u0629\\u064c \\u0627\\u0651\\u0644\\u062c\\u0650\\u0645\\u064d\\u0627\\u0652\\u0644\\u0652\\u064a\\u0652\\u0629\\u064f\\u060c \\u0627\\u064d\\u0644\\u0650\\u0627\\u0647\\u064f\\u062a\\u0645\\u0627\\u0651\\u0645\\u0652 \\u064f\\u0628\\u064d\\u0627\\u0644\\u0637\\u0641\\u0644\\u0651\\u060c \\u0651\\u062a\\u0637\\u0648\\u064a\\u0631\\u064b \\u0634\\u0628\\u0643\\u0629\\u0652 \\u0627\\u0644\\u0645\\u0643\\u062a\\u064b\\u0628\\u0627\\u062a\\u060c\\u0652 \\u064e\\u0627\\u0633\\u062a\\u0643\\u064f\\u0645\\u064d\\u0627\\u0644\\u064d \\u0639\\u064b\\u0645\\u064b\\u0644\\u0652\\u064a\\u0627\\u062a \\u064c\\u0627\\u0644\\u064f\\u062a\\u0631\\u0645\\u064a\\u0645\\u0650\\u060c \\u064b\\u0627\\u0644\\u064d\\u0627\\u0647\\u064b\\u062a\\u064c\\u0645\\u0652\\u0627\\u0650\\u0645\\u064d \\u0650\\u0628\\u062b\\u064e\\u0642\\u0652\\u0627\\u064b\\u0641\\u064e\\u0629\\u064d \\u0650\\u0627\\u064d\\u0644\\u0645\\u0650\\u0631\\u064b\\u0623\\u064b\\u0629 \\u0650\\u0648\\u064b\\u0627\\u064f\\u0644\\u064d\\u0637\\u0641\\u0652\\u0644 .\\u0652 \\u064c.\\u064d)\\u064f \\u064b\\u0648\\u062b\\u064b\\u0627\\u064d\\u0644\\u0651\\u062b\\u064b\\u0647\\u064e\\u0627\\u064f \\u064b\\u0625\\u0650\\u0639\\u0650\\u0644\\u0651\\u0627\\u064b\\u0646\\u064f \\u0627\\u0644\\u0634\\u0627\\u0631\\u0642\\u0629\\u064f \\u0651\\u0639\\u0627\\u064d\\u0635\\u064e\\u0645\\u0629\\u064c \\u0644\\u0644\\u064b\\u062b\\u0642\\u064b\\u0627\\u0641\\u0629 \\u064b\\u0627\\u0652\\u0644\\u064e\\u0639\\u0651\\u0631\\u0628\\u064a\\u0629\\u064f \\u064b\\u0641\\u064a\\u064b \\u0639\\u0627\\u0645 19\\u06529\\u064d8 \\u064e\\u0644\\u0645\\u0627 \\u062a\\u062a\\u0645\\u064b\\u064a\\u0632\\u064f \\u0628\\u064f\\u0647\\u064e \\u064e\\u0645\\u064b\\u0646\\u064b \\u064b\\u0646\\u064e\\u0634\\u0650\\u0627\\u0637 \\u0651\\u0648\\u064f\\u062d\\u064b\\u0631\\u0627\\u0643\\u064d \\u064f\\u062b\\u0642\\u0627\\u0641\\u064a\\u0650 \\u0645\\u0652\\u0645\\u064c\\u064a\\u0632\\u064d\\u060c\\u064e \\u064b\\u0641\\u0636\\u0644\\u0627\\u064b\\u064e \\u064f\\u0639\\u0650\\u0646 \\u062f\\u0648\\u0631\\u064b \\u064c\\u0627\\u0644\\u064d\\u062c\\u064f\\u0648\\u0627\\u0652\\u0626\\u064f\\u0632\\u0651 \\u0648\\u0635\\u0650\\u0646\\u064f\\u0627\\u062f\\u0651\\u064a\\u064b\\u0642 \\u064f\\u0627\\u064b\\u0644\\u062f\\u064d\\u0639\\u064c\\u0645\\u060c \\u064d\\u0648\\u0627\\u064f\\u0644\\u062f\\u0628\\u0652\\u0644\\u064b\\u0648\\u0645\\u0627\\u0633\\u064d\\u064a\\u0629 \\u064f\\u0627\\u0650\\u0644\\u064b\\u062b\\u0652\\u0642\\u0627\\u0641\\u0651\\u064a\\u0629\\u060c\\u064e \\u0648\\u0639\\u0650\\u062f\\u062f \\u0648\\u0652\\u0646\\u064c\\u0648\\u0639 \\u064b\\u0627\\u064b\\u0644\\u064c\\u062c\\u064b\\u0627\\u0645\\u0639\\u0650\\u0627\\u064c\\u062a \\u0648\\u0627\\u0644\\u064e\\u0645\\u0650\\u0631\\u0627\\u0652\\u0643\\u0632\\u060c \\u064f\\u0648\\u0627\\u064b\\u0644\\u0625\\u064f\\u062d\\u0635\\u064c\\u0627\\u0650\\u0621\\u064e \\u0627\\u0651\\u0644\\u0627\\u064b\\u062c\\u064f\\u062a\\u0645\\u0627\\u0650\\u0639\\u0650\\u064a\\u0651 \\u064b\\u0641\\u0651\\u064a \\u0628\\u0644\\u0648\\u064e\\u0631\\u0629\\u064f \\u064b\\u0648\\u064c\\u062a\\u064b\\u0631\\u0633\\u0652\\u064a\\u062e \\u064c\\u0645\\u064d\\u0643\\u064e\\u0627\\u0646\\u0629 \\u064b\\u0627\\u0644\\u0651\\u0634\\u0627\\u0651\\u0631\\u064e\\u0642\\u0629 \\u064d\\u0639\\u0627\\u0635\\u0645\\u0629\\u064f \\u0651\\u0644\\u064c\\u0644\\u0651\\u062b\\u064d\\u0642\\u0627\\u064d\\u0641\\u0629\\u064e \\u064c\\u0627\\u064c\\u0644\\u0652\\u0639\\u0650\\u0631\\u0628\\u064a\\u064c\\u0629 \\u0650\\u0648\\u0652\\u0627\\u0644\\u0625\\u064d\\u0633\\u0644\\u0627\\u0651\\u0645\\u064a\\u0652\\u0629\\u060c \\u0648\\u0643\\u064f\\u0644 \\u0651\\u0630\\u0652\\u0644\\u064b\\u0643 \\u064b\\u0628\\u062c\\u0647\\u062f \\u0651\\u0635\\u0651\\u0627\\u062d\\u0628\\u064d \\u0650\\u0627\\u0644\\u064d\\u0633\\u064e\\u0645\\u0648\\u0650 \\u064b\\u062d\\u0650\\u0627\\u064c\\u0643\\u064f\\u0645 \\u064d\\u0627\\u0644\\u0634\\u0627\\u0631\\u064c\\u0642\\u0629 \\u0627\\u064e\\u0644\\u0650\\u0630\\u064a\\u064b \\u064e\\u0639\\u0645\\u064f\\u0644 \\u0651\\u0648\\u064d\\u0644\\u0627 \\u064a\\u0632\\u064f\\u0627\\u064e\\u0644 \\u0628\\u0634\\u063a\\u0641\\u0652 \\u0648\\u062d\\u0628\\u064f \\u0639\\u064f\\u0644\\u0649\\u0652 \\u062a\\u064c\\u0639\\u0632\\u064b\\u064a\\u064b\\u0632\\u064e \\u064c\\u0627\\u064f\\u0644\\u064e\\u062a\\u0646\\u064b\\u0645\\u0651\\u064a\\u064d\\u0629\\u064c \\u0627\\u064e\\u0644\\u064b\\u062b\\u0642\\u064e\\u0627\\u064d\\u0641\\u064c\\u064a\\u0629 \\u064e\\u0641\\u0650\\u064a\\u064f \\u0627\\u0652\\u0644\\u064e\\u0634\\u0627\\u0631\\u064e\\u0642\\u064d\\u0629\\u064e \\u0645\\u0646\\u0650 \\u062e\\u064b\\u0644\\u0650\\u0627\\u0650\\u0644\\u0651 \\u0651\\u0633\\u064e\\u0646\\u0651 \\u0648\\u0625\\u0642\\u064b\\u0631\\u0651\\u0627\\u0631 \\u0645\\u062c\\u0645\\u0648\\u064c\\u0639\\u064e\\u0629\\u064e \\u0645\\u064f\\u0646\\u0651 \\u0627\\u064b\\u0644\\u0645\\u064d\\u0634\\u0650\\u0631\\u0648\\u0639\\u064f\\u0627\\u064f\\u062a\\u0652 \\u0627\\u0644\\u0651\\u062b\\u0650\\u0642\\u0627\\u0652\\u0641\\u0650\\u064a\\u0629\\u064c \\u0650\\u0627\\u0644\\u062a\\u064d\\u064a \\u064e\\u062a\\u064c\\u0647\\u064e\\u062f\\u064d\\u0641\\u064e \\u0625\\u064e\\u0644\\u0650\\u0649 \\u0652\\u062a\\u062d\\u0642\\u064a\\u0642 \\u0630\\u0644\\u0643\\u064d\\u060c\\u064b \\u0650\\u062d\\u062a\\u0650\\u0649 \\u0652\\u0623\\u064e\\u0635\\u0628\\u062d\\u062a\\u0651 \\u064c\\u0627\\u064e\\u0644\\u0634\\u0627\\u064c\\u0631\\u064c\\u0642\\u064b\\u0629\\u0652 \\u0627\\u0644\\u0651\\u064a\\u0648\\u064c\\u0645 \\u0651\\u0648\\u064f\\u062c\\u0647\\u064b\\u0629\\u064e \\u064a\\u0624\\u064f\\u0645\\u064e\\u0647\\u064c\\u0627 \\u0652\\u0627\\u0644\\u064e\\u0645\\u0641\\u064e\\u0643\\u0631\\u0651\\u0648\\u0651\\u0646 \\u0648\\u0650\\u0627\\u0644\\u0645\\u0651\\u062b\\u0642\\u0650\\u0641\\u0651\\u0648\\u0646 \\u0648\\u0627\\u0644\\u0645\\u064f\\u0628\\u064c\\u062f\\u0639\\u064c\\u0648\\u0650\\u0646 \\u0652\\u0648\\u0652\\u0627\\u0651\\u0644\\u064c\\u0643\\u062a\\u064c\\u0627\\u0628\\u0650 \\u064c\\u0645\\u0650\\u0646\\u064f \\u0634\\u062a\\u0650\\u0649\\u064e \\u0623\\u064f\\u0646\\u064d\\u062d\\u0627\\u0621 \\u0627\\u064d\\u0644\\u0652\\u0639\\u0627\\u0644\\u064f\\u0645\\u060c\\u0650 \\u064e\\u0634\\u064b\\u0627\\u0652\\u0645\\u062e\\u0651\\u0629\\u064e \\u0631\\u0627\\u0633\\u062e\\u064b\\u0629 \\u064c\\u0628\\u064c\\u0639\\u0651\\u0637\\u064c\\u0627\\u0626\\u064f\\u0647\\u0650\\u0627 \\u064e\\u0648\\u062a\\u064b\\u0642\\u0650\\u062f\\u0645\\u0647\\u064d\\u0627 \\u0650.\\u064f\"\n        ],\n        \"semantic_type\": \"\",\n        \"description\": \"\"\n      }\n    },\n    {\n      \"column\": \"label\",\n      \"properties\": {\n        \"dtype\": \"category\",\n        \"num_unique_values\": 7,\n        \"samples\": [\n          \"Culture\",\n          \"Finance\",\n          \"Sports\"\n        ],\n        \"semantic_type\": \"\",\n        \"description\": \"\"\n      }\n    },\n    {\n      \"column\": \"cleaned_text\",\n      \"properties\": {\n        \"dtype\": \"string\",\n        \"num_unique_values\": 39872,\n        \"samples\": [\n          \"\\u0639\\u0631\\u0641 \\u0634\\u064a\\u062e \\u0641\\u0631\\u0642 \\u0644\\u0642\\u0637 \\u0648\\u0628\\u064a\\u0646 \\u0644\\u0642\\u0637 \\u0644\\u0642\\u0637 \\u062e\\u0627\\u0635 \\u0627\\u062f\\u0645 \\u0648\\u0642\\u062f \\u062d\\u062f\\u062b \\u0639\\u0646\\u0647 \\u0642\\u0627\\u0644 \\u062e\\u0627\\u0635 \\u0627\\u0645\\u0627 \\u0644\\u0642\\u0637 \\u0641\\u062e\\u0635 \\u0645\\u0648\\u0644 \\u0644\\u0642\\u0637 \\u0644\\u0642\\u0637 \\u0644\\u0642\\u0637 \\u0644\\u063a\\u0629 \\u0639\\u0646\\u0649 \\u0627\\u062e\\u0630\\u0648\\u0639\\u0631\\u0641\\u062a \\u0644\\u0642\\u0637 \\u0634\\u0631\\u0639 \\u0628\\u0627\\u0646 \\u0645\\u0627\\u0644 \\u062d\\u0631\\u0645 \\u062d\\u0631\\u0632 \\u0639\\u0631\\u0641 \\u0648\\u062c\\u062f \\u062d\\u0642\\u0647 \\u0641\\u0643\\u0646 \\u0627\\u0644\\u0627 \\u062d\\u062a\\u0631 \\u064a\\u0639\\u0646 \\u0627\\u0646\\u0647 \\u0645\\u0627\\u0644 \\u064a\\u062c\\u0632 \\u0644\\u062d\\u062f \\u0627\\u0646 \\u0635\\u0631\\u0641 \\u0627\\u0644\\u0627 \\u0628\\u0630\\u0646 \\u0635\\u062d\\u0628 \\u0634\\u0645\\u0644 \\u0641\\u0647\\u0645 \\u0645\\u0627\\u0644 \\u0633\\u0644\\u0645 \\u064a\\u0639\\u0634 \\u062d\\u0645\\u064a \\u062f\\u0648\\u0644 \\u0646\\u0638\\u0631 \\u0633\\u0628\\u0644 \\u0633\\u0644\\u0645 \\u0634\\u0631\\u062d \\u0628\\u0644\\u063a \\u0631\\u0627\\u0645 \\u0635\\u0646\\u0639 3 120\\u0648\\u0627\\u0644\\u0644\\u0642\\u0637 \\u0627\\u064a \\u0627\\u062e\\u0630 \\u0645\\u0627\\u0644 \\u0639\\u0631\\u0641 \\u0633\\u062d\\u0642 \\u062d\\u0643\\u0645 \\u0642\\u0647\\u0621 \\u0648\\u0642\\u062f \\u0630\\u0643\\u0631 \\u0627\\u0628\\u0646 \\u062d\\u062c\\u0631 \\u0627\\u0646 \\u062d\\u0643\\u0645 \\u0648\\u062c\\u0628 \\u0627\\u0630\\u0627 \\u062e\\u064a\\u0641 \\u0636\\u064a\\u0639 \\u0646\\u062f\\u0628 \\u0639\\u062f\\u0645 \\u062e\\u0648\\u0641 \\u0648\\u064a\\u0643 \\u0644\\u0642\\u0637 \\u0645\\u062d\\u0631 \\u0627\\u0630\\u0627 \\u062a\\u0642\\u0637 \\u062a\\u0645\\u0644 \\u064a\\u0631\\u062f \\u0627\\u0644\\u0649 \\u0635\\u062d\\u0628 \\u0648\\u064a\\u0643 \\u0643\\u0631\\u0648 \\u0627\\u0630\\u0627 \\u062a\\u0642\\u0637 \\u0641\\u0633\\u0642 \\u0648\\u064a\\u0643 \\u0628\\u062d\\u0627 \\u0627\\u0630\\u0627 \\u0633\\u0648\\u0649 \\u062a\\u0631\\u0643 \\u0642\\u0637\\u062b\\u0645 \\u064a\\u0642\\u0644 \\u062d\\u0641\\u0638 \\u0627\\u0628\\u0646 \\u062d\\u062c\\u0631 \\u0631\\u062c\\u062d \\u0630\\u0647\\u0628 \\u0639\\u0644\\u0645\\u0627\\u0621 \\u0627\\u0646\\u0647 \\u062f\\u062e\\u0644 \\u062d\\u0643\\u0645 \\u062e\\u0644\\u0641 \\u0634\\u062e\\u0635 \\u0645\\u0648\\u0644 \\u0645\\u062a\\u0649 \\u0631\\u062c\\u062d \\u0627\\u062e\\u0630 \\u0648\\u062c\\u0628 \\u0627\\u0648 \\u0633\\u062d\\u0628 \\u0645\\u062a\\u0649 \\u0631\\u062c\\u062d \\u062a\\u0631\\u0643 \\u062d\\u0631\\u0645 \\u0627\\u0648 \\u0643\\u0631\\u0645 \\u0648\\u0644\\u0627 \\u0641\\u0647\\u0648 \\u062c\\u064a\\u0632 \\u0646\\u0638\\u0631 \\u0641\\u062a\\u062d \\u0628\\u0631\\u064a 5 111 \\u062d\\u0627\\u0644 \\u0644\\u0643\\u0644 \\u0644\\u0642\\u0637 \\u0644\\u0642\\u0637 \\u0644\\u0642\\u0637 \\u062d\\u0643\\u0645 \\u0628\\u064a\\u0646 \\u0642\\u0647\\u0621 \\u0643\\u062a\\u0628 \\u0644\\u0642\\u0637 \\u0627\\u062e\\u0630 \\u0634\\u064a\\u0621 \\u0648\\u0636\\u0639 \\u0627\\u0644\\u062f \\u0634\\u0631\\u0637 \\u0645\\u0646\\u0629 \\u0648\\u0644\\u064a \\u0628\\u062f\\u0621 \\u0643\\u0633\\u0628 \\u062a\\u0645\\u0644 \\u0627\\u0646\\u062a\\u0647\\u0627\\u0621\\u0648\\u064a\\u062c\\u0628 \\u0634\\u0647\\u062f \\u0642\\u0637\\u0647 \\u0639\\u062f\\u0644 \\u0648\\u062d\\u062f \\u062d\\u062f\\u062b \\u0639\\u064a\\u0636 \\u0648\\u0631\\u062f \\u0644\\u0642\\u0637 \\u0634\\u0647\\u062f \\u0639\\u062f\\u0644 \\u0643\\u062a\\u0645 \\u064a\\u063a\\u0628 \\u0641\\u0627\\u0646 \\u0635\\u062d\\u0628 \\u064a\\u0631\\u062f \\u0648\\u0644\\u0627 \\u0641\\u0647\\u0648 \\u0645\\u0627\\u0644 \\u0627\\u0644\\u0644 \\u0648\\u064a\\u0647 \\u064a\\u0634\\u0621 \\u0631\\u0648\\u0647 \\u0627\\u062d\\u0645\\u062f\\u0648\\u0644\\u0644\\u0645\\u0644\\u062a\\u0642\\u0637 \\u0627\\u0646 \\u0639\\u0644\\u0645 \\u0634\\u0647\\u062f \\u0628\\u0635\\u0641 \\u0644\\u0642\\u0637 \\u0627\\u0630\\u0627 \\u0636\\u0645\\u0646 \\u0633\\u0631\\u0629 \\u0648\\u0644\\u0647 \\u0627\\u0644\\u0627 \\u0639\\u0644\\u0645 \\u0641\\u0635\\u0644 \\u0644\\u0636\\u0645 \\u0648\\u0635\\u0644 \\u0627\\u0644\\u0649 \\u0635\\u062d\\u0628 \\u062d\\u0642\\u064a\\u0642\\u064a\\u0648\\u0627\\u0644\\u0645\\u0644\\u062a\\u0642\\u0637 \\u0634\\u0631\\u0637 \\u0627\\u0646 \\u064a\\u0643\\u0648\\u0646 \\u062d\\u0631\\u0627 \\u0645\\u0633\\u0644 \\u0643\\u0644\\u0641 \\u0627\\u0645\\u064a \\u0627\\u062c\\u0632 \\u0628\\u0639\\u0636 \\u0630\\u0645\\u064a \\u0644\\u0642\\u0637 \\u0633\\u0644\\u0645 \\u0643\\u0630\\u0644 \\u0635\\u063a\\u0631 \\u0645\\u062c\\u0646 \\u0644\\u0646\\u0647 \\u0627\\u0647\\u0644 \\u0643\\u0633\\u0628 \\u0646\\u0638\\u0631 \\u062c\\u0645\\u0639 \\u0646\\u0648\\u064a 16 176 \\u062d\\u0646\\u0641 \\u0633\\u062b\\u0646 \\u062a\\u0642\\u0637 \\u0645\\u062c\\u0646 \\u0646\\u0638\\u0631 \\u062d\\u0634\\u064a \\u0627\\u0628\\u0646 \\u0639\\u0628\\u062f 6 435 \\u0644\\u0642\\u0637 \\u0641\\u0647\\u0648 \\u062e\\u0631\\u062c \\u0643\\u0648\\u0646 \\u062d\\u064a\\u0627 \\u0633\\u0645\\u0649 \\u0636\\u0644\\u0629 \\u0627\\u0648 \\u064a\\u0643\\u0648\\u0646 \\u062d\\u064a\\u0648 \\u0633\\u0645\\u0649 \\u0644\\u0642\\u0637 \\u0634\\u0631\\u0637 \\u0627\\u0646 \\u064a\\u0643\\u0648\\u0646 \\u0627\\u0644\\u0627 \\u062d\\u062a\\u0631 \\u0642\\u0644\\u0646 \\u0633\\u0645\\u0649 \\u0645\\u0627\\u0644 \\u0628\\u0627\\u062d \\u0644\\u0642\\u0637 \\u0644\\u0646\\u0647 \\u0639\\u0627\\u0645 \\u062e\\u0636\\u0639 \\u0644\\u0645\\u0644 \\u0627\\u062d\\u062f \\u0628\\u0639\\u064a\\u0646\\u0647\\u0648\\u0644\\u0630\\u0644\\u0643 \\u0642\\u0627\\u0644 \\u0642\\u0647\\u0621 \\u0628\\u0646\\u0647 \\u0635\\u0637\\u062f \\u0634\\u062e\\u0635 \\u0633\\u0645\\u0643 \\u0628\\u062d\\u0631 \\u0648\\u062c\\u062f \\u062f\\u0631\\u0629 \\u0641\\u0647\\u064a \\u0635\\u064a\\u062f \\u0644\\u0627\\u0646 \\u0645\\u0627\\u0644 \\u0628\\u0627\\u062d \\u0648\\u0644\\u0633 \\u0644\\u062d\\u062f \\u0639\\u064a\\u0646 \\u0648\\u0630\\u0627 \\u0628\\u0627\\u0639 \\u0633\\u0645\\u0643 \\u064a\\u062f\\u0631 \\u0641\\u0627\\u0646 \\u062f\\u0631\\u0629 \\u062a\\u0643\\u0648\\u0646 \\u0645\\u0634\\u062a\\u0631\\u064a\\u0648\\u0644\\u0643\\u0646\\u0647 \\u0628\\u0644\\u063a \\u062f\\u0631\\u0627 \\u0628\\u062d\\u0631 \\u0641\\u0647\\u0648 \\u0644\\u0642\\u0637 \\u0644\\u0627\\u0646 \\u0628\\u062d\\u0631 \\u0646\\u062a\\u062c \\u062f\\u0631\\u0627\\u0647\\u0645\\u0648\\u0642\\u0627\\u0644 \\u0642\\u0647\\u0621 \\u0627\\u064a\\u0636 \\u0627\\u0630\\u0627 \\u0627\\u0646\\u0633 \\u062f\\u0628\\u0629 \\u0647\\u0644\\u0643 \\u0641\\u062e\\u0630 \\u0627\\u0646\\u0633 \\u0637\\u0639\\u0645 \\u0648\\u0633\\u0642 \\u062e\\u0644\\u0635 \\u0647\\u0644\\u0643 \\u0641\\u0647\\u064a \\u0644\\u0627\\u0646 \\u0645\\u0627\\u0644 \\u0628\\u0627\\u062d \\u062d\\u062f\\u062b \\u0648\\u0631\\u062f \\u062f\\u0628\\u0629 \\u0639\\u062c\\u0632 \\u0639\\u0646\\u0647 \\u0627\\u0647\\u0644 \\u0627\\u0646 \\u0639\\u0644\\u0641\\u0648 \\u064a\\u0628\\u0648 \\u0641\\u062e\\u0630 \\u0641\\u062d\\u064a \\u0641\\u0647\\u064a \\u0631\\u0648\\u0647 \\u0627\\u0628\\u0648 \\u062f\\u0627\\u0648\\u0648\\u062f\\u0648\\u0641\\u064a \\u0632\\u0645\\u0646 \\u0643\\u062b\\u0631 \\u0633\\u064a\\u0644 \\u0639\\u0631\\u0641 \\u0646\\u0634\\u0631 \\u0635\\u062d\\u0641 \\u0627\\u0630\\u0639 \\u0627\\u062f\\u0631 \\u0633\\u0648\\u0642 \\u062c\\u0644\\u0633 \\u0647\\u062a\\u0641 \\u0648\\u063a\\u064a\\u0631\\u0647\\u0627\\u0648\\u0627\\u0644\\u0641\\u0642\\u0647\\u0627\\u0621 \\u0634\\u0631\\u0637 \\u0633\\u0645\\u0629 \\u0643\\u0645\\u062f \\u0632\\u0645\\u0646 \\u0639\\u0631\\u0641 \\u0641\\u0627\\u0646 \\u0639\\u0631\\u0641 \\u062e\\u0644\\u0641 \\u0632\\u0645\\u0646 \\u0627\\u0644\\u0649 \\u0632\\u0645\\u0646 \\u0633\\u0628\\u0628 \\u0639\\u0631\\u0641 \\u062a\\u0628\\u0639 \\u0642\\u0644\\u0646 \\u0644\\u0642\\u0637 \\u064a\\u0633\\u0631 \\u062d\\u0627\\u062c \\u0627\\u0644\\u0649 \\u062a\\u0639\\u0631\\u064a\\u0641\\u0648\\u0627\\u0630\\u0627 \\u0639\\u0631\\u0641 \\u0643\\u0644\\u0641 \\u0645\\u0627\\u062f \\u064a\\u0643\\u0648\\u0646 \\u0635\\u062d\\u0641 \\u0627\\u0648 \\u0630\\u0639\\u0629 \\u062b\\u0644\\u0627 \\u0641\\u0627\\u0646 \\u0643\\u0644\\u0641 \\u062a\\u0643\\u0648\\u0646 \\u0635\\u062d\\u0628 \\u0644\\u0642\\u0637 \\u0631\\u0627\\u064a \\u0641\\u0642\\u0647\\u0627\\u0621\\u0648\\u0641\\u064a \\u0646\\u0647\\u064a \\u0641\\u0627\\u0646 \\u0644\\u0642\\u0637 \\u0645\\u0646\\u0629 \\u064a\\u062f \\u0644\\u0642\\u0637 \\u064a\\u0636\\u0645 \\u0633\\u0628\\u0628 \\u062a\\u0644\\u0641 \\u0648\\u0647\\u064a \\u0639\\u0631\\u0641 \\u0645\\u062f\\u0629 \\u0643\\u0641\\u064a \\u0635\\u0631\\u0641 \\u0628\\u0646\\u0629 \\u0627\\u0646\\u0647 \\u062c\\u0627\\u0621 \\u0635\\u062d\\u0628 \\u0631\\u062f\\u0647 \\u0627\\u0644\\u064a\\u0647\",\n          \"\\u0627\\u0631\\u0621 \\u062e\\u0628\\u0631\\u0627\\u0621 \\u062d\\u0648\\u0644 \\u0645\\u062f\\u0649 \\u062c\\u062f\\u0649 \\u0636\\u0631\\u0628 \\u062d\\u0631\\u0643 \\u0639\\u062c\\u0644 \\u0646\\u0634\\u0637 \\u0642\\u0635\\u062f \\u0641\\u0641\\u064a \\u064a\\u0631\\u0649 \\u0641\\u0631\\u0642 \\u0646\\u0647\\u0645 \\u0627\\u0646 \\u062c\\u0631\\u0628 \\u0637\\u0641\\u0631 \\u0634\\u0647\\u062f \\u062f\\u0648\\u0644 \\u0641\\u062c\\u0631 \\u0627\\u0632\\u0645 \\u0627\\u0644\\u0629 \\u0639\\u0644\\u0645 \\u0638\\u0647\\u0631 \\u0645\\u062f\\u0649 \\u0636\\u0631\\u0631 \\u062d\\u062f\\u062b \\u0636\\u0631\\u0628 \\u0627\\u062c\\u0644 \\u0637\\u0648\\u0644 \\u0639\\u0628\\u0631 \\u0641\\u0631\\u0642 \\u0627\\u062e\\u0631 \\u062e\\u0628\\u0631\\u0627\\u0621 \\u0627\\u0646 \\u0636\\u0631\\u0628 \\u0648\\u0642\\u062f \\u064a\\u0648\\u0645 \\u0643\\u0641\\u0644 \\u0631\\u0627\\u0631 \\u0639\\u0645\\u0644 \\u0628\\u064a\\u0639 \\u0634\\u0631\\u0621 \\u064a\\u062d\\u0645 \\u062a\\u0644\\u064a \\u0633\\u0648\\u0642 \\u0647\\u064a\\u0631 \\u0634\\u062f\\u062f \\u0627\\u0646 \\u064a\\u0639\\u0627 \\u0642\\u0635\\u062f \\u062d\\u0627\\u0644 \\u0635\\u0639\\u062f \\u0639\\u0644\\u0645 \\u062d\\u0644\\u064a \\u0631\\u062c\\u0639 \\u062c\\u0646\\u0628 \\u0633\\u0633\\u064a \\u0627\\u0644\\u0649 \\u0648\\u0642\\u0641 \\u0636\\u0631\\u0628 \\u0627\\u0636\\u0631 \\u0633\\u062a\\u0648 \\u0637\\u0644\\u0628 \\u0642\\u0631\\u0646 \\u0639\\u0631\\u0636 \\u0648\\u062f\\u0649 \\u062a\\u0644\\u064a \\u0627\\u0644\\u0649 \\u0631\\u062c\\u0639 \\u062d\\u0627\\u062f \\u0633\\u0639\\u0631 \\u062d\\u0630\\u0631 \\u062e\\u0628\\u0631\\u0627\\u0621 \\u0631\\u0641\\u0636 \\u0641\\u0643\\u0631 \\u0639\\u0645\\u062f \\u0636\\u0631\\u0628 \\u0643\\u0644\\u064a \\u062a\\u062d\\u0631 \\u0633\\u0648\\u0642 \\u0627\\u062b\\u0631 \\u0633\\u0644\\u0628 \\u0635\\u0639\\u062f \\u0636\\u062e\\u0645 \\u0642\\u064a\\u0645 \\u0627\\u0635\\u0644 \\u0627\\u0644\\u0649 \\u0633\\u062a\\u064a \\u0637\\u0642\\u064a \\u062e\\u0644\\u0642 \\u0641\\u0642\\u0639 \\u0627\\u0644\\u0629 \\u0646\\u062c\\u0645 \\u0639\\u0646\\u0647 \\u0646\\u0647\\u064a \\u0647\\u064a\\u0631 \\u0633\\u0631\\u0639 \\u0633\\u0639\\u0631 \\u0627\\u0635\\u0644 \\u0646\\u062c\\u0645 \\u0639\\u0646\\u0647 \\u0639\\u0631\\u0636 \\u0634\\u0631\\u0643 \\u0648\\u0633\\u0633 \\u0635\\u0639\\u0628 \\u064a\\u0645\\u0643\\u0646 \\u062c\\u0646\\u0628 \\u0639\\u0643\\u0633 \\u062a\\u0644\\u064a \\u0633\\u0644\\u0628 \\u0642\\u0637\\u0639 \\u0627\\u0644\\u064a \\u062e\\u0644\\u0644 \\u0638\\u0647\\u0631 \\u0627\\u0632\\u0645 \\u0646\\u0642\\u0635 \\u0633\\u064a\\u0644 \\u0646\\u062c\\u0645 \\u062d\\u062c\\u0645 \\u0628\\u0646\\u0643 \\u0645\\u0648\\u0644 \\u0646\\u062a\\u062c \\u062a\\u062e\\u0641 \\u0639\\u062b\\u0631 \\u0642\\u0631\\u0636 \\u062c\\u0647\\u0629 \\u0631\\u063a\\u0628 \\u0644\\u062d\\u062f \\u0643\\u0634\\u0641 \\u0627\\u0635\\u0644 \\u0631\\u0627\\u062c\\u0639 \\u062a\\u0639\\u062f \\u062a\\u063a\\u0637 \\u0642\\u064a\\u0645 \\u0645\\u0648\\u0644 \\u0642\\u0631\\u0636 \\u0628\\u0636\\u0645 \\u062c\\u0639\\u0644 \\u0633\\u062a\\u064a \\u062e\\u0637\\u0631 \\u0631\\u0641\\u0639 \\u0628\\u0642\\u0629 \\u064a\\u0634\\u0631 \\u062e\\u0628\\u0631\\u0627\\u0621 \\u0627\\u0644\\u0649 \\u0627\\u0646 \\u062c\\u0631\\u0628 \\u062d\\u0644\\u0629 \\u0639\\u0644\\u0645 \\u062a\\u062b\\u0628 \\u0635\\u062d\\u0629 \\u0627\\u0631\\u0648 \\u0648\\u062e\\u0631 \\u062a\\u062d\\u062f \\u0648\\u062c\\u0647 \\u0642\\u0637\\u0639 \\u0639\\u0642\\u0631 \\u0627\\u0644\\u0646 \\u0646\\u062a\\u062c \\u062a\\u0644\\u0634 \\u0641\\u0642\\u0639 \\u062d\\u062f\\u062b \\u0636\\u0631\\u0628 \\u0639\\u0642\\u0631 \\u0648\\u062f\\u062a \\u0627\\u0644\\u0649 \\u0631\\u0641\\u0639 \\u0642\\u064a\\u0633 \\u0633\\u0639\\u0631 \\u062d\\u062f\\u062b \\u0639\\u062f\\u0629 \\u0631\\u0627\\u062a \\u0633\\u0648\\u0642 \\u0633\\u0647\\u0645 \\u0639\\u0643\\u0633 \\u0646\\u062a\\u062c \\u0646\\u0647\\u064a \\u0633\\u0644\\u0628 \\u062d\\u0631\\u0643 \\u0633\\u0648\\u0642 \\u0645\\u062f\\u0649 \\u062a\\u0648\\u0633\\u0637 \\u0637\\u0648\\u0644 \\u0648\\u0627\\u0646 \\u062d\\u0642\\u0642 \\u0639\\u064a\\u062f \\u062c\\u0632\\u0629 \\u0628\\u0639\\u0636 \\u062b\\u0645\\u0631 \\u0645\\u062f\\u0649 \\u0642\\u0635\\u0631 \\u064a\\u0631\\u0649 \\u0641\\u0631\\u0642 \\u0627\\u062e\\u0631 \\u062e\\u0628\\u0631\\u0627\\u0621 \\u0627\\u0646 \\u0633\\u0648\\u0642 \\u0639\\u0642\\u0631 \\u0627\\u0644\\u0629 \\u064a\\u0645\\u0643 \\u063a\\u0646\\u0621 \\u0636\\u0631\\u0628 \\u0644\\u0627\\u0646 \\u0633\\u062a\\u064a \\u0637\\u0644\\u0628 \\u0639\\u062f\\u064a \\u062a\\u0637\\u0639 \\u064a\\u0639\\u0628 \\u0639\\u0631\\u0636 \\u0644\\u0630\\u0644 \\u0641\\u0627\\u0646 \\u0636\\u0631\\u0628 \\u062a\\u063a\\u0637 \\u0641\\u062c\\u0629 \\u0639\\u0631\\u0636 \\u0637\\u0644\\u0628 \\u0645\\u0646\\u0639 \\u0633\\u0639\\u0631 \\u0647\\u064a\\u0631 \\u0643\\u0627\\u0646\\u062a \\u0639\\u0643\\u0633 \\u0633\\u0644\\u0628 \\u0645\\u062f\\u0649 \\u0637\\u0648\\u0644 \\u0627\\u0645\\u0631 \\u0633\\u062f\\u0639 \\u0639\\u0645\\u0644 \\u0636\\u0628\\u0637 \\u0636\\u0631\\u0628 \\u063a\\u0627\\u0621 \\u0627\\u062b\\u0631 \\u0633\\u0648\\u0642 \\u0643\\u0644\\u0627\",\n          \"\\u0633\\u0628\\u0642 \\u0641\\u0639\\u0644 \\u0646\\u0634\\u0637 \\u062b\\u0642\\u0641 \\u0646\\u0638\\u0645 \\u062f\\u064a\\u0631 \\u062b\\u0642\\u0641 \\u0639\\u0644\\u0645 \\u0634\\u0631\\u0642 \\u0627\\u0628\\u0646 \\u0641\\u0639\\u0644 \\u0639\\u0631\\u0636 \\u0634\\u0631\\u0642 \\u062f\\u0648\\u0644 \\u0643\\u062a\\u0628 \\u062f\\u0648\\u0631 \\u062b\\u0645\\u0646 \\u0639\\u0634\\u0631 \\u0648\\u0627\\u0644\\u062a\\u064a \\u062a\\u0628\\u062f \\u0641\\u0639\\u0644 \\u063a\\u062f \\u0627\\u064a\\u0629 \\u0646\\u0634\\u0637 \\u062b\\u0642\\u0641 \\u0646\\u0648\\u0639 \\u0631\\u0641\\u062f \\u0639\\u0631\\u0636 \\u062c\\u062f\\u062f \\u0643\\u062a\\u0628 \\u062b\\u0642\\u0641 \\u0646\\u0634\\u0631 \\u0628\\u062f\\u0639 \\u0648\\u0642\\u0644 \\u062d\\u0645\\u062f \\u0642\\u0635\\u0631 \\u0633\\u0648\\u0644 \\u0631\\u0645\\u062c \\u062b\\u0642\\u0641 \\u0639\\u0631\\u0636 \\u0627\\u0646 \\u062f\\u064a\\u0631 \\u0633\\u0639\\u062a \\u062c\\u0647\\u062f \\u062e\\u0644\\u0642 \\u0648\\u0635\\u0644 \\u0642\\u0631\\u064a \\u0643\\u062a\\u0628 \\u0646\\u0634\\u0631 \\u0643\\u062a\\u0628 \\u062e\\u0644\\u0644 \\u0641\\u0639\\u0644 \\u0646\\u0634\\u0637 \\u0631\\u0643\\u0632 \\u0648\\u0636\\u0639 \\u0642\\u0631\\u0621 \\u0643\\u0645\\u062d\\u0648\\u0631 \\u0648\\u062b\\u0645 \\u0639\\u0645\\u0644 \\u0644\\u0647\\u0630\\u0627 \\u0639\\u0627\\u0645 \\u062d\\u0628 \\u0643\\u0644\\u0645 \\u0642\\u0631\\u0621 \\u0648\\u0630\\u0644 \\u062e\\u0644\\u0644 \\u0646\\u062f\\u0648 \\u0641\\u0643\\u0631 \\u0648\\u0627\\u0644\\u062a\\u064a \\u062a\\u0636\\u0645 \\u062d\\u0645\\u064a \\u062d\\u0642\\u0642 \\u0644\\u0643\\u0629 \\u0641\\u0643\\u0631 \\u0627\\u0631\\u062e \\u0643\\u062a\\u0628 \\u0645\\u0639\\u0627\\u064a\\u064a\\u0631 \\u0635\\u0646\\u0639 \\u0643\\u062a\\u0628 \\u0635\\u062f\\u0631 \\u062c\\u062f\\u062f \\u0637\\u0628\\u0639 \\u0643\\u062a\\u0628 \\u0636\\u0641\\u0629 \\u0627\\u0644\\u0649 \\u0648\\u0631\\u0634 \\u0647\\u0646\\u0629 \\u0634\\u0631\\u0641 \\u0639\\u0644\\u064a\\u0647\\u0627 \\u0646\\u062e\\u0628 \\u062e\\u062a\\u0635 \\u062c\\u0627\\u0644 \\u062b\\u0642\\u0641 \\u0643\\u062a\\u0628 \\u062b\\u0642\\u0641 \\u0637\\u0641\\u0644 \\u0648\\u0631\\u0634 \\u0643\\u062a\\u0628 \\u0643\\u062a\\u0631\\u0648 \\u0646\\u0638\\u0645 \\u0639\\u0631\\u0636 \\u0645\\u0631\\u0629 \\u0648\\u0644\\u0649 \\u0642\\u0647\\u0649 \\u062b\\u0642\\u0641 \\u062a\\u0636\\u0641 \\u062e\\u0644\\u0644 \\u0642\\u0627\\u0645 \\u0633\\u0647\\u0645 \\u062d\\u0631\\u0643 \\u062b\\u0642\\u0641 \\u062f\\u062e\\u0644 \\u062f\\u0648\\u0644 \\u0642\\u0637\\u0631 \\u0639\\u0631\\u0628 \\u0634\\u0642\\u0642 \\u0646\\u0642\\u0634 \\u0648\\u0636\\u0639 \\u062a\\u062e\\u0635 \\u062b\\u0642\\u0641 \\u0646\\u0634\\u0631 \\u0648\\u0644\\u0641 \\u0633\\u0631\\u062d \\u0643\\u062a\\u0628 \\u0637\\u0641\\u0644 \\u0627\\u0644\\u0649 \\u062c\\u0646\\u0628 \\u062d\\u064a\\u0621 \\u0627\\u0645\\u0633 \\u0634\\u0639\\u0631 \\u063a\\u0631\\u0628 \\u0639\\u0631\\u0628 \\u0647\\u0646\\u062f \\u0627\\u0644\\u0649 \\u062c\\u0646\\u0628 \\u0631\\u0646\\u0645\\u062c \\u062e\\u0627\\u0635 \\u0628\\u062f\\u0639 \\u062b\\u0642\\u0641 \\u0641\\u0644\\u0633\\u0637\\u064a\\u0646\\u064a\\u0629 \\u064a\\u0636\\u0645 20 \\u0636\\u064a\\u0641 \\u064a\\u0634\\u0631 4 \\u0627\\u0645\\u0633 \\u0639\\u0631\\u0636 \\u0631\\u062b\\u064a \\u0648\\u062e\\u0631 \\u0634\\u0643\\u0644\"\n        ],\n        \"semantic_type\": \"\",\n        \"description\": \"\"\n      }\n    }\n  ]\n}"
            }
          },
          "metadata": {},
          "execution_count": 18
        }
      ]
    },
    {
      "cell_type": "markdown",
      "metadata": {
        "id": "VF45GS_ZSEix"
      },
      "source": [
        "# Tokenization, Padding, and Data Splitting"
      ]
    },
    {
      "cell_type": "markdown",
      "metadata": {
        "id": "YmsL3S-5SIbl"
      },
      "source": [
        "In this step, we will prepare the text data for input into a model by converting the text into numerical sequences, padding them to a uniform length, and splitting the dataset into training and testing sets. Here's an overview of the steps involved:\n",
        "\n",
        "1. **Tokenization**:\n",
        "   We use a tokenizer to convert the cleaned text into numerical sequences. You can use `Tokenizer` tokenizer from `tensorflow.keras.preprocessing.text` package or any other tokenizer you like.\n",
        "\n",
        "2. **Text to sequences**:\n",
        "   After fitting the tokenizer on the cleaned text, we transform each text into a sequence of numbers, where each number corresponds to a token (word) in the text.\n",
        "\n",
        "3. **Padding the sequences**:\n",
        "   Since different texts may vary in length, we pad the sequences to ensure they all have the same length.\n",
        "\n",
        "4. **Label encoding**:\n",
        "   The labels (target values) also need to be converted into numerical form if they are not encoded.\n",
        "\n",
        "5. **Train-test split**:\n",
        "   The dataset is divided into training and testing sets. We allocate 80% of the data for training the model and reserve 20% for testing its performance.\n",
        "   \n",
        "   - The **training data** consists of the padded sequences used to train the model.\n",
        "   - The **training labels** are the encoded labels corresponding to the training data.\n",
        "   - The **testing data** is used to assess the model’s performance after training.\n",
        "   - The **testing labels** are the encoded labels corresponding to the testing data.\n",
        "\n",
        "6. **Data shape confirmation**:\n",
        "   After splitting the data, we print the shape (dimensions) of both the training and testing sets to confirm that the data is properly divided and formatted.\n",
        "\n",
        "By the end of this step, the text data will be transformed into padded numerical sequences, the labels will be encoded, and the data will be split into training and testing sets for model development and evaluation."
      ]
    },
    {
      "cell_type": "code",
      "execution_count": 20,
      "metadata": {
        "id": "z401Re0VfI1f",
        "colab": {
          "base_uri": "https://localhost:8080/"
        },
        "outputId": "36273d14-79cc-4c95-8dd9-9d238b65ce36"
      },
      "outputs": [
        {
          "output_type": "stream",
          "name": "stdout",
          "text": [
            "Training data shape: (31908, 1000)\n",
            "Training labels shape: (31908,)\n",
            "Testing data shape: (7977, 1000)\n",
            "Testing labels shape: (7977,)\n"
          ]
        }
      ],
      "source": [
        "\n",
        "tokenizer = Tokenizer()\n",
        "tokenizer.fit_on_texts(df['cleaned_text'])\n",
        "\n",
        "sequences = tokenizer.texts_to_sequences(df['cleaned_text'])\n",
        "\n",
        "max_sequence_length = 1000\n",
        "padded_sequences = pad_sequences(sequences, maxlen=max_sequence_length, padding='post')\n",
        "\n",
        "label_encoder = LabelEncoder()\n",
        "encoded_labels = label_encoder.fit_transform(df['label'])\n",
        "\n",
        "X_train, X_test, y_train, y_test = train_test_split(padded_sequences, encoded_labels, test_size=0.2, random_state=42)\n",
        "\n",
        "print(f\"Training data shape: {X_train.shape}\")\n",
        "print(f\"Training labels shape: {y_train.shape}\")\n",
        "print(f\"Testing data shape: {X_test.shape}\")\n",
        "print(f\"Testing labels shape: {y_test.shape}\")\n"
      ]
    },
    {
      "cell_type": "markdown",
      "metadata": {
        "id": "qd5Ek4NLTgVN"
      },
      "source": [
        "# Building the Classifier"
      ]
    },
    {
      "cell_type": "markdown",
      "metadata": {
        "id": "HpLEoTaITEGx"
      },
      "source": [
        "In this step, you will design and build a NLP Classifier model to classify text data. Below is a breakdown of the key components you'll implement, but it's up to you to decide how to configure them based on your understanding and experimentation:\n",
        "\n",
        "1. **Model Type**:\n",
        "   You will use a Sequential model, which allows you to stack layers in a linear sequence.\n",
        "\n",
        "2. **Input Layer**:\n",
        "   Define the shape of the input data. Consider the dimensions of your padded sequences and set the input shape accordingly.\n",
        "\n",
        "3. **Embedding Layer**:\n",
        "   The embedding layer will convert input tokens (integers) into dense vector representations. You will need to determine the size of the input dimension (based on your vocabulary) and the output dimension (embedding size).\n",
        "\n",
        "4. **Bidirectional Simple RNN/LSTM Layers**:\n",
        "   You can add one or more recurrent layers. Consider using Bidirectional layers to capture contextual information from both directions (forward and backward). You can chose SimpleRNN/GRU/LSTM to perform this step.\n",
        "\n",
        "5. **Dense Layers**:\n",
        "   Add one or more fully connected (Dense) layers to process the output from the RNN/GRU/LSTM layers.\n",
        "\n",
        "6. **Output Layer**:\n",
        "   The output layer should match the type of classification task you're working on. Consider using appropriate activation function with appropriate number of units.\n",
        "\n",
        "7. **Model Summary**:\n",
        "   After defining your model architecture, print a summary to review the number of layers, types of layers, and total parameters.\n",
        "\n",
        "8. **Model Compilation**:\n",
        "   Finally, compile the model by selecting an optimizer, a loss function, and metrics."
      ]
    },
    {
      "cell_type": "code",
      "execution_count": 21,
      "metadata": {
        "id": "D-EYYIUpfK_F",
        "colab": {
          "base_uri": "https://localhost:8080/",
          "height": 289
        },
        "outputId": "39f71a6d-31a6-4e96-82f7-7a411f0de31f"
      },
      "outputs": [
        {
          "output_type": "stream",
          "name": "stderr",
          "text": [
            "/usr/local/lib/python3.10/dist-packages/keras/src/layers/core/embedding.py:90: UserWarning: Argument `input_length` is deprecated. Just remove it.\n",
            "  warnings.warn(\n"
          ]
        },
        {
          "output_type": "display_data",
          "data": {
            "text/plain": [
              "\u001b[1mModel: \"sequential_2\"\u001b[0m\n"
            ],
            "text/html": [
              "<pre style=\"white-space:pre;overflow-x:auto;line-height:normal;font-family:Menlo,'DejaVu Sans Mono',consolas,'Courier New',monospace\"><span style=\"font-weight: bold\">Model: \"sequential_2\"</span>\n",
              "</pre>\n"
            ]
          },
          "metadata": {}
        },
        {
          "output_type": "display_data",
          "data": {
            "text/plain": [
              "┏━━━━━━━━━━━━━━━━━━━━━━━━━━━━━━━━━━━━━━┳━━━━━━━━━━━━━━━━━━━━━━━━━━━━━┳━━━━━━━━━━━━━━━━━┓\n",
              "┃\u001b[1m \u001b[0m\u001b[1mLayer (type)                        \u001b[0m\u001b[1m \u001b[0m┃\u001b[1m \u001b[0m\u001b[1mOutput Shape               \u001b[0m\u001b[1m \u001b[0m┃\u001b[1m \u001b[0m\u001b[1m        Param #\u001b[0m\u001b[1m \u001b[0m┃\n",
              "┡━━━━━━━━━━━━━━━━━━━━━━━━━━━━━━━━━━━━━━╇━━━━━━━━━━━━━━━━━━━━━━━━━━━━━╇━━━━━━━━━━━━━━━━━┩\n",
              "│ embedding_2 (\u001b[38;5;33mEmbedding\u001b[0m)              │ ?                           │     \u001b[38;5;34m0\u001b[0m (unbuilt) │\n",
              "├──────────────────────────────────────┼─────────────────────────────┼─────────────────┤\n",
              "│ bidirectional_2 (\u001b[38;5;33mBidirectional\u001b[0m)      │ ?                           │     \u001b[38;5;34m0\u001b[0m (unbuilt) │\n",
              "├──────────────────────────────────────┼─────────────────────────────┼─────────────────┤\n",
              "│ dense_4 (\u001b[38;5;33mDense\u001b[0m)                      │ ?                           │     \u001b[38;5;34m0\u001b[0m (unbuilt) │\n",
              "├──────────────────────────────────────┼─────────────────────────────┼─────────────────┤\n",
              "│ dense_5 (\u001b[38;5;33mDense\u001b[0m)                      │ ?                           │     \u001b[38;5;34m0\u001b[0m (unbuilt) │\n",
              "└──────────────────────────────────────┴─────────────────────────────┴─────────────────┘\n"
            ],
            "text/html": [
              "<pre style=\"white-space:pre;overflow-x:auto;line-height:normal;font-family:Menlo,'DejaVu Sans Mono',consolas,'Courier New',monospace\">┏━━━━━━━━━━━━━━━━━━━━━━━━━━━━━━━━━━━━━━┳━━━━━━━━━━━━━━━━━━━━━━━━━━━━━┳━━━━━━━━━━━━━━━━━┓\n",
              "┃<span style=\"font-weight: bold\"> Layer (type)                         </span>┃<span style=\"font-weight: bold\"> Output Shape                </span>┃<span style=\"font-weight: bold\">         Param # </span>┃\n",
              "┡━━━━━━━━━━━━━━━━━━━━━━━━━━━━━━━━━━━━━━╇━━━━━━━━━━━━━━━━━━━━━━━━━━━━━╇━━━━━━━━━━━━━━━━━┩\n",
              "│ embedding_2 (<span style=\"color: #0087ff; text-decoration-color: #0087ff\">Embedding</span>)              │ ?                           │     <span style=\"color: #00af00; text-decoration-color: #00af00\">0</span> (unbuilt) │\n",
              "├──────────────────────────────────────┼─────────────────────────────┼─────────────────┤\n",
              "│ bidirectional_2 (<span style=\"color: #0087ff; text-decoration-color: #0087ff\">Bidirectional</span>)      │ ?                           │     <span style=\"color: #00af00; text-decoration-color: #00af00\">0</span> (unbuilt) │\n",
              "├──────────────────────────────────────┼─────────────────────────────┼─────────────────┤\n",
              "│ dense_4 (<span style=\"color: #0087ff; text-decoration-color: #0087ff\">Dense</span>)                      │ ?                           │     <span style=\"color: #00af00; text-decoration-color: #00af00\">0</span> (unbuilt) │\n",
              "├──────────────────────────────────────┼─────────────────────────────┼─────────────────┤\n",
              "│ dense_5 (<span style=\"color: #0087ff; text-decoration-color: #0087ff\">Dense</span>)                      │ ?                           │     <span style=\"color: #00af00; text-decoration-color: #00af00\">0</span> (unbuilt) │\n",
              "└──────────────────────────────────────┴─────────────────────────────┴─────────────────┘\n",
              "</pre>\n"
            ]
          },
          "metadata": {}
        },
        {
          "output_type": "display_data",
          "data": {
            "text/plain": [
              "\u001b[1m Total params: \u001b[0m\u001b[38;5;34m0\u001b[0m (0.00 B)\n"
            ],
            "text/html": [
              "<pre style=\"white-space:pre;overflow-x:auto;line-height:normal;font-family:Menlo,'DejaVu Sans Mono',consolas,'Courier New',monospace\"><span style=\"font-weight: bold\"> Total params: </span><span style=\"color: #00af00; text-decoration-color: #00af00\">0</span> (0.00 B)\n",
              "</pre>\n"
            ]
          },
          "metadata": {}
        },
        {
          "output_type": "display_data",
          "data": {
            "text/plain": [
              "\u001b[1m Trainable params: \u001b[0m\u001b[38;5;34m0\u001b[0m (0.00 B)\n"
            ],
            "text/html": [
              "<pre style=\"white-space:pre;overflow-x:auto;line-height:normal;font-family:Menlo,'DejaVu Sans Mono',consolas,'Courier New',monospace\"><span style=\"font-weight: bold\"> Trainable params: </span><span style=\"color: #00af00; text-decoration-color: #00af00\">0</span> (0.00 B)\n",
              "</pre>\n"
            ]
          },
          "metadata": {}
        },
        {
          "output_type": "display_data",
          "data": {
            "text/plain": [
              "\u001b[1m Non-trainable params: \u001b[0m\u001b[38;5;34m0\u001b[0m (0.00 B)\n"
            ],
            "text/html": [
              "<pre style=\"white-space:pre;overflow-x:auto;line-height:normal;font-family:Menlo,'DejaVu Sans Mono',consolas,'Courier New',monospace\"><span style=\"font-weight: bold\"> Non-trainable params: </span><span style=\"color: #00af00; text-decoration-color: #00af00\">0</span> (0.00 B)\n",
              "</pre>\n"
            ]
          },
          "metadata": {}
        }
      ],
      "source": [
        "\n",
        "\n",
        "vocab_size = len(tokenizer.word_index) + 1\n",
        "embedding_dim = 128\n",
        "max_sequence_length = 1000\n",
        "num_classes = len(label_encoder.classes_)\n",
        "\n",
        "model = Sequential()\n",
        "model.add(Embedding(input_dim=vocab_size, output_dim=embedding_dim, input_length=max_sequence_length))\n",
        "model.add(Bidirectional(LSTM(128)))\n",
        "model.add(Dense(64, activation='relu'))\n",
        "model.add(Dense(num_classes, activation='softmax'))\n",
        "\n",
        "model.summary()\n",
        "\n",
        "model.compile(optimizer='adam', loss='sparse_categorical_crossentropy', metrics=['accuracy'])\n"
      ]
    },
    {
      "cell_type": "markdown",
      "metadata": {
        "id": "57DXwqqQTloy"
      },
      "source": [
        "# Defining Batch Size, Creating Datasets, and Training the Model"
      ]
    },
    {
      "cell_type": "markdown",
      "metadata": {
        "id": "LEOvs_dETmQp"
      },
      "source": [
        "In this step, you will define the batch size, create TensorFlow Datasets for both training and testing, and train the model. The key elements to consider are outlined below, and it is up to you to choose the specific configurations based on your preferences and experimentation:\n",
        "\n",
        "1. **Batch Size**:\n",
        "   Select a batch size for training and testing. The batch size determines how many samples will be processed together in one forward and backward pass during training.\n",
        "\n",
        "2. **Creating Datasets**:\n",
        "   Use TensorFlow’s `Dataset.from_tensor_slices()` to create datasets from the training and testing data.\n",
        "\n",
        "3. **Batching the Datasets**:\n",
        "   Batch the datasets by grouping the data into batches of the specified size.\n",
        "\n",
        "4. **Training the Model**:\n",
        "   Train the model by fitting it on the training dataset for a specified number of epochs. You will also need to provide the validation data to monitor the model’s performance on unseen data during training.\n",
        "\n",
        "5. **Tracking Training History**:\n",
        "   During training, the model’s performance metrics (such as loss and accuracy) will be tracked over the epochs, and the results will be stored in the `history` object."
      ]
    },
    {
      "cell_type": "code",
      "execution_count": 22,
      "metadata": {
        "id": "o6unhJgFfQbM",
        "colab": {
          "base_uri": "https://localhost:8080/"
        },
        "outputId": "9ab59caf-3d86-42cb-c453-0e8f3ff314ab"
      },
      "outputs": [
        {
          "output_type": "stream",
          "name": "stdout",
          "text": [
            "Epoch 1/10\n",
            "\u001b[1m998/998\u001b[0m \u001b[32m━━━━━━━━━━━━━━━━━━━━\u001b[0m\u001b[37m\u001b[0m \u001b[1m90s\u001b[0m 83ms/step - accuracy: 0.7586 - loss: 0.6479 - val_accuracy: 0.9570 - val_loss: 0.1450\n",
            "Epoch 2/10\n",
            "\u001b[1m998/998\u001b[0m \u001b[32m━━━━━━━━━━━━━━━━━━━━\u001b[0m\u001b[37m\u001b[0m \u001b[1m138s\u001b[0m 82ms/step - accuracy: 0.9608 - loss: 0.1395 - val_accuracy: 0.9445 - val_loss: 0.1988\n",
            "Epoch 3/10\n",
            "\u001b[1m998/998\u001b[0m \u001b[32m━━━━━━━━━━━━━━━━━━━━\u001b[0m\u001b[37m\u001b[0m \u001b[1m83s\u001b[0m 83ms/step - accuracy: 0.9833 - loss: 0.0607 - val_accuracy: 0.9554 - val_loss: 0.1661\n",
            "Epoch 4/10\n",
            "\u001b[1m998/998\u001b[0m \u001b[32m━━━━━━━━━━━━━━━━━━━━\u001b[0m\u001b[37m\u001b[0m \u001b[1m143s\u001b[0m 84ms/step - accuracy: 0.9889 - loss: 0.0412 - val_accuracy: 0.9534 - val_loss: 0.1822\n",
            "Epoch 5/10\n",
            "\u001b[1m998/998\u001b[0m \u001b[32m━━━━━━━━━━━━━━━━━━━━\u001b[0m\u001b[37m\u001b[0m \u001b[1m81s\u001b[0m 81ms/step - accuracy: 0.9930 - loss: 0.0272 - val_accuracy: 0.9473 - val_loss: 0.2249\n",
            "Epoch 6/10\n",
            "\u001b[1m998/998\u001b[0m \u001b[32m━━━━━━━━━━━━━━━━━━━━\u001b[0m\u001b[37m\u001b[0m \u001b[1m82s\u001b[0m 82ms/step - accuracy: 0.9914 - loss: 0.0287 - val_accuracy: 0.9626 - val_loss: 0.1890\n",
            "Epoch 7/10\n",
            "\u001b[1m998/998\u001b[0m \u001b[32m━━━━━━━━━━━━━━━━━━━━\u001b[0m\u001b[37m\u001b[0m \u001b[1m83s\u001b[0m 83ms/step - accuracy: 0.9940 - loss: 0.0244 - val_accuracy: 0.9596 - val_loss: 0.1895\n",
            "Epoch 8/10\n",
            "\u001b[1m998/998\u001b[0m \u001b[32m━━━━━━━━━━━━━━━━━━━━\u001b[0m\u001b[37m\u001b[0m \u001b[1m82s\u001b[0m 82ms/step - accuracy: 0.9967 - loss: 0.0147 - val_accuracy: 0.9600 - val_loss: 0.2013\n",
            "Epoch 9/10\n",
            "\u001b[1m998/998\u001b[0m \u001b[32m━━━━━━━━━━━━━━━━━━━━\u001b[0m\u001b[37m\u001b[0m \u001b[1m83s\u001b[0m 83ms/step - accuracy: 0.9965 - loss: 0.0120 - val_accuracy: 0.9586 - val_loss: 0.1991\n",
            "Epoch 10/10\n",
            "\u001b[1m998/998\u001b[0m \u001b[32m━━━━━━━━━━━━━━━━━━━━\u001b[0m\u001b[37m\u001b[0m \u001b[1m143s\u001b[0m 83ms/step - accuracy: 0.9967 - loss: 0.0103 - val_accuracy: 0.9593 - val_loss: 0.2093\n"
          ]
        }
      ],
      "source": [
        "import tensorflow as tf\n",
        "\n",
        "batch_size = 32\n",
        "epochs = 10\n",
        "\n",
        "train_dataset = tf.data.Dataset.from_tensor_slices((X_train, y_train)).batch(batch_size)\n",
        "test_dataset = tf.data.Dataset.from_tensor_slices((X_test, y_test)).batch(batch_size)\n",
        "\n",
        "history = model.fit(train_dataset, epochs=epochs, validation_data=test_dataset)\n"
      ]
    },
    {
      "cell_type": "markdown",
      "metadata": {
        "id": "XmoJfr3nfP-n"
      },
      "source": [
        "# Model Evaluation"
      ]
    },
    {
      "cell_type": "markdown",
      "metadata": {
        "id": "2Gb8G9XiT-ec"
      },
      "source": [
        "Once the model is trained, the next step is to evaluate its performance on the testing dataset.\n",
        "\n",
        "1. **Evaluate the Model**:\n",
        "   You will use the `evaluate()` method to assess the model’s performance on the test dataset.\n",
        "\n",
        "2. **Testing Dataset**:\n",
        "   Ensure that the testing dataset is properly prepared and batched, just like the training dataset.\n",
        "\n",
        "4. **Loss Curve**:\n",
        "   A loss curve plots the loss values for both the training and validation datasets over the epochs."
      ]
    },
    {
      "cell_type": "code",
      "execution_count": 57,
      "metadata": {
        "id": "SdECXvQGUQae",
        "colab": {
          "base_uri": "https://localhost:8080/"
        },
        "outputId": "fe74c068-0135-4da9-9d50-ce07999062c2"
      },
      "outputs": [
        {
          "output_type": "stream",
          "name": "stdout",
          "text": [
            "\u001b[1m250/250\u001b[0m \u001b[32m━━━━━━━━━━━━━━━━━━━━\u001b[0m\u001b[37m\u001b[0m \u001b[1m7s\u001b[0m 29ms/step - accuracy: 0.9610 - loss: 0.1946\n",
            "Test Loss: 0.2092924863100052\n",
            "Test Accuracy: 0.9592578411102295\n"
          ]
        }
      ],
      "source": [
        "import matplotlib.pyplot as plt\n",
        "\n",
        "test_loss, test_accuracy = model.evaluate(test_dataset)\n",
        "\n",
        "print(f\"Test Loss: {test_loss}\")\n",
        "print(f\"Test Accuracy: {test_accuracy}\")\n",
        "\n",
        "history_dict = history.history\n",
        "epochs = range(1, len(history_dict['loss']) + 1)\n",
        "\n"
      ]
    },
    {
      "cell_type": "code",
      "source": [
        "plt.figure(figsize=(12, 6))\n",
        "plt.plot(epochs, history_dict['accuracy'], 'r', label='Training accuracy')\n",
        "plt.plot(epochs, history_dict['val_accuracy'],'b', label='Validation accuracy')\n",
        "plt.title('Training and Validation ')\n",
        "plt.xlabel('Epochs')\n",
        "plt.ylabel('')\n",
        "plt.legend()\n",
        "\n",
        "plt.show()\n"
      ],
      "metadata": {
        "colab": {
          "base_uri": "https://localhost:8080/",
          "height": 564
        },
        "id": "IcDkdryfvn5A",
        "outputId": "5d8c7fb0-2cfa-4a7c-d77f-5cdf98e2dcb7"
      },
      "execution_count": 62,
      "outputs": [
        {
          "output_type": "display_data",
          "data": {
            "text/plain": [
              "<Figure size 1200x600 with 1 Axes>"
            ],
            "image/png": "[encoded data removed]"
          },
          "metadata": {}
        }
      ]
    },
    {
      "cell_type": "markdown",
      "metadata": {
        "id": "ifx5RFxnUQqc"
      },
      "source": [
        "# Model Inference"
      ]
    },
    {
      "cell_type": "markdown",
      "metadata": {
        "id": "sVh0WCBoUSlP"
      },
      "source": [
        "In this step, you will use the trained model to make predictions on new, unseen data (inference). Here’s an outline of the key points:\n",
        "\n",
        "1. **Create Test Sample**:\n",
        "   Create a string to test your modelm the goal here is to give the model Before making predictions, ensure that the new data is preprocessed in the same way as the training data. This includes tokenization, padding, and any other transformations you applied during the data preprocessing step. The data can be single text to see the result of the prediction.\n",
        "\n",
        "2. **Model Prediction**:\n",
        "   Use the `predict()` method to feed new samples into the trained model and obtain predictions. The model will output probabilities or predicted class labels based on the type of classification task (binary or multi-class).\n",
        "\n",
        "3. **Interpreting Predictions**:\n",
        "   The model will return probabilities for each class."
      ]
    },
    {
      "cell_type": "code",
      "source": [
        "df[\"label\"].value_counts()"
      ],
      "metadata": {
        "colab": {
          "base_uri": "https://localhost:8080/",
          "height": 335
        },
        "id": "g3zAXSdOq8Cb",
        "outputId": "d2761e3c-016b-4a8d-b059-79bb609fb5ad"
      },
      "execution_count": 48,
      "outputs": [
        {
          "output_type": "execute_result",
          "data": {
            "text/plain": [
              "label\n",
              "Politics    6334\n",
              "Medical     6292\n",
              "Culture     6098\n",
              "Finance     6095\n",
              "Tech        5979\n",
              "Sports      5859\n",
              "Religion    3228\n",
              "Name: count, dtype: int64"
            ],
            "text/html": [
              "<div>\n",
              "<style scoped>\n",
              "    .dataframe tbody tr th:only-of-type {\n",
              "        vertical-align: middle;\n",
              "    }\n",
              "\n",
              "    .dataframe tbody tr th {\n",
              "        vertical-align: top;\n",
              "    }\n",
              "\n",
              "    .dataframe thead th {\n",
              "        text-align: right;\n",
              "    }\n",
              "</style>\n",
              "<table border=\"1\" class=\"dataframe\">\n",
              "  <thead>\n",
              "    <tr style=\"text-align: right;\">\n",
              "      <th></th>\n",
              "      <th>count</th>\n",
              "    </tr>\n",
              "    <tr>\n",
              "      <th>label</th>\n",
              "      <th></th>\n",
              "    </tr>\n",
              "  </thead>\n",
              "  <tbody>\n",
              "    <tr>\n",
              "      <th>Politics</th>\n",
              "      <td>6334</td>\n",
              "    </tr>\n",
              "    <tr>\n",
              "      <th>Medical</th>\n",
              "      <td>6292</td>\n",
              "    </tr>\n",
              "    <tr>\n",
              "      <th>Culture</th>\n",
              "      <td>6098</td>\n",
              "    </tr>\n",
              "    <tr>\n",
              "      <th>Finance</th>\n",
              "      <td>6095</td>\n",
              "    </tr>\n",
              "    <tr>\n",
              "      <th>Tech</th>\n",
              "      <td>5979</td>\n",
              "    </tr>\n",
              "    <tr>\n",
              "      <th>Sports</th>\n",
              "      <td>5859</td>\n",
              "    </tr>\n",
              "    <tr>\n",
              "      <th>Religion</th>\n",
              "      <td>3228</td>\n",
              "    </tr>\n",
              "  </tbody>\n",
              "</table>\n",
              "</div><br><label><b>dtype:</b> int64</label>"
            ]
          },
          "metadata": {},
          "execution_count": 48
        }
      ]
    },
    {
      "cell_type": "code",
      "execution_count": 54,
      "metadata": {
        "id": "2XiahrhffR0J",
        "colab": {
          "base_uri": "https://localhost:8080/"
        },
        "outputId": "ce69e572-c23b-4579-b7a3-ff37bf695f77"
      },
      "outputs": [
        {
          "output_type": "stream",
          "name": "stdout",
          "text": [
            "\u001b[1m1/1\u001b[0m \u001b[32m━━━━━━━━━━━━━━━━━━━━\u001b[0m\u001b[37m\u001b[0m \u001b[1m0s\u001b[0m 35ms/step\n",
            "Predicted Label: Politics\n"
          ]
        }
      ],
      "source": [
        "import numpy as np\n",
        "\n",
        "test_sample = 'وزير الصومال يقرأ القرأن'\n",
        "test_sample=clean_text(test_sample)\n",
        "test_sequence = tokenizer.texts_to_sequences([test_sample])\n",
        "padded_test_sequence = pad_sequences(test_sequence, maxlen=max_sequence_length, padding='post')\n",
        "\n",
        "predictions = model.predict(padded_test_sequence)\n",
        "predicted_class = np.argmax(predictions, axis=1)\n",
        "\n",
        "predicted_label = label_encoder.inverse_transform(predicted_class)\n",
        "print(f\"Predicted Label: {predicted_label[0]}\")\n"
      ]
    },
    {
      "cell_type": "markdown",
      "metadata": {
        "id": "fHbgQVrt43DQ"
      },
      "source": [
        "# Notebook Question:\n",
        "- How did you handle text preprocessing? Why did you choose this approach?\n",
        "\n",
        "- Why did you choose this model design?\n",
        "\n",
        "- Why did you pick this number of layers or units for the model?\n",
        "\n",
        "- Why did you select these evaluation methods?\n",
        "\n",
        "- Does your model show signs of overfitting or underfitting? How do you know?\n",
        "\n",
        "- What changes could you make to improve the model and fix overfitting or underfitting?"
      ]
    },
    {
      "cell_type": "markdown",
      "metadata": {
        "id": "x7vOe0JZ43DQ"
      },
      "source": [
        "Answer Here:"
      ]
    },
    {
      "cell_type": "markdown",
      "source": [
        "Notebook Question:\n",
        "\n",
        "How did you handle text preprocessing? Why did you choose this approach?\n",
        "\n",
        ">I cleaned the data using regular expressions to handle unnecessary patterns and used the araby library to address special Arabic patterns. Applied this to all rows.\n",
        "\n",
        "Why did you choose this model design?\n",
        "\n",
        ">It fits the classification task I’m working on.\n",
        "\n",
        "Why did you pick this number of layers or units for the model?\n",
        "\n",
        ">NLP tasks don’t need many layers. I used:\n",
        "Bidirectional because it suits the task.\n",
        "\n",
        "Why did you select these evaluation methods?\n",
        "\n",
        ">I evaluated multi-class classification with accuracy and loss, comparing training and validation to check for overfitting.\n",
        "\n",
        "Does your model show signs of overfitting or underfitting? How do you know?\n",
        "\n",
        ">the model accuracy in training and validation does not show any sign of overfitting\n",
        "\n",
        "\n",
        "\n",
        "\n",
        "\n",
        "\n",
        "\n",
        "\n",
        "\n",
        "\n"
      ],
      "metadata": {
        "id": "plrlHyRcuSTN"
      }
    }
  ],
  "metadata": {
    "accelerator": "GPU",
    "colab": {
      "gpuType": "T4",
      "provenance": []
    },
    "kernelspec": {
      "display_name": "Python 3",
      "name": "python3"
    },
    "language_info": {
      "name": "python"
    }
  },
  "nbformat": 4,
  "nbformat_minor": 0
}